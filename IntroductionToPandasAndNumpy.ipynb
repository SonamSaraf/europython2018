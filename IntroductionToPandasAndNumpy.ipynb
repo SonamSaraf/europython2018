{
 "cells": [
  {
   "cell_type": "markdown",
   "metadata": {},
   "source": [
    "# Introduction to Pandas and Numpy\n",
    "\n",
    "**Nick Radcliffe.** Europython 2018. Monday 23rd July."
   ]
  },
  {
   "cell_type": "markdown",
   "metadata": {},
   "source": [
    "## Background"
   ]
  },
  {
   "cell_type": "markdown",
   "metadata": {},
   "source": [
    "  * **Numpy and SciPy**\n",
    "      * Numpy & Scipy are fast, powerful, stable libraries for numerical and scientific computing in Python, providing excellent C-like performance\n",
    "      * They are probably the biggest reason Python has gained the success it has in Data Science\n",
    "      * The are incredibly widely used, including by SciKit Learn\n",
    "      * Initially created by Travis Oliphant (thanks, Travis!)\n",
    "      * Excellent documentation\n",
    "  * **Pronunciation**\n",
    "      * It's a free country: you can pronounce them however you like. That said:\n",
    "          * Numpy: NUM-PIE, (not NUM-PEE!)\n",
    "          * SciPy: SIGH-PIE, (definitely not SKIPPY!!)\n",
    "          * SciKit Learn: SIGH-KIT-LURN, (definitely, definitely not PSYCHIC LEARN!!!)\n",
    "  * **Pandas**\n",
    "      * Provides (column) database-style access to Numpy and Numpy-like data structures and adds further data-science-friendly operations.\n",
    "      * Very widely used in data science.\n",
    "      * Under active development; not particularly stable\n",
    "      * Famously terrible documentation (but there are ongoing efforts to improve, including at sprints)\n",
    "      * Initially created by Wes McKinney\n",
    "      "
   ]
  },
  {
   "cell_type": "markdown",
   "metadata": {},
   "source": [
    "## Basics"
   ]
  },
  {
   "cell_type": "markdown",
   "metadata": {},
   "source": [
    "Most people import pandas as pd."
   ]
  },
  {
   "cell_type": "code",
   "execution_count": 2,
   "metadata": {},
   "outputs": [],
   "source": [
    "import pandas as pd"
   ]
  },
  {
   "cell_type": "markdown",
   "metadata": {},
   "source": [
    "Pandas includes numpy as `np`, and it's convenient to have this available directly:"
   ]
  },
  {
   "cell_type": "code",
   "execution_count": 3,
   "metadata": {},
   "outputs": [],
   "source": [
    "np = pd.np"
   ]
  },
  {
   "cell_type": "markdown",
   "metadata": {},
   "source": [
    "A pandas DataFrame is quite like a database table, with named columns, eavh having a type, and values in different rows. Or you can think of it as being like a spreadsheet with column names in the top row and data of the same type in each column. The columns are all the same length.\n",
    "\n",
    "We can create a Pandas DataFrame from Python lists, so we'll create a few of those."
   ]
  },
  {
   "cell_type": "code",
   "execution_count": 4,
   "metadata": {},
   "outputs": [],
   "source": [
    "numbers = list(range(10))"
   ]
  },
  {
   "cell_type": "code",
   "execution_count": 5,
   "metadata": {},
   "outputs": [
    {
     "data": {
      "text/plain": [
       "[0, 1, 2, 3, 4, 5, 6, 7, 8, 9]"
      ]
     },
     "execution_count": 5,
     "metadata": {},
     "output_type": "execute_result"
    }
   ],
   "source": [
    "numbers"
   ]
  },
  {
   "cell_type": "code",
   "execution_count": 6,
   "metadata": {},
   "outputs": [],
   "source": [
    "squares = [i * i for i in numbers]"
   ]
  },
  {
   "cell_type": "code",
   "execution_count": 7,
   "metadata": {},
   "outputs": [
    {
     "data": {
      "text/plain": [
       "[0, 1, 4, 9, 16, 25, 36, 49, 64, 81]"
      ]
     },
     "execution_count": 7,
     "metadata": {},
     "output_type": "execute_result"
    }
   ],
   "source": [
    "squares"
   ]
  },
  {
   "cell_type": "code",
   "execution_count": 8,
   "metadata": {},
   "outputs": [],
   "source": [
    "cubes = [float(i * i * i) for i in numbers]"
   ]
  },
  {
   "cell_type": "code",
   "execution_count": 9,
   "metadata": {},
   "outputs": [
    {
     "data": {
      "text/plain": [
       "[0.0, 1.0, 8.0, 27.0, 64.0, 125.0, 216.0, 343.0, 512.0, 729.0]"
      ]
     },
     "execution_count": 9,
     "metadata": {},
     "output_type": "execute_result"
    }
   ],
   "source": [
    "cubes"
   ]
  },
  {
   "cell_type": "code",
   "execution_count": 10,
   "metadata": {},
   "outputs": [],
   "source": [
    "strings = ['s%d' % n for n in numbers]"
   ]
  },
  {
   "cell_type": "code",
   "execution_count": 11,
   "metadata": {},
   "outputs": [
    {
     "data": {
      "text/plain": [
       "['s0', 's1', 's2', 's3', 's4', 's5', 's6', 's7', 's8', 's9']"
      ]
     },
     "execution_count": 11,
     "metadata": {},
     "output_type": "execute_result"
    }
   ],
   "source": [
    "strings"
   ]
  },
  {
   "cell_type": "markdown",
   "metadata": {},
   "source": [
    "We can create a DataFrame from a Python dictionary whose keys are the column names we want, and whose values are lists of Python values. We create such a dictionary below. We're choosing the singular form for the column names because, which is slightly more natural when we start using the DataFrame."
   ]
  },
  {
   "cell_type": "code",
   "execution_count": 12,
   "metadata": {},
   "outputs": [],
   "source": [
    "d = {'number': numbers, 'square': squares, 'cube': cubes, 'string': strings}"
   ]
  },
  {
   "cell_type": "code",
   "execution_count": 13,
   "metadata": {},
   "outputs": [
    {
     "data": {
      "text/plain": [
       "{'number': [0, 1, 2, 3, 4, 5, 6, 7, 8, 9],\n",
       " 'square': [0, 1, 4, 9, 16, 25, 36, 49, 64, 81],\n",
       " 'cube': [0.0, 1.0, 8.0, 27.0, 64.0, 125.0, 216.0, 343.0, 512.0, 729.0],\n",
       " 'string': ['s0', 's1', 's2', 's3', 's4', 's5', 's6', 's7', 's8', 's9']}"
      ]
     },
     "execution_count": 13,
     "metadata": {},
     "output_type": "execute_result"
    }
   ],
   "source": [
    "d"
   ]
  },
  {
   "cell_type": "markdown",
   "metadata": {},
   "source": [
    "## Creating a DataFrame from a Python Dictionary\n",
    "\n",
    "We can create a DataFrame simply by passing in the Python dictionary:"
   ]
  },
  {
   "cell_type": "code",
   "execution_count": 14,
   "metadata": {},
   "outputs": [],
   "source": [
    "df = pd.DataFrame(d)"
   ]
  },
  {
   "cell_type": "markdown",
   "metadata": {},
   "source": [
    "## Basic DataFrame Access"
   ]
  },
  {
   "cell_type": "code",
   "execution_count": 15,
   "metadata": {},
   "outputs": [
    {
     "data": {
      "text/html": [
       "<div>\n",
       "<style scoped>\n",
       "    .dataframe tbody tr th:only-of-type {\n",
       "        vertical-align: middle;\n",
       "    }\n",
       "\n",
       "    .dataframe tbody tr th {\n",
       "        vertical-align: top;\n",
       "    }\n",
       "\n",
       "    .dataframe thead th {\n",
       "        text-align: right;\n",
       "    }\n",
       "</style>\n",
       "<table border=\"1\" class=\"dataframe\">\n",
       "  <thead>\n",
       "    <tr style=\"text-align: right;\">\n",
       "      <th></th>\n",
       "      <th>number</th>\n",
       "      <th>square</th>\n",
       "      <th>cube</th>\n",
       "      <th>string</th>\n",
       "    </tr>\n",
       "  </thead>\n",
       "  <tbody>\n",
       "    <tr>\n",
       "      <th>0</th>\n",
       "      <td>0</td>\n",
       "      <td>0</td>\n",
       "      <td>0.0</td>\n",
       "      <td>s0</td>\n",
       "    </tr>\n",
       "    <tr>\n",
       "      <th>1</th>\n",
       "      <td>1</td>\n",
       "      <td>1</td>\n",
       "      <td>1.0</td>\n",
       "      <td>s1</td>\n",
       "    </tr>\n",
       "    <tr>\n",
       "      <th>2</th>\n",
       "      <td>2</td>\n",
       "      <td>4</td>\n",
       "      <td>8.0</td>\n",
       "      <td>s2</td>\n",
       "    </tr>\n",
       "    <tr>\n",
       "      <th>3</th>\n",
       "      <td>3</td>\n",
       "      <td>9</td>\n",
       "      <td>27.0</td>\n",
       "      <td>s3</td>\n",
       "    </tr>\n",
       "    <tr>\n",
       "      <th>4</th>\n",
       "      <td>4</td>\n",
       "      <td>16</td>\n",
       "      <td>64.0</td>\n",
       "      <td>s4</td>\n",
       "    </tr>\n",
       "    <tr>\n",
       "      <th>5</th>\n",
       "      <td>5</td>\n",
       "      <td>25</td>\n",
       "      <td>125.0</td>\n",
       "      <td>s5</td>\n",
       "    </tr>\n",
       "    <tr>\n",
       "      <th>6</th>\n",
       "      <td>6</td>\n",
       "      <td>36</td>\n",
       "      <td>216.0</td>\n",
       "      <td>s6</td>\n",
       "    </tr>\n",
       "    <tr>\n",
       "      <th>7</th>\n",
       "      <td>7</td>\n",
       "      <td>49</td>\n",
       "      <td>343.0</td>\n",
       "      <td>s7</td>\n",
       "    </tr>\n",
       "    <tr>\n",
       "      <th>8</th>\n",
       "      <td>8</td>\n",
       "      <td>64</td>\n",
       "      <td>512.0</td>\n",
       "      <td>s8</td>\n",
       "    </tr>\n",
       "    <tr>\n",
       "      <th>9</th>\n",
       "      <td>9</td>\n",
       "      <td>81</td>\n",
       "      <td>729.0</td>\n",
       "      <td>s9</td>\n",
       "    </tr>\n",
       "  </tbody>\n",
       "</table>\n",
       "</div>"
      ],
      "text/plain": [
       "   number  square   cube string\n",
       "0       0       0    0.0     s0\n",
       "1       1       1    1.0     s1\n",
       "2       2       4    8.0     s2\n",
       "3       3       9   27.0     s3\n",
       "4       4      16   64.0     s4\n",
       "5       5      25  125.0     s5\n",
       "6       6      36  216.0     s6\n",
       "7       7      49  343.0     s7\n",
       "8       8      64  512.0     s8\n",
       "9       9      81  729.0     s9"
      ]
     },
     "execution_count": 15,
     "metadata": {},
     "output_type": "execute_result"
    }
   ],
   "source": [
    "df"
   ]
  },
  {
   "cell_type": "markdown",
   "metadata": {},
   "source": [
    "The first thing to notice here is that in addition to the values we put in, now arranged in columns, we have (in bold) a kind of row number. This is the **index** for the DataFrame, which gives us a way of referring to particular rows."
   ]
  },
  {
   "cell_type": "code",
   "execution_count": 16,
   "metadata": {},
   "outputs": [
    {
     "data": {
      "text/plain": [
       "RangeIndex(start=0, stop=10, step=1)"
      ]
     },
     "execution_count": 16,
     "metadata": {},
     "output_type": "execute_result"
    }
   ],
   "source": [
    "df.index"
   ]
  },
  {
   "cell_type": "markdown",
   "metadata": {},
   "source": [
    "We can use the ``.loc`` property to index pull out on or more rows from a DataFrame."
   ]
  },
  {
   "cell_type": "code",
   "execution_count": 17,
   "metadata": {},
   "outputs": [
    {
     "data": {
      "text/plain": [
       "number     3\n",
       "square     9\n",
       "cube      27\n",
       "string    s3\n",
       "Name: 3, dtype: object"
      ]
     },
     "execution_count": 17,
     "metadata": {},
     "output_type": "execute_result"
    }
   ],
   "source": [
    "df.loc[3]  # get the value from the row with index 3"
   ]
  },
  {
   "cell_type": "code",
   "execution_count": 18,
   "metadata": {},
   "outputs": [
    {
     "data": {
      "text/html": [
       "<div>\n",
       "<style scoped>\n",
       "    .dataframe tbody tr th:only-of-type {\n",
       "        vertical-align: middle;\n",
       "    }\n",
       "\n",
       "    .dataframe tbody tr th {\n",
       "        vertical-align: top;\n",
       "    }\n",
       "\n",
       "    .dataframe thead th {\n",
       "        text-align: right;\n",
       "    }\n",
       "</style>\n",
       "<table border=\"1\" class=\"dataframe\">\n",
       "  <thead>\n",
       "    <tr style=\"text-align: right;\">\n",
       "      <th></th>\n",
       "      <th>number</th>\n",
       "      <th>square</th>\n",
       "      <th>cube</th>\n",
       "      <th>string</th>\n",
       "    </tr>\n",
       "  </thead>\n",
       "  <tbody>\n",
       "    <tr>\n",
       "      <th>4</th>\n",
       "      <td>4</td>\n",
       "      <td>16</td>\n",
       "      <td>64.0</td>\n",
       "      <td>s4</td>\n",
       "    </tr>\n",
       "    <tr>\n",
       "      <th>5</th>\n",
       "      <td>5</td>\n",
       "      <td>25</td>\n",
       "      <td>125.0</td>\n",
       "      <td>s5</td>\n",
       "    </tr>\n",
       "    <tr>\n",
       "      <th>6</th>\n",
       "      <td>6</td>\n",
       "      <td>36</td>\n",
       "      <td>216.0</td>\n",
       "      <td>s6</td>\n",
       "    </tr>\n",
       "  </tbody>\n",
       "</table>\n",
       "</div>"
      ],
      "text/plain": [
       "   number  square   cube string\n",
       "4       4      16   64.0     s4\n",
       "5       5      25  125.0     s5\n",
       "6       6      36  216.0     s6"
      ]
     },
     "execution_count": 18,
     "metadata": {},
     "output_type": "execute_result"
    }
   ],
   "source": [
    "df.loc[4:6]  # rows 4 to 6 INCLUSIVE"
   ]
  },
  {
   "cell_type": "markdown",
   "metadata": {},
   "source": [
    "**NB:** Unlike Python, the end value in a range specified by ``.loc`` **includes** the last index specified."
   ]
  },
  {
   "cell_type": "markdown",
   "metadata": {},
   "source": [
    "We can refer to columns in the DataFrame by name in two different ways. We can use dot notation:"
   ]
  },
  {
   "cell_type": "code",
   "execution_count": 19,
   "metadata": {},
   "outputs": [
    {
     "data": {
      "text/plain": [
       "0     0\n",
       "1     1\n",
       "2     4\n",
       "3     9\n",
       "4    16\n",
       "5    25\n",
       "6    36\n",
       "7    49\n",
       "8    64\n",
       "9    81\n",
       "Name: square, dtype: int64"
      ]
     },
     "execution_count": 19,
     "metadata": {},
     "output_type": "execute_result"
    }
   ],
   "source": [
    "df.square"
   ]
  },
  {
   "cell_type": "markdown",
   "metadata": {},
   "source": [
    "Notice that column has a ``dtype`` of ``int64``, which is similar to Python's ``int``, but **all** value in the column must share this type (which isn't the case for a Python list).\n",
    "We can also access the ``dtype`` as a property on the column:"
   ]
  },
  {
   "cell_type": "code",
   "execution_count": 20,
   "metadata": {},
   "outputs": [
    {
     "data": {
      "text/plain": [
       "dtype('int64')"
      ]
     },
     "execution_count": 20,
     "metadata": {},
     "output_type": "execute_result"
    }
   ],
   "source": [
    "df.square.dtype"
   ]
  },
  {
   "cell_type": "markdown",
   "metadata": {},
   "source": [
    "Another way to refer to the column is with ``[]`` (dictionary lookup) syntax:"
   ]
  },
  {
   "cell_type": "code",
   "execution_count": 21,
   "metadata": {},
   "outputs": [
    {
     "data": {
      "text/plain": [
       "0    s0\n",
       "1    s1\n",
       "2    s2\n",
       "3    s3\n",
       "4    s4\n",
       "5    s5\n",
       "6    s6\n",
       "7    s7\n",
       "8    s8\n",
       "9    s9\n",
       "Name: string, dtype: object"
      ]
     },
     "execution_count": 21,
     "metadata": {},
     "output_type": "execute_result"
    }
   ],
   "source": [
    "df['string']"
   ]
  },
  {
   "cell_type": "markdown",
   "metadata": {},
   "source": [
    "**NB:** Strings are stored as dtype ``object``, which is ``dtype('O')``"
   ]
  },
  {
   "cell_type": "code",
   "execution_count": 22,
   "metadata": {},
   "outputs": [
    {
     "data": {
      "text/plain": [
       "dtype('O')"
      ]
     },
     "execution_count": 22,
     "metadata": {},
     "output_type": "execute_result"
    }
   ],
   "source": [
    "df.string.dtype"
   ]
  },
  {
   "cell_type": "markdown",
   "metadata": {},
   "source": [
    "A few other useful things to know about DataFrames:"
   ]
  },
  {
   "cell_type": "code",
   "execution_count": 23,
   "metadata": {},
   "outputs": [
    {
     "data": {
      "text/plain": [
       "['number', 'square', 'cube', 'string']"
      ]
     },
     "execution_count": 23,
     "metadata": {},
     "output_type": "execute_result"
    }
   ],
   "source": [
    "list(df)   # gets a list of the column names"
   ]
  },
  {
   "cell_type": "code",
   "execution_count": 24,
   "metadata": {},
   "outputs": [
    {
     "data": {
      "text/plain": [
       "10"
      ]
     },
     "execution_count": 24,
     "metadata": {},
     "output_type": "execute_result"
    }
   ],
   "source": [
    "len(df) # gets the number of rows"
   ]
  },
  {
   "cell_type": "code",
   "execution_count": 25,
   "metadata": {},
   "outputs": [
    {
     "data": {
      "text/plain": [
       "40"
      ]
     },
     "execution_count": 25,
     "metadata": {},
     "output_type": "execute_result"
    }
   ],
   "source": [
    "df.size  # gets the number of \"cells\" in the DataFrame"
   ]
  },
  {
   "cell_type": "markdown",
   "metadata": {},
   "source": [
    "## Getting Summary Information about Numeric Columns\n",
    "\n",
    "We can get basic information about the numeric columns in a DataFrame with the ``.describe()`` method:\n"
   ]
  },
  {
   "cell_type": "code",
   "execution_count": 26,
   "metadata": {},
   "outputs": [
    {
     "data": {
      "text/html": [
       "<div>\n",
       "<style scoped>\n",
       "    .dataframe tbody tr th:only-of-type {\n",
       "        vertical-align: middle;\n",
       "    }\n",
       "\n",
       "    .dataframe tbody tr th {\n",
       "        vertical-align: top;\n",
       "    }\n",
       "\n",
       "    .dataframe thead th {\n",
       "        text-align: right;\n",
       "    }\n",
       "</style>\n",
       "<table border=\"1\" class=\"dataframe\">\n",
       "  <thead>\n",
       "    <tr style=\"text-align: right;\">\n",
       "      <th></th>\n",
       "      <th>number</th>\n",
       "      <th>square</th>\n",
       "      <th>cube</th>\n",
       "    </tr>\n",
       "  </thead>\n",
       "  <tbody>\n",
       "    <tr>\n",
       "      <th>count</th>\n",
       "      <td>10.00000</td>\n",
       "      <td>10.000000</td>\n",
       "      <td>10.000000</td>\n",
       "    </tr>\n",
       "    <tr>\n",
       "      <th>mean</th>\n",
       "      <td>4.50000</td>\n",
       "      <td>28.500000</td>\n",
       "      <td>202.500000</td>\n",
       "    </tr>\n",
       "    <tr>\n",
       "      <th>std</th>\n",
       "      <td>3.02765</td>\n",
       "      <td>28.304888</td>\n",
       "      <td>251.294979</td>\n",
       "    </tr>\n",
       "    <tr>\n",
       "      <th>min</th>\n",
       "      <td>0.00000</td>\n",
       "      <td>0.000000</td>\n",
       "      <td>0.000000</td>\n",
       "    </tr>\n",
       "    <tr>\n",
       "      <th>25%</th>\n",
       "      <td>2.25000</td>\n",
       "      <td>5.250000</td>\n",
       "      <td>12.750000</td>\n",
       "    </tr>\n",
       "    <tr>\n",
       "      <th>50%</th>\n",
       "      <td>4.50000</td>\n",
       "      <td>20.500000</td>\n",
       "      <td>94.500000</td>\n",
       "    </tr>\n",
       "    <tr>\n",
       "      <th>75%</th>\n",
       "      <td>6.75000</td>\n",
       "      <td>45.750000</td>\n",
       "      <td>311.250000</td>\n",
       "    </tr>\n",
       "    <tr>\n",
       "      <th>max</th>\n",
       "      <td>9.00000</td>\n",
       "      <td>81.000000</td>\n",
       "      <td>729.000000</td>\n",
       "    </tr>\n",
       "  </tbody>\n",
       "</table>\n",
       "</div>"
      ],
      "text/plain": [
       "         number     square        cube\n",
       "count  10.00000  10.000000   10.000000\n",
       "mean    4.50000  28.500000  202.500000\n",
       "std     3.02765  28.304888  251.294979\n",
       "min     0.00000   0.000000    0.000000\n",
       "25%     2.25000   5.250000   12.750000\n",
       "50%     4.50000  20.500000   94.500000\n",
       "75%     6.75000  45.750000  311.250000\n",
       "max     9.00000  81.000000  729.000000"
      ]
     },
     "execution_count": 26,
     "metadata": {},
     "output_type": "execute_result"
    }
   ],
   "source": [
    "df.describe()"
   ]
  },
  {
   "cell_type": "markdown",
   "metadata": {},
   "source": [
    "We can get these values by **aggregating** individual columns too:"
   ]
  },
  {
   "cell_type": "code",
   "execution_count": 27,
   "metadata": {},
   "outputs": [
    {
     "data": {
      "text/plain": [
       "10"
      ]
     },
     "execution_count": 27,
     "metadata": {},
     "output_type": "execute_result"
    }
   ],
   "source": [
    "df.number.count()  # Note, this would not include any missing values, if there were any (see later)"
   ]
  },
  {
   "cell_type": "code",
   "execution_count": 28,
   "metadata": {},
   "outputs": [
    {
     "data": {
      "text/plain": [
       "28.5"
      ]
     },
     "execution_count": 28,
     "metadata": {},
     "output_type": "execute_result"
    }
   ],
   "source": [
    "df.square.mean()  # arithmetic mean (\"average\")"
   ]
  },
  {
   "cell_type": "code",
   "execution_count": 29,
   "metadata": {},
   "outputs": [
    {
     "data": {
      "text/plain": [
       "(0.0, 729.0)"
      ]
     },
     "execution_count": 29,
     "metadata": {},
     "output_type": "execute_result"
    }
   ],
   "source": [
    "df.cube.min(), df.cube.max()"
   ]
  },
  {
   "cell_type": "code",
   "execution_count": 30,
   "metadata": {},
   "outputs": [
    {
     "data": {
      "text/plain": [
       "2.25"
      ]
     },
     "execution_count": 30,
     "metadata": {},
     "output_type": "execute_result"
    }
   ],
   "source": [
    "df.number.quantile(.25)  # This gets the 25th percentile value"
   ]
  },
  {
   "cell_type": "code",
   "execution_count": 31,
   "metadata": {},
   "outputs": [
    {
     "data": {
      "text/plain": [
       "45"
      ]
     },
     "execution_count": 31,
     "metadata": {},
     "output_type": "execute_result"
    }
   ],
   "source": [
    "df.number.sum()"
   ]
  },
  {
   "cell_type": "markdown",
   "metadata": {},
   "source": [
    "We can do some similar things with string columns:"
   ]
  },
  {
   "cell_type": "code",
   "execution_count": 32,
   "metadata": {},
   "outputs": [
    {
     "data": {
      "text/plain": [
       "('s0', 's9')"
      ]
     },
     "execution_count": 32,
     "metadata": {},
     "output_type": "execute_result"
    }
   ],
   "source": [
    "df.string.min(), df.string.max()"
   ]
  },
  {
   "cell_type": "markdown",
   "metadata": {},
   "source": [
    "We'll be able to see a bit more if we add a couple of new columns"
   ]
  },
  {
   "cell_type": "markdown",
   "metadata": {},
   "source": [
    "## Adding and Deriving New Columns:\n",
    "\n",
    "We can insert another Python list as a new column:"
   ]
  },
  {
   "cell_type": "code",
   "execution_count": 33,
   "metadata": {},
   "outputs": [],
   "source": [
    "df['s2'] = list('ABBCCCDDDD')"
   ]
  },
  {
   "cell_type": "markdown",
   "metadata": {},
   "source": [
    "We can also treat columns as vectors and do many arithmetic operations directly on them."
   ]
  },
  {
   "cell_type": "code",
   "execution_count": 34,
   "metadata": {},
   "outputs": [],
   "source": [
    "df['rem'] = df.number % 3"
   ]
  },
  {
   "cell_type": "code",
   "execution_count": 35,
   "metadata": {},
   "outputs": [],
   "source": [
    "df['diff'] = df.cube - df.square"
   ]
  },
  {
   "cell_type": "code",
   "execution_count": 36,
   "metadata": {},
   "outputs": [
    {
     "data": {
      "text/html": [
       "<div>\n",
       "<style scoped>\n",
       "    .dataframe tbody tr th:only-of-type {\n",
       "        vertical-align: middle;\n",
       "    }\n",
       "\n",
       "    .dataframe tbody tr th {\n",
       "        vertical-align: top;\n",
       "    }\n",
       "\n",
       "    .dataframe thead th {\n",
       "        text-align: right;\n",
       "    }\n",
       "</style>\n",
       "<table border=\"1\" class=\"dataframe\">\n",
       "  <thead>\n",
       "    <tr style=\"text-align: right;\">\n",
       "      <th></th>\n",
       "      <th>number</th>\n",
       "      <th>square</th>\n",
       "      <th>cube</th>\n",
       "      <th>string</th>\n",
       "      <th>s2</th>\n",
       "      <th>rem</th>\n",
       "      <th>diff</th>\n",
       "    </tr>\n",
       "  </thead>\n",
       "  <tbody>\n",
       "    <tr>\n",
       "      <th>0</th>\n",
       "      <td>0</td>\n",
       "      <td>0</td>\n",
       "      <td>0.0</td>\n",
       "      <td>s0</td>\n",
       "      <td>A</td>\n",
       "      <td>0</td>\n",
       "      <td>0.0</td>\n",
       "    </tr>\n",
       "    <tr>\n",
       "      <th>1</th>\n",
       "      <td>1</td>\n",
       "      <td>1</td>\n",
       "      <td>1.0</td>\n",
       "      <td>s1</td>\n",
       "      <td>B</td>\n",
       "      <td>1</td>\n",
       "      <td>0.0</td>\n",
       "    </tr>\n",
       "    <tr>\n",
       "      <th>2</th>\n",
       "      <td>2</td>\n",
       "      <td>4</td>\n",
       "      <td>8.0</td>\n",
       "      <td>s2</td>\n",
       "      <td>B</td>\n",
       "      <td>2</td>\n",
       "      <td>4.0</td>\n",
       "    </tr>\n",
       "    <tr>\n",
       "      <th>3</th>\n",
       "      <td>3</td>\n",
       "      <td>9</td>\n",
       "      <td>27.0</td>\n",
       "      <td>s3</td>\n",
       "      <td>C</td>\n",
       "      <td>0</td>\n",
       "      <td>18.0</td>\n",
       "    </tr>\n",
       "    <tr>\n",
       "      <th>4</th>\n",
       "      <td>4</td>\n",
       "      <td>16</td>\n",
       "      <td>64.0</td>\n",
       "      <td>s4</td>\n",
       "      <td>C</td>\n",
       "      <td>1</td>\n",
       "      <td>48.0</td>\n",
       "    </tr>\n",
       "    <tr>\n",
       "      <th>5</th>\n",
       "      <td>5</td>\n",
       "      <td>25</td>\n",
       "      <td>125.0</td>\n",
       "      <td>s5</td>\n",
       "      <td>C</td>\n",
       "      <td>2</td>\n",
       "      <td>100.0</td>\n",
       "    </tr>\n",
       "    <tr>\n",
       "      <th>6</th>\n",
       "      <td>6</td>\n",
       "      <td>36</td>\n",
       "      <td>216.0</td>\n",
       "      <td>s6</td>\n",
       "      <td>D</td>\n",
       "      <td>0</td>\n",
       "      <td>180.0</td>\n",
       "    </tr>\n",
       "    <tr>\n",
       "      <th>7</th>\n",
       "      <td>7</td>\n",
       "      <td>49</td>\n",
       "      <td>343.0</td>\n",
       "      <td>s7</td>\n",
       "      <td>D</td>\n",
       "      <td>1</td>\n",
       "      <td>294.0</td>\n",
       "    </tr>\n",
       "    <tr>\n",
       "      <th>8</th>\n",
       "      <td>8</td>\n",
       "      <td>64</td>\n",
       "      <td>512.0</td>\n",
       "      <td>s8</td>\n",
       "      <td>D</td>\n",
       "      <td>2</td>\n",
       "      <td>448.0</td>\n",
       "    </tr>\n",
       "    <tr>\n",
       "      <th>9</th>\n",
       "      <td>9</td>\n",
       "      <td>81</td>\n",
       "      <td>729.0</td>\n",
       "      <td>s9</td>\n",
       "      <td>D</td>\n",
       "      <td>0</td>\n",
       "      <td>648.0</td>\n",
       "    </tr>\n",
       "  </tbody>\n",
       "</table>\n",
       "</div>"
      ],
      "text/plain": [
       "   number  square   cube string s2  rem   diff\n",
       "0       0       0    0.0     s0  A    0    0.0\n",
       "1       1       1    1.0     s1  B    1    0.0\n",
       "2       2       4    8.0     s2  B    2    4.0\n",
       "3       3       9   27.0     s3  C    0   18.0\n",
       "4       4      16   64.0     s4  C    1   48.0\n",
       "5       5      25  125.0     s5  C    2  100.0\n",
       "6       6      36  216.0     s6  D    0  180.0\n",
       "7       7      49  343.0     s7  D    1  294.0\n",
       "8       8      64  512.0     s8  D    2  448.0\n",
       "9       9      81  729.0     s9  D    0  648.0"
      ]
     },
     "execution_count": 36,
     "metadata": {},
     "output_type": "execute_result"
    }
   ],
   "source": [
    "df"
   ]
  },
  {
   "cell_type": "markdown",
   "metadata": {},
   "source": [
    "## Mode & Unique Values"
   ]
  },
  {
   "cell_type": "code",
   "execution_count": 37,
   "metadata": {},
   "outputs": [
    {
     "data": {
      "text/plain": [
       "0    D\n",
       "dtype: object"
      ]
     },
     "execution_count": 37,
     "metadata": {},
     "output_type": "execute_result"
    }
   ],
   "source": [
    "df.s2.mode()"
   ]
  },
  {
   "cell_type": "markdown",
   "metadata": {},
   "source": [
    "Because there can be multiple values, the result of ``mode()`` is a Pandas Series (like a column in a DataFrame)."
   ]
  },
  {
   "cell_type": "code",
   "execution_count": 38,
   "metadata": {},
   "outputs": [
    {
     "data": {
      "text/plain": [
       "pandas.core.series.Series"
      ]
     },
     "execution_count": 38,
     "metadata": {},
     "output_type": "execute_result"
    }
   ],
   "source": [
    "type(df.s2.mode())"
   ]
  },
  {
   "cell_type": "code",
   "execution_count": 39,
   "metadata": {},
   "outputs": [
    {
     "data": {
      "text/plain": [
       "0    0\n",
       "dtype: int64"
      ]
     },
     "execution_count": 39,
     "metadata": {},
     "output_type": "execute_result"
    }
   ],
   "source": [
    "df.rem.mode()"
   ]
  },
  {
   "cell_type": "markdown",
   "metadata": {},
   "source": [
    "We can also get all the different values in a column using the Numpy ``.unique()`` function."
   ]
  },
  {
   "cell_type": "code",
   "execution_count": 40,
   "metadata": {},
   "outputs": [
    {
     "data": {
      "text/plain": [
       "array([0, 1, 2])"
      ]
     },
     "execution_count": 40,
     "metadata": {},
     "output_type": "execute_result"
    }
   ],
   "source": [
    "df.rem.unique()"
   ]
  },
  {
   "cell_type": "markdown",
   "metadata": {},
   "source": [
    "## Grouping Values with groupby"
   ]
  },
  {
   "cell_type": "markdown",
   "metadata": {},
   "source": [
    "We can count the number of occurrences of each value as follows:"
   ]
  },
  {
   "cell_type": "code",
   "execution_count": 41,
   "metadata": {},
   "outputs": [],
   "source": [
    "grouped = df.groupby('s2').s2.count()"
   ]
  },
  {
   "cell_type": "code",
   "execution_count": 42,
   "metadata": {},
   "outputs": [
    {
     "data": {
      "text/plain": [
       "s2\n",
       "A    1\n",
       "B    2\n",
       "C    3\n",
       "D    4\n",
       "Name: s2, dtype: int64"
      ]
     },
     "execution_count": 42,
     "metadata": {},
     "output_type": "execute_result"
    }
   ],
   "source": [
    "grouped"
   ]
  },
  {
   "cell_type": "code",
   "execution_count": 43,
   "metadata": {},
   "outputs": [
    {
     "data": {
      "text/plain": [
       "pandas.core.series.Series"
      ]
     },
     "execution_count": 43,
     "metadata": {},
     "output_type": "execute_result"
    }
   ],
   "source": [
    "type(grouped)"
   ]
  },
  {
   "cell_type": "code",
   "execution_count": 44,
   "metadata": {},
   "outputs": [
    {
     "data": {
      "text/plain": [
       "3"
      ]
     },
     "execution_count": 44,
     "metadata": {},
     "output_type": "execute_result"
    }
   ],
   "source": [
    "grouped['C']"
   ]
  },
  {
   "cell_type": "markdown",
   "metadata": {},
   "source": [
    "In the above, the ``df.groupby('s2')`` groups rows by common values of ``s2``. The ``.s2`` then pulls out the values from the ``s2`` column and the ``.count()`` counts them (the non-null values).\n",
    "\n",
    "We could just as easily count the values in another field and (since there are no missing values here) the result will be the same."
   ]
  },
  {
   "cell_type": "code",
   "execution_count": 45,
   "metadata": {},
   "outputs": [
    {
     "data": {
      "text/plain": [
       "s2\n",
       "A    1\n",
       "B    2\n",
       "C    3\n",
       "D    4\n",
       "Name: number, dtype: int64"
      ]
     },
     "execution_count": 45,
     "metadata": {},
     "output_type": "execute_result"
    }
   ],
   "source": [
    "df.groupby('s2').number.count()"
   ]
  },
  {
   "cell_type": "markdown",
   "metadata": {},
   "source": [
    "The index for this group-by Series is a string; if we want to look up a row by row-number rather than by the string index value, we can use ``.iloc`` rather than ``.loc``:"
   ]
  },
  {
   "cell_type": "code",
   "execution_count": 46,
   "metadata": {},
   "outputs": [
    {
     "data": {
      "text/plain": [
       "3"
      ]
     },
     "execution_count": 46,
     "metadata": {},
     "output_type": "execute_result"
    }
   ],
   "source": [
    "grouped.iloc[2]  # indexing from zero, we expect the result to be 3"
   ]
  },
  {
   "cell_type": "markdown",
   "metadata": {},
   "source": [
    "We can compute other aggregations too:"
   ]
  },
  {
   "cell_type": "code",
   "execution_count": 47,
   "metadata": {},
   "outputs": [
    {
     "data": {
      "text/plain": [
       "s2\n",
       "A     0\n",
       "B     3\n",
       "C    12\n",
       "D    30\n",
       "Name: number, dtype: int64"
      ]
     },
     "execution_count": 47,
     "metadata": {},
     "output_type": "execute_result"
    }
   ],
   "source": [
    "df.groupby('s2').number.sum()"
   ]
  },
  {
   "cell_type": "code",
   "execution_count": 48,
   "metadata": {},
   "outputs": [
    {
     "data": {
      "text/plain": [
       "s2\n",
       "A    0.0\n",
       "B    1.5\n",
       "C    4.0\n",
       "D    7.5\n",
       "Name: number, dtype: float64"
      ]
     },
     "execution_count": 48,
     "metadata": {},
     "output_type": "execute_result"
    }
   ],
   "source": [
    "df.groupby('s2').number.mean()"
   ]
  },
  {
   "cell_type": "markdown",
   "metadata": {},
   "source": [
    "## NULLs (missing values)"
   ]
  },
  {
   "cell_type": "markdown",
   "metadata": {},
   "source": [
    "Let's look at how Pandas works with missing values"
   ]
  },
  {
   "cell_type": "code",
   "execution_count": 49,
   "metadata": {},
   "outputs": [
    {
     "data": {
      "text/plain": [
       "{'number': [0, 1, 2, 3, 4, 5, 6, 7, 8, 9],\n",
       " 'square': [0, 1, 4, 9, 16, 25, 36, 49, 64, 81],\n",
       " 'cube': [0.0, 1.0, 8.0, 27.0, 64.0, 125.0, 216.0, 343.0, 512.0, 729.0],\n",
       " 'string': ['s0', 's1', 's2', 's3', 's4', 's5', 's6', 's7', 's8', 's9']}"
      ]
     },
     "execution_count": 49,
     "metadata": {},
     "output_type": "execute_result"
    }
   ],
   "source": [
    "d  # Remind ourselves what's in our Python dictionary d"
   ]
  },
  {
   "cell_type": "markdown",
   "metadata": {},
   "source": [
    "Let's replace a couple of values with None:"
   ]
  },
  {
   "cell_type": "code",
   "execution_count": 50,
   "metadata": {},
   "outputs": [],
   "source": [
    "d['number'][2] = None"
   ]
  },
  {
   "cell_type": "code",
   "execution_count": 51,
   "metadata": {},
   "outputs": [],
   "source": [
    "d['string'][7] = None"
   ]
  },
  {
   "cell_type": "code",
   "execution_count": 52,
   "metadata": {},
   "outputs": [
    {
     "data": {
      "text/plain": [
       "{'number': [0, 1, None, 3, 4, 5, 6, 7, 8, 9],\n",
       " 'square': [0, 1, 4, 9, 16, 25, 36, 49, 64, 81],\n",
       " 'cube': [0.0, 1.0, 8.0, 27.0, 64.0, 125.0, 216.0, 343.0, 512.0, 729.0],\n",
       " 'string': ['s0', 's1', 's2', 's3', 's4', 's5', 's6', None, 's8', 's9']}"
      ]
     },
     "execution_count": 52,
     "metadata": {},
     "output_type": "execute_result"
    }
   ],
   "source": [
    "d"
   ]
  },
  {
   "cell_type": "code",
   "execution_count": 53,
   "metadata": {},
   "outputs": [],
   "source": [
    "df1 = df  # Save the old version for later"
   ]
  },
  {
   "cell_type": "code",
   "execution_count": 54,
   "metadata": {},
   "outputs": [],
   "source": [
    "df = pd.DataFrame(d)"
   ]
  },
  {
   "cell_type": "code",
   "execution_count": 55,
   "metadata": {},
   "outputs": [
    {
     "data": {
      "text/html": [
       "<div>\n",
       "<style scoped>\n",
       "    .dataframe tbody tr th:only-of-type {\n",
       "        vertical-align: middle;\n",
       "    }\n",
       "\n",
       "    .dataframe tbody tr th {\n",
       "        vertical-align: top;\n",
       "    }\n",
       "\n",
       "    .dataframe thead th {\n",
       "        text-align: right;\n",
       "    }\n",
       "</style>\n",
       "<table border=\"1\" class=\"dataframe\">\n",
       "  <thead>\n",
       "    <tr style=\"text-align: right;\">\n",
       "      <th></th>\n",
       "      <th>number</th>\n",
       "      <th>square</th>\n",
       "      <th>cube</th>\n",
       "      <th>string</th>\n",
       "    </tr>\n",
       "  </thead>\n",
       "  <tbody>\n",
       "    <tr>\n",
       "      <th>0</th>\n",
       "      <td>0.0</td>\n",
       "      <td>0</td>\n",
       "      <td>0.0</td>\n",
       "      <td>s0</td>\n",
       "    </tr>\n",
       "    <tr>\n",
       "      <th>1</th>\n",
       "      <td>1.0</td>\n",
       "      <td>1</td>\n",
       "      <td>1.0</td>\n",
       "      <td>s1</td>\n",
       "    </tr>\n",
       "    <tr>\n",
       "      <th>2</th>\n",
       "      <td>NaN</td>\n",
       "      <td>4</td>\n",
       "      <td>8.0</td>\n",
       "      <td>s2</td>\n",
       "    </tr>\n",
       "    <tr>\n",
       "      <th>3</th>\n",
       "      <td>3.0</td>\n",
       "      <td>9</td>\n",
       "      <td>27.0</td>\n",
       "      <td>s3</td>\n",
       "    </tr>\n",
       "    <tr>\n",
       "      <th>4</th>\n",
       "      <td>4.0</td>\n",
       "      <td>16</td>\n",
       "      <td>64.0</td>\n",
       "      <td>s4</td>\n",
       "    </tr>\n",
       "    <tr>\n",
       "      <th>5</th>\n",
       "      <td>5.0</td>\n",
       "      <td>25</td>\n",
       "      <td>125.0</td>\n",
       "      <td>s5</td>\n",
       "    </tr>\n",
       "    <tr>\n",
       "      <th>6</th>\n",
       "      <td>6.0</td>\n",
       "      <td>36</td>\n",
       "      <td>216.0</td>\n",
       "      <td>s6</td>\n",
       "    </tr>\n",
       "    <tr>\n",
       "      <th>7</th>\n",
       "      <td>7.0</td>\n",
       "      <td>49</td>\n",
       "      <td>343.0</td>\n",
       "      <td>None</td>\n",
       "    </tr>\n",
       "    <tr>\n",
       "      <th>8</th>\n",
       "      <td>8.0</td>\n",
       "      <td>64</td>\n",
       "      <td>512.0</td>\n",
       "      <td>s8</td>\n",
       "    </tr>\n",
       "    <tr>\n",
       "      <th>9</th>\n",
       "      <td>9.0</td>\n",
       "      <td>81</td>\n",
       "      <td>729.0</td>\n",
       "      <td>s9</td>\n",
       "    </tr>\n",
       "  </tbody>\n",
       "</table>\n",
       "</div>"
      ],
      "text/plain": [
       "   number  square   cube string\n",
       "0     0.0       0    0.0     s0\n",
       "1     1.0       1    1.0     s1\n",
       "2     NaN       4    8.0     s2\n",
       "3     3.0       9   27.0     s3\n",
       "4     4.0      16   64.0     s4\n",
       "5     5.0      25  125.0     s5\n",
       "6     6.0      36  216.0     s6\n",
       "7     7.0      49  343.0   None\n",
       "8     8.0      64  512.0     s8\n",
       "9     9.0      81  729.0     s9"
      ]
     },
     "execution_count": 55,
     "metadata": {},
     "output_type": "execute_result"
    }
   ],
   "source": [
    "df"
   ]
  },
  {
   "cell_type": "markdown",
   "metadata": {},
   "source": [
    "Notice a couple of key things here:\n",
    "\n",
    "  * The column ``number`` has turned into a floating-point column, and the Python None has become a ``NaN`` (not a number). ``NaN`` is used for missing values by Pandas, and like most relational databases, Pandas regards ``NaN``s as not really \"there\", so that when you count them they don't get counted. You can refer to ``NaN`` directly as ``np.NaN`` (or ``pd.np.nan`` or ``np.nan``).\n",
    "  * The ``None`` in our string column has **not** been converted. That's because ``object`` columns can contain almost anything, including Python ``None``s. It's probably safer to convert that to an ``np.NaN``. "
   ]
  },
  {
   "cell_type": "code",
   "execution_count": 56,
   "metadata": {},
   "outputs": [
    {
     "data": {
      "text/plain": [
       "dtype('float64')"
      ]
     },
     "execution_count": 56,
     "metadata": {},
     "output_type": "execute_result"
    }
   ],
   "source": [
    "df.number.dtype"
   ]
  },
  {
   "cell_type": "markdown",
   "metadata": {},
   "source": [
    "We can convert all missing values (inluding Python ``None`` values) to something with ``.fillna()``."
   ]
  },
  {
   "cell_type": "code",
   "execution_count": 57,
   "metadata": {},
   "outputs": [],
   "source": [
    "df.string.fillna(np.NaN, inplace=True)  # inplace means change the df, rather than creatig a new one"
   ]
  },
  {
   "cell_type": "code",
   "execution_count": 58,
   "metadata": {},
   "outputs": [
    {
     "data": {
      "text/html": [
       "<div>\n",
       "<style scoped>\n",
       "    .dataframe tbody tr th:only-of-type {\n",
       "        vertical-align: middle;\n",
       "    }\n",
       "\n",
       "    .dataframe tbody tr th {\n",
       "        vertical-align: top;\n",
       "    }\n",
       "\n",
       "    .dataframe thead th {\n",
       "        text-align: right;\n",
       "    }\n",
       "</style>\n",
       "<table border=\"1\" class=\"dataframe\">\n",
       "  <thead>\n",
       "    <tr style=\"text-align: right;\">\n",
       "      <th></th>\n",
       "      <th>number</th>\n",
       "      <th>square</th>\n",
       "      <th>cube</th>\n",
       "      <th>string</th>\n",
       "    </tr>\n",
       "  </thead>\n",
       "  <tbody>\n",
       "    <tr>\n",
       "      <th>0</th>\n",
       "      <td>0.0</td>\n",
       "      <td>0</td>\n",
       "      <td>0.0</td>\n",
       "      <td>s0</td>\n",
       "    </tr>\n",
       "    <tr>\n",
       "      <th>1</th>\n",
       "      <td>1.0</td>\n",
       "      <td>1</td>\n",
       "      <td>1.0</td>\n",
       "      <td>s1</td>\n",
       "    </tr>\n",
       "    <tr>\n",
       "      <th>2</th>\n",
       "      <td>NaN</td>\n",
       "      <td>4</td>\n",
       "      <td>8.0</td>\n",
       "      <td>s2</td>\n",
       "    </tr>\n",
       "    <tr>\n",
       "      <th>3</th>\n",
       "      <td>3.0</td>\n",
       "      <td>9</td>\n",
       "      <td>27.0</td>\n",
       "      <td>s3</td>\n",
       "    </tr>\n",
       "    <tr>\n",
       "      <th>4</th>\n",
       "      <td>4.0</td>\n",
       "      <td>16</td>\n",
       "      <td>64.0</td>\n",
       "      <td>s4</td>\n",
       "    </tr>\n",
       "    <tr>\n",
       "      <th>5</th>\n",
       "      <td>5.0</td>\n",
       "      <td>25</td>\n",
       "      <td>125.0</td>\n",
       "      <td>s5</td>\n",
       "    </tr>\n",
       "    <tr>\n",
       "      <th>6</th>\n",
       "      <td>6.0</td>\n",
       "      <td>36</td>\n",
       "      <td>216.0</td>\n",
       "      <td>s6</td>\n",
       "    </tr>\n",
       "    <tr>\n",
       "      <th>7</th>\n",
       "      <td>7.0</td>\n",
       "      <td>49</td>\n",
       "      <td>343.0</td>\n",
       "      <td>NaN</td>\n",
       "    </tr>\n",
       "    <tr>\n",
       "      <th>8</th>\n",
       "      <td>8.0</td>\n",
       "      <td>64</td>\n",
       "      <td>512.0</td>\n",
       "      <td>s8</td>\n",
       "    </tr>\n",
       "    <tr>\n",
       "      <th>9</th>\n",
       "      <td>9.0</td>\n",
       "      <td>81</td>\n",
       "      <td>729.0</td>\n",
       "      <td>s9</td>\n",
       "    </tr>\n",
       "  </tbody>\n",
       "</table>\n",
       "</div>"
      ],
      "text/plain": [
       "   number  square   cube string\n",
       "0     0.0       0    0.0     s0\n",
       "1     1.0       1    1.0     s1\n",
       "2     NaN       4    8.0     s2\n",
       "3     3.0       9   27.0     s3\n",
       "4     4.0      16   64.0     s4\n",
       "5     5.0      25  125.0     s5\n",
       "6     6.0      36  216.0     s6\n",
       "7     7.0      49  343.0    NaN\n",
       "8     8.0      64  512.0     s8\n",
       "9     9.0      81  729.0     s9"
      ]
     },
     "execution_count": 58,
     "metadata": {},
     "output_type": "execute_result"
    }
   ],
   "source": [
    "df"
   ]
  },
  {
   "cell_type": "code",
   "execution_count": 59,
   "metadata": {},
   "outputs": [
    {
     "data": {
      "text/plain": [
       "9"
      ]
     },
     "execution_count": 59,
     "metadata": {},
     "output_type": "execute_result"
    }
   ],
   "source": [
    "df.string.count()  # note that the NaN is not counted."
   ]
  },
  {
   "cell_type": "code",
   "execution_count": 60,
   "metadata": {},
   "outputs": [],
   "source": [
    "s = df.string.dropna()  # Drop any rows with missing values:"
   ]
  },
  {
   "cell_type": "code",
   "execution_count": 61,
   "metadata": {},
   "outputs": [
    {
     "data": {
      "text/plain": [
       "0    s0\n",
       "1    s1\n",
       "2    s2\n",
       "3    s3\n",
       "4    s4\n",
       "5    s5\n",
       "6    s6\n",
       "8    s8\n",
       "9    s9\n",
       "Name: string, dtype: object"
      ]
     },
     "execution_count": 61,
     "metadata": {},
     "output_type": "execute_result"
    }
   ],
   "source": [
    "s"
   ]
  },
  {
   "cell_type": "markdown",
   "metadata": {},
   "source": [
    "In the above, note that there is now a \"hole\" in the index where 7 used to be."
   ]
  },
  {
   "cell_type": "code",
   "execution_count": 62,
   "metadata": {},
   "outputs": [
    {
     "data": {
      "text/plain": [
       "'s8'"
      ]
     },
     "execution_count": 62,
     "metadata": {},
     "output_type": "execute_result"
    }
   ],
   "source": [
    "s.loc[8]  # loc still looks up by the index value"
   ]
  },
  {
   "cell_type": "code",
   "execution_count": 63,
   "metadata": {},
   "outputs": [
    {
     "data": {
      "text/plain": [
       "'s9'"
      ]
     },
     "execution_count": 63,
     "metadata": {},
     "output_type": "execute_result"
    }
   ],
   "source": [
    "s.iloc[8]  # but .iloc looks up by row number"
   ]
  },
  {
   "cell_type": "markdown",
   "metadata": {},
   "source": [
    "We can **reset** the index to fill in the hole."
   ]
  },
  {
   "cell_type": "code",
   "execution_count": 64,
   "metadata": {},
   "outputs": [],
   "source": [
    "s = s.reset_index()"
   ]
  },
  {
   "cell_type": "code",
   "execution_count": 65,
   "metadata": {},
   "outputs": [
    {
     "data": {
      "text/html": [
       "<div>\n",
       "<style scoped>\n",
       "    .dataframe tbody tr th:only-of-type {\n",
       "        vertical-align: middle;\n",
       "    }\n",
       "\n",
       "    .dataframe tbody tr th {\n",
       "        vertical-align: top;\n",
       "    }\n",
       "\n",
       "    .dataframe thead th {\n",
       "        text-align: right;\n",
       "    }\n",
       "</style>\n",
       "<table border=\"1\" class=\"dataframe\">\n",
       "  <thead>\n",
       "    <tr style=\"text-align: right;\">\n",
       "      <th></th>\n",
       "      <th>index</th>\n",
       "      <th>string</th>\n",
       "    </tr>\n",
       "  </thead>\n",
       "  <tbody>\n",
       "    <tr>\n",
       "      <th>0</th>\n",
       "      <td>0</td>\n",
       "      <td>s0</td>\n",
       "    </tr>\n",
       "    <tr>\n",
       "      <th>1</th>\n",
       "      <td>1</td>\n",
       "      <td>s1</td>\n",
       "    </tr>\n",
       "    <tr>\n",
       "      <th>2</th>\n",
       "      <td>2</td>\n",
       "      <td>s2</td>\n",
       "    </tr>\n",
       "    <tr>\n",
       "      <th>3</th>\n",
       "      <td>3</td>\n",
       "      <td>s3</td>\n",
       "    </tr>\n",
       "    <tr>\n",
       "      <th>4</th>\n",
       "      <td>4</td>\n",
       "      <td>s4</td>\n",
       "    </tr>\n",
       "    <tr>\n",
       "      <th>5</th>\n",
       "      <td>5</td>\n",
       "      <td>s5</td>\n",
       "    </tr>\n",
       "    <tr>\n",
       "      <th>6</th>\n",
       "      <td>6</td>\n",
       "      <td>s6</td>\n",
       "    </tr>\n",
       "    <tr>\n",
       "      <th>7</th>\n",
       "      <td>8</td>\n",
       "      <td>s8</td>\n",
       "    </tr>\n",
       "    <tr>\n",
       "      <th>8</th>\n",
       "      <td>9</td>\n",
       "      <td>s9</td>\n",
       "    </tr>\n",
       "  </tbody>\n",
       "</table>\n",
       "</div>"
      ],
      "text/plain": [
       "   index string\n",
       "0      0     s0\n",
       "1      1     s1\n",
       "2      2     s2\n",
       "3      3     s3\n",
       "4      4     s4\n",
       "5      5     s5\n",
       "6      6     s6\n",
       "7      8     s8\n",
       "8      9     s9"
      ]
     },
     "execution_count": 65,
     "metadata": {},
     "output_type": "execute_result"
    }
   ],
   "source": [
    "s"
   ]
  },
  {
   "cell_type": "markdown",
   "metadata": {},
   "source": [
    "As you can see, doing this turns the old index into a regular column called index. We can delete that with ``del``."
   ]
  },
  {
   "cell_type": "code",
   "execution_count": 66,
   "metadata": {},
   "outputs": [],
   "source": [
    "del s['index']"
   ]
  },
  {
   "cell_type": "code",
   "execution_count": 67,
   "metadata": {},
   "outputs": [
    {
     "data": {
      "text/html": [
       "<div>\n",
       "<style scoped>\n",
       "    .dataframe tbody tr th:only-of-type {\n",
       "        vertical-align: middle;\n",
       "    }\n",
       "\n",
       "    .dataframe tbody tr th {\n",
       "        vertical-align: top;\n",
       "    }\n",
       "\n",
       "    .dataframe thead th {\n",
       "        text-align: right;\n",
       "    }\n",
       "</style>\n",
       "<table border=\"1\" class=\"dataframe\">\n",
       "  <thead>\n",
       "    <tr style=\"text-align: right;\">\n",
       "      <th></th>\n",
       "      <th>string</th>\n",
       "    </tr>\n",
       "  </thead>\n",
       "  <tbody>\n",
       "    <tr>\n",
       "      <th>0</th>\n",
       "      <td>s0</td>\n",
       "    </tr>\n",
       "    <tr>\n",
       "      <th>1</th>\n",
       "      <td>s1</td>\n",
       "    </tr>\n",
       "    <tr>\n",
       "      <th>2</th>\n",
       "      <td>s2</td>\n",
       "    </tr>\n",
       "    <tr>\n",
       "      <th>3</th>\n",
       "      <td>s3</td>\n",
       "    </tr>\n",
       "    <tr>\n",
       "      <th>4</th>\n",
       "      <td>s4</td>\n",
       "    </tr>\n",
       "    <tr>\n",
       "      <th>5</th>\n",
       "      <td>s5</td>\n",
       "    </tr>\n",
       "    <tr>\n",
       "      <th>6</th>\n",
       "      <td>s6</td>\n",
       "    </tr>\n",
       "    <tr>\n",
       "      <th>7</th>\n",
       "      <td>s8</td>\n",
       "    </tr>\n",
       "    <tr>\n",
       "      <th>8</th>\n",
       "      <td>s9</td>\n",
       "    </tr>\n",
       "  </tbody>\n",
       "</table>\n",
       "</div>"
      ],
      "text/plain": [
       "  string\n",
       "0     s0\n",
       "1     s1\n",
       "2     s2\n",
       "3     s3\n",
       "4     s4\n",
       "5     s5\n",
       "6     s6\n",
       "7     s8\n",
       "8     s9"
      ]
     },
     "execution_count": 67,
     "metadata": {},
     "output_type": "execute_result"
    }
   ],
   "source": [
    "s"
   ]
  },
  {
   "cell_type": "markdown",
   "metadata": {},
   "source": [
    "## Nulls don't contribute to groupby operations"
   ]
  },
  {
   "cell_type": "code",
   "execution_count": 68,
   "metadata": {},
   "outputs": [],
   "source": [
    "df['rem'] = df.number % 3      # as before, but now with a null"
   ]
  },
  {
   "cell_type": "code",
   "execution_count": 69,
   "metadata": {},
   "outputs": [],
   "source": [
    "df['s2'] = list('AABBBBBEE') + [np.NaN]"
   ]
  },
  {
   "cell_type": "code",
   "execution_count": 70,
   "metadata": {},
   "outputs": [
    {
     "data": {
      "text/html": [
       "<div>\n",
       "<style scoped>\n",
       "    .dataframe tbody tr th:only-of-type {\n",
       "        vertical-align: middle;\n",
       "    }\n",
       "\n",
       "    .dataframe tbody tr th {\n",
       "        vertical-align: top;\n",
       "    }\n",
       "\n",
       "    .dataframe thead th {\n",
       "        text-align: right;\n",
       "    }\n",
       "</style>\n",
       "<table border=\"1\" class=\"dataframe\">\n",
       "  <thead>\n",
       "    <tr style=\"text-align: right;\">\n",
       "      <th></th>\n",
       "      <th>number</th>\n",
       "      <th>square</th>\n",
       "      <th>cube</th>\n",
       "      <th>string</th>\n",
       "      <th>rem</th>\n",
       "      <th>s2</th>\n",
       "    </tr>\n",
       "  </thead>\n",
       "  <tbody>\n",
       "    <tr>\n",
       "      <th>0</th>\n",
       "      <td>0.0</td>\n",
       "      <td>0</td>\n",
       "      <td>0.0</td>\n",
       "      <td>s0</td>\n",
       "      <td>0.0</td>\n",
       "      <td>A</td>\n",
       "    </tr>\n",
       "    <tr>\n",
       "      <th>1</th>\n",
       "      <td>1.0</td>\n",
       "      <td>1</td>\n",
       "      <td>1.0</td>\n",
       "      <td>s1</td>\n",
       "      <td>1.0</td>\n",
       "      <td>A</td>\n",
       "    </tr>\n",
       "    <tr>\n",
       "      <th>2</th>\n",
       "      <td>NaN</td>\n",
       "      <td>4</td>\n",
       "      <td>8.0</td>\n",
       "      <td>s2</td>\n",
       "      <td>NaN</td>\n",
       "      <td>B</td>\n",
       "    </tr>\n",
       "    <tr>\n",
       "      <th>3</th>\n",
       "      <td>3.0</td>\n",
       "      <td>9</td>\n",
       "      <td>27.0</td>\n",
       "      <td>s3</td>\n",
       "      <td>0.0</td>\n",
       "      <td>B</td>\n",
       "    </tr>\n",
       "    <tr>\n",
       "      <th>4</th>\n",
       "      <td>4.0</td>\n",
       "      <td>16</td>\n",
       "      <td>64.0</td>\n",
       "      <td>s4</td>\n",
       "      <td>1.0</td>\n",
       "      <td>B</td>\n",
       "    </tr>\n",
       "    <tr>\n",
       "      <th>5</th>\n",
       "      <td>5.0</td>\n",
       "      <td>25</td>\n",
       "      <td>125.0</td>\n",
       "      <td>s5</td>\n",
       "      <td>2.0</td>\n",
       "      <td>B</td>\n",
       "    </tr>\n",
       "    <tr>\n",
       "      <th>6</th>\n",
       "      <td>6.0</td>\n",
       "      <td>36</td>\n",
       "      <td>216.0</td>\n",
       "      <td>s6</td>\n",
       "      <td>0.0</td>\n",
       "      <td>B</td>\n",
       "    </tr>\n",
       "    <tr>\n",
       "      <th>7</th>\n",
       "      <td>7.0</td>\n",
       "      <td>49</td>\n",
       "      <td>343.0</td>\n",
       "      <td>NaN</td>\n",
       "      <td>1.0</td>\n",
       "      <td>E</td>\n",
       "    </tr>\n",
       "    <tr>\n",
       "      <th>8</th>\n",
       "      <td>8.0</td>\n",
       "      <td>64</td>\n",
       "      <td>512.0</td>\n",
       "      <td>s8</td>\n",
       "      <td>2.0</td>\n",
       "      <td>E</td>\n",
       "    </tr>\n",
       "    <tr>\n",
       "      <th>9</th>\n",
       "      <td>9.0</td>\n",
       "      <td>81</td>\n",
       "      <td>729.0</td>\n",
       "      <td>s9</td>\n",
       "      <td>0.0</td>\n",
       "      <td>NaN</td>\n",
       "    </tr>\n",
       "  </tbody>\n",
       "</table>\n",
       "</div>"
      ],
      "text/plain": [
       "   number  square   cube string  rem   s2\n",
       "0     0.0       0    0.0     s0  0.0    A\n",
       "1     1.0       1    1.0     s1  1.0    A\n",
       "2     NaN       4    8.0     s2  NaN    B\n",
       "3     3.0       9   27.0     s3  0.0    B\n",
       "4     4.0      16   64.0     s4  1.0    B\n",
       "5     5.0      25  125.0     s5  2.0    B\n",
       "6     6.0      36  216.0     s6  0.0    B\n",
       "7     7.0      49  343.0    NaN  1.0    E\n",
       "8     8.0      64  512.0     s8  2.0    E\n",
       "9     9.0      81  729.0     s9  0.0  NaN"
      ]
     },
     "execution_count": 70,
     "metadata": {},
     "output_type": "execute_result"
    }
   ],
   "source": [
    "df"
   ]
  },
  {
   "cell_type": "code",
   "execution_count": 71,
   "metadata": {},
   "outputs": [
    {
     "data": {
      "text/plain": [
       "s2\n",
       "A    2\n",
       "B    5\n",
       "E    2\n",
       "Name: square, dtype: int64"
      ]
     },
     "execution_count": 71,
     "metadata": {},
     "output_type": "execute_result"
    }
   ],
   "source": [
    "df.groupby('s2').square.count()"
   ]
  },
  {
   "cell_type": "markdown",
   "metadata": {},
   "source": [
    "**NB:** there is no group for the missing value (``NaN``)"
   ]
  },
  {
   "cell_type": "code",
   "execution_count": 72,
   "metadata": {},
   "outputs": [
    {
     "data": {
      "text/plain": [
       "s2\n",
       "A    2\n",
       "B    4\n",
       "E    2\n",
       "Name: number, dtype: int64"
      ]
     },
     "execution_count": 72,
     "metadata": {},
     "output_type": "execute_result"
    }
   ],
   "source": [
    "df.groupby('s2').number.count()"
   ]
  },
  {
   "cell_type": "markdown",
   "metadata": {},
   "source": [
    "**NB:** if we count ``number``, the count for ``b`` drops because of the missing value for ``number`` in row 2"
   ]
  },
  {
   "cell_type": "markdown",
   "metadata": {},
   "source": [
    "If we want to include a group for the missing values in ``s2``, we need to convert it to something else. One good option is to stringify it:"
   ]
  },
  {
   "cell_type": "code",
   "execution_count": 73,
   "metadata": {},
   "outputs": [
    {
     "data": {
      "text/plain": [
       "s2\n",
       "A      2\n",
       "B      4\n",
       "E      2\n",
       "nan    1\n",
       "Name: number, dtype: int64"
      ]
     },
     "execution_count": 73,
     "metadata": {},
     "output_type": "execute_result"
    }
   ],
   "source": [
    "df.groupby(df.s2.astype(str)).number.count()"
   ]
  },
  {
   "cell_type": "markdown",
   "metadata": {},
   "source": [
    "## Plotting\n",
    "\n",
    "We can plot (using matplotlib) straight from the DataFrame:"
   ]
  },
  {
   "cell_type": "code",
   "execution_count": 74,
   "metadata": {},
   "outputs": [
    {
     "data": {
      "text/plain": [
       "<matplotlib.axes._subplots.AxesSubplot at 0x10f971860>"
      ]
     },
     "execution_count": 74,
     "metadata": {},
     "output_type": "execute_result"
    }
   ],
   "source": [
    "df.groupby(df.s2.astype(str)).number.count().plot.bar()"
   ]
  },
  {
   "cell_type": "markdown",
   "metadata": {},
   "source": [
    "But to see it in the notebook we need to use a directive:"
   ]
  },
  {
   "cell_type": "code",
   "execution_count": 75,
   "metadata": {},
   "outputs": [],
   "source": [
    "%matplotlib inline"
   ]
  },
  {
   "cell_type": "code",
   "execution_count": 76,
   "metadata": {},
   "outputs": [
    {
     "data": {
      "text/plain": [
       "<matplotlib.axes._subplots.AxesSubplot at 0x112c775f8>"
      ]
     },
     "execution_count": 76,
     "metadata": {},
     "output_type": "execute_result"
    },
    {
     "data": {
      "image/png": "[encoded data removed]",
      "text/plain": [
       "<Figure size 432x288 with 1 Axes>"
      ]
     },
     "metadata": {},
     "output_type": "display_data"
    }
   ],
   "source": [
    "df.groupby(df.s2.astype(str)).number.count().plot.bar()"
   ]
  },
  {
   "cell_type": "code",
   "execution_count": 77,
   "metadata": {},
   "outputs": [
    {
     "data": {
      "text/plain": [
       "<matplotlib.axes._subplots.AxesSubplot at 0x112ce3828>"
      ]
     },
     "execution_count": 77,
     "metadata": {},
     "output_type": "execute_result"
    },
    {
     "data": {
      "image/png": "[encoded data removed]",
      "text/plain": [
       "<Figure size 360x360 with 1 Axes>"
      ]
     },
     "metadata": {},
     "output_type": "display_data"
    }
   ],
   "source": [
    "df.groupby(df.s2.astype(str)).number.count().plot.pie(figsize=(5,5))"
   ]
  },
  {
   "cell_type": "markdown",
   "metadata": {},
   "source": [
    "## Appending DataFrames"
   ]
  },
  {
   "cell_type": "markdown",
   "metadata": {},
   "source": [
    "We now have two DataFrames with similar columns:"
   ]
  },
  {
   "cell_type": "code",
   "execution_count": 78,
   "metadata": {},
   "outputs": [
    {
     "data": {
      "text/html": [
       "<div>\n",
       "<style scoped>\n",
       "    .dataframe tbody tr th:only-of-type {\n",
       "        vertical-align: middle;\n",
       "    }\n",
       "\n",
       "    .dataframe tbody tr th {\n",
       "        vertical-align: top;\n",
       "    }\n",
       "\n",
       "    .dataframe thead th {\n",
       "        text-align: right;\n",
       "    }\n",
       "</style>\n",
       "<table border=\"1\" class=\"dataframe\">\n",
       "  <thead>\n",
       "    <tr style=\"text-align: right;\">\n",
       "      <th></th>\n",
       "      <th>number</th>\n",
       "      <th>square</th>\n",
       "      <th>cube</th>\n",
       "      <th>string</th>\n",
       "      <th>rem</th>\n",
       "      <th>s2</th>\n",
       "    </tr>\n",
       "  </thead>\n",
       "  <tbody>\n",
       "    <tr>\n",
       "      <th>0</th>\n",
       "      <td>0.0</td>\n",
       "      <td>0</td>\n",
       "      <td>0.0</td>\n",
       "      <td>s0</td>\n",
       "      <td>0.0</td>\n",
       "      <td>A</td>\n",
       "    </tr>\n",
       "    <tr>\n",
       "      <th>1</th>\n",
       "      <td>1.0</td>\n",
       "      <td>1</td>\n",
       "      <td>1.0</td>\n",
       "      <td>s1</td>\n",
       "      <td>1.0</td>\n",
       "      <td>A</td>\n",
       "    </tr>\n",
       "    <tr>\n",
       "      <th>2</th>\n",
       "      <td>NaN</td>\n",
       "      <td>4</td>\n",
       "      <td>8.0</td>\n",
       "      <td>s2</td>\n",
       "      <td>NaN</td>\n",
       "      <td>B</td>\n",
       "    </tr>\n",
       "    <tr>\n",
       "      <th>3</th>\n",
       "      <td>3.0</td>\n",
       "      <td>9</td>\n",
       "      <td>27.0</td>\n",
       "      <td>s3</td>\n",
       "      <td>0.0</td>\n",
       "      <td>B</td>\n",
       "    </tr>\n",
       "    <tr>\n",
       "      <th>4</th>\n",
       "      <td>4.0</td>\n",
       "      <td>16</td>\n",
       "      <td>64.0</td>\n",
       "      <td>s4</td>\n",
       "      <td>1.0</td>\n",
       "      <td>B</td>\n",
       "    </tr>\n",
       "    <tr>\n",
       "      <th>5</th>\n",
       "      <td>5.0</td>\n",
       "      <td>25</td>\n",
       "      <td>125.0</td>\n",
       "      <td>s5</td>\n",
       "      <td>2.0</td>\n",
       "      <td>B</td>\n",
       "    </tr>\n",
       "    <tr>\n",
       "      <th>6</th>\n",
       "      <td>6.0</td>\n",
       "      <td>36</td>\n",
       "      <td>216.0</td>\n",
       "      <td>s6</td>\n",
       "      <td>0.0</td>\n",
       "      <td>B</td>\n",
       "    </tr>\n",
       "    <tr>\n",
       "      <th>7</th>\n",
       "      <td>7.0</td>\n",
       "      <td>49</td>\n",
       "      <td>343.0</td>\n",
       "      <td>NaN</td>\n",
       "      <td>1.0</td>\n",
       "      <td>E</td>\n",
       "    </tr>\n",
       "    <tr>\n",
       "      <th>8</th>\n",
       "      <td>8.0</td>\n",
       "      <td>64</td>\n",
       "      <td>512.0</td>\n",
       "      <td>s8</td>\n",
       "      <td>2.0</td>\n",
       "      <td>E</td>\n",
       "    </tr>\n",
       "    <tr>\n",
       "      <th>9</th>\n",
       "      <td>9.0</td>\n",
       "      <td>81</td>\n",
       "      <td>729.0</td>\n",
       "      <td>s9</td>\n",
       "      <td>0.0</td>\n",
       "      <td>NaN</td>\n",
       "    </tr>\n",
       "  </tbody>\n",
       "</table>\n",
       "</div>"
      ],
      "text/plain": [
       "   number  square   cube string  rem   s2\n",
       "0     0.0       0    0.0     s0  0.0    A\n",
       "1     1.0       1    1.0     s1  1.0    A\n",
       "2     NaN       4    8.0     s2  NaN    B\n",
       "3     3.0       9   27.0     s3  0.0    B\n",
       "4     4.0      16   64.0     s4  1.0    B\n",
       "5     5.0      25  125.0     s5  2.0    B\n",
       "6     6.0      36  216.0     s6  0.0    B\n",
       "7     7.0      49  343.0    NaN  1.0    E\n",
       "8     8.0      64  512.0     s8  2.0    E\n",
       "9     9.0      81  729.0     s9  0.0  NaN"
      ]
     },
     "execution_count": 78,
     "metadata": {},
     "output_type": "execute_result"
    }
   ],
   "source": [
    "df"
   ]
  },
  {
   "cell_type": "code",
   "execution_count": 79,
   "metadata": {},
   "outputs": [
    {
     "data": {
      "text/html": [
       "<div>\n",
       "<style scoped>\n",
       "    .dataframe tbody tr th:only-of-type {\n",
       "        vertical-align: middle;\n",
       "    }\n",
       "\n",
       "    .dataframe tbody tr th {\n",
       "        vertical-align: top;\n",
       "    }\n",
       "\n",
       "    .dataframe thead th {\n",
       "        text-align: right;\n",
       "    }\n",
       "</style>\n",
       "<table border=\"1\" class=\"dataframe\">\n",
       "  <thead>\n",
       "    <tr style=\"text-align: right;\">\n",
       "      <th></th>\n",
       "      <th>number</th>\n",
       "      <th>square</th>\n",
       "      <th>cube</th>\n",
       "      <th>string</th>\n",
       "      <th>s2</th>\n",
       "      <th>rem</th>\n",
       "      <th>diff</th>\n",
       "    </tr>\n",
       "  </thead>\n",
       "  <tbody>\n",
       "    <tr>\n",
       "      <th>0</th>\n",
       "      <td>0</td>\n",
       "      <td>0</td>\n",
       "      <td>0.0</td>\n",
       "      <td>s0</td>\n",
       "      <td>A</td>\n",
       "      <td>0</td>\n",
       "      <td>0.0</td>\n",
       "    </tr>\n",
       "    <tr>\n",
       "      <th>1</th>\n",
       "      <td>1</td>\n",
       "      <td>1</td>\n",
       "      <td>1.0</td>\n",
       "      <td>s1</td>\n",
       "      <td>B</td>\n",
       "      <td>1</td>\n",
       "      <td>0.0</td>\n",
       "    </tr>\n",
       "    <tr>\n",
       "      <th>2</th>\n",
       "      <td>2</td>\n",
       "      <td>4</td>\n",
       "      <td>8.0</td>\n",
       "      <td>s2</td>\n",
       "      <td>B</td>\n",
       "      <td>2</td>\n",
       "      <td>4.0</td>\n",
       "    </tr>\n",
       "    <tr>\n",
       "      <th>3</th>\n",
       "      <td>3</td>\n",
       "      <td>9</td>\n",
       "      <td>27.0</td>\n",
       "      <td>s3</td>\n",
       "      <td>C</td>\n",
       "      <td>0</td>\n",
       "      <td>18.0</td>\n",
       "    </tr>\n",
       "    <tr>\n",
       "      <th>4</th>\n",
       "      <td>4</td>\n",
       "      <td>16</td>\n",
       "      <td>64.0</td>\n",
       "      <td>s4</td>\n",
       "      <td>C</td>\n",
       "      <td>1</td>\n",
       "      <td>48.0</td>\n",
       "    </tr>\n",
       "    <tr>\n",
       "      <th>5</th>\n",
       "      <td>5</td>\n",
       "      <td>25</td>\n",
       "      <td>125.0</td>\n",
       "      <td>s5</td>\n",
       "      <td>C</td>\n",
       "      <td>2</td>\n",
       "      <td>100.0</td>\n",
       "    </tr>\n",
       "    <tr>\n",
       "      <th>6</th>\n",
       "      <td>6</td>\n",
       "      <td>36</td>\n",
       "      <td>216.0</td>\n",
       "      <td>s6</td>\n",
       "      <td>D</td>\n",
       "      <td>0</td>\n",
       "      <td>180.0</td>\n",
       "    </tr>\n",
       "    <tr>\n",
       "      <th>7</th>\n",
       "      <td>7</td>\n",
       "      <td>49</td>\n",
       "      <td>343.0</td>\n",
       "      <td>s7</td>\n",
       "      <td>D</td>\n",
       "      <td>1</td>\n",
       "      <td>294.0</td>\n",
       "    </tr>\n",
       "    <tr>\n",
       "      <th>8</th>\n",
       "      <td>8</td>\n",
       "      <td>64</td>\n",
       "      <td>512.0</td>\n",
       "      <td>s8</td>\n",
       "      <td>D</td>\n",
       "      <td>2</td>\n",
       "      <td>448.0</td>\n",
       "    </tr>\n",
       "    <tr>\n",
       "      <th>9</th>\n",
       "      <td>9</td>\n",
       "      <td>81</td>\n",
       "      <td>729.0</td>\n",
       "      <td>s9</td>\n",
       "      <td>D</td>\n",
       "      <td>0</td>\n",
       "      <td>648.0</td>\n",
       "    </tr>\n",
       "  </tbody>\n",
       "</table>\n",
       "</div>"
      ],
      "text/plain": [
       "   number  square   cube string s2  rem   diff\n",
       "0       0       0    0.0     s0  A    0    0.0\n",
       "1       1       1    1.0     s1  B    1    0.0\n",
       "2       2       4    8.0     s2  B    2    4.0\n",
       "3       3       9   27.0     s3  C    0   18.0\n",
       "4       4      16   64.0     s4  C    1   48.0\n",
       "5       5      25  125.0     s5  C    2  100.0\n",
       "6       6      36  216.0     s6  D    0  180.0\n",
       "7       7      49  343.0     s7  D    1  294.0\n",
       "8       8      64  512.0     s8  D    2  448.0\n",
       "9       9      81  729.0     s9  D    0  648.0"
      ]
     },
     "execution_count": 79,
     "metadata": {},
     "output_type": "execute_result"
    }
   ],
   "source": [
    "df1"
   ]
  },
  {
   "cell_type": "markdown",
   "metadata": {},
   "source": [
    "We can glue them together (creating one with all the rows from both) using the ``.append`` method."
   ]
  },
  {
   "cell_type": "markdown",
   "metadata": {},
   "source": [
    "Use ``sort=True`` to ensure that the right thing happens even if the columns are in different orders"
   ]
  },
  {
   "cell_type": "code",
   "execution_count": 80,
   "metadata": {},
   "outputs": [],
   "source": [
    "df2 = df1.append(df, sort=True)"
   ]
  },
  {
   "cell_type": "code",
   "execution_count": 81,
   "metadata": {},
   "outputs": [
    {
     "data": {
      "text/html": [
       "<div>\n",
       "<style scoped>\n",
       "    .dataframe tbody tr th:only-of-type {\n",
       "        vertical-align: middle;\n",
       "    }\n",
       "\n",
       "    .dataframe tbody tr th {\n",
       "        vertical-align: top;\n",
       "    }\n",
       "\n",
       "    .dataframe thead th {\n",
       "        text-align: right;\n",
       "    }\n",
       "</style>\n",
       "<table border=\"1\" class=\"dataframe\">\n",
       "  <thead>\n",
       "    <tr style=\"text-align: right;\">\n",
       "      <th></th>\n",
       "      <th>cube</th>\n",
       "      <th>diff</th>\n",
       "      <th>number</th>\n",
       "      <th>rem</th>\n",
       "      <th>s2</th>\n",
       "      <th>square</th>\n",
       "      <th>string</th>\n",
       "    </tr>\n",
       "  </thead>\n",
       "  <tbody>\n",
       "    <tr>\n",
       "      <th>0</th>\n",
       "      <td>0.0</td>\n",
       "      <td>0.0</td>\n",
       "      <td>0.0</td>\n",
       "      <td>0.0</td>\n",
       "      <td>A</td>\n",
       "      <td>0</td>\n",
       "      <td>s0</td>\n",
       "    </tr>\n",
       "    <tr>\n",
       "      <th>1</th>\n",
       "      <td>1.0</td>\n",
       "      <td>0.0</td>\n",
       "      <td>1.0</td>\n",
       "      <td>1.0</td>\n",
       "      <td>B</td>\n",
       "      <td>1</td>\n",
       "      <td>s1</td>\n",
       "    </tr>\n",
       "    <tr>\n",
       "      <th>2</th>\n",
       "      <td>8.0</td>\n",
       "      <td>4.0</td>\n",
       "      <td>2.0</td>\n",
       "      <td>2.0</td>\n",
       "      <td>B</td>\n",
       "      <td>4</td>\n",
       "      <td>s2</td>\n",
       "    </tr>\n",
       "    <tr>\n",
       "      <th>3</th>\n",
       "      <td>27.0</td>\n",
       "      <td>18.0</td>\n",
       "      <td>3.0</td>\n",
       "      <td>0.0</td>\n",
       "      <td>C</td>\n",
       "      <td>9</td>\n",
       "      <td>s3</td>\n",
       "    </tr>\n",
       "    <tr>\n",
       "      <th>4</th>\n",
       "      <td>64.0</td>\n",
       "      <td>48.0</td>\n",
       "      <td>4.0</td>\n",
       "      <td>1.0</td>\n",
       "      <td>C</td>\n",
       "      <td>16</td>\n",
       "      <td>s4</td>\n",
       "    </tr>\n",
       "    <tr>\n",
       "      <th>5</th>\n",
       "      <td>125.0</td>\n",
       "      <td>100.0</td>\n",
       "      <td>5.0</td>\n",
       "      <td>2.0</td>\n",
       "      <td>C</td>\n",
       "      <td>25</td>\n",
       "      <td>s5</td>\n",
       "    </tr>\n",
       "    <tr>\n",
       "      <th>6</th>\n",
       "      <td>216.0</td>\n",
       "      <td>180.0</td>\n",
       "      <td>6.0</td>\n",
       "      <td>0.0</td>\n",
       "      <td>D</td>\n",
       "      <td>36</td>\n",
       "      <td>s6</td>\n",
       "    </tr>\n",
       "    <tr>\n",
       "      <th>7</th>\n",
       "      <td>343.0</td>\n",
       "      <td>294.0</td>\n",
       "      <td>7.0</td>\n",
       "      <td>1.0</td>\n",
       "      <td>D</td>\n",
       "      <td>49</td>\n",
       "      <td>s7</td>\n",
       "    </tr>\n",
       "    <tr>\n",
       "      <th>8</th>\n",
       "      <td>512.0</td>\n",
       "      <td>448.0</td>\n",
       "      <td>8.0</td>\n",
       "      <td>2.0</td>\n",
       "      <td>D</td>\n",
       "      <td>64</td>\n",
       "      <td>s8</td>\n",
       "    </tr>\n",
       "    <tr>\n",
       "      <th>9</th>\n",
       "      <td>729.0</td>\n",
       "      <td>648.0</td>\n",
       "      <td>9.0</td>\n",
       "      <td>0.0</td>\n",
       "      <td>D</td>\n",
       "      <td>81</td>\n",
       "      <td>s9</td>\n",
       "    </tr>\n",
       "    <tr>\n",
       "      <th>0</th>\n",
       "      <td>0.0</td>\n",
       "      <td>NaN</td>\n",
       "      <td>0.0</td>\n",
       "      <td>0.0</td>\n",
       "      <td>A</td>\n",
       "      <td>0</td>\n",
       "      <td>s0</td>\n",
       "    </tr>\n",
       "    <tr>\n",
       "      <th>1</th>\n",
       "      <td>1.0</td>\n",
       "      <td>NaN</td>\n",
       "      <td>1.0</td>\n",
       "      <td>1.0</td>\n",
       "      <td>A</td>\n",
       "      <td>1</td>\n",
       "      <td>s1</td>\n",
       "    </tr>\n",
       "    <tr>\n",
       "      <th>2</th>\n",
       "      <td>8.0</td>\n",
       "      <td>NaN</td>\n",
       "      <td>NaN</td>\n",
       "      <td>NaN</td>\n",
       "      <td>B</td>\n",
       "      <td>4</td>\n",
       "      <td>s2</td>\n",
       "    </tr>\n",
       "    <tr>\n",
       "      <th>3</th>\n",
       "      <td>27.0</td>\n",
       "      <td>NaN</td>\n",
       "      <td>3.0</td>\n",
       "      <td>0.0</td>\n",
       "      <td>B</td>\n",
       "      <td>9</td>\n",
       "      <td>s3</td>\n",
       "    </tr>\n",
       "    <tr>\n",
       "      <th>4</th>\n",
       "      <td>64.0</td>\n",
       "      <td>NaN</td>\n",
       "      <td>4.0</td>\n",
       "      <td>1.0</td>\n",
       "      <td>B</td>\n",
       "      <td>16</td>\n",
       "      <td>s4</td>\n",
       "    </tr>\n",
       "    <tr>\n",
       "      <th>5</th>\n",
       "      <td>125.0</td>\n",
       "      <td>NaN</td>\n",
       "      <td>5.0</td>\n",
       "      <td>2.0</td>\n",
       "      <td>B</td>\n",
       "      <td>25</td>\n",
       "      <td>s5</td>\n",
       "    </tr>\n",
       "    <tr>\n",
       "      <th>6</th>\n",
       "      <td>216.0</td>\n",
       "      <td>NaN</td>\n",
       "      <td>6.0</td>\n",
       "      <td>0.0</td>\n",
       "      <td>B</td>\n",
       "      <td>36</td>\n",
       "      <td>s6</td>\n",
       "    </tr>\n",
       "    <tr>\n",
       "      <th>7</th>\n",
       "      <td>343.0</td>\n",
       "      <td>NaN</td>\n",
       "      <td>7.0</td>\n",
       "      <td>1.0</td>\n",
       "      <td>E</td>\n",
       "      <td>49</td>\n",
       "      <td>NaN</td>\n",
       "    </tr>\n",
       "    <tr>\n",
       "      <th>8</th>\n",
       "      <td>512.0</td>\n",
       "      <td>NaN</td>\n",
       "      <td>8.0</td>\n",
       "      <td>2.0</td>\n",
       "      <td>E</td>\n",
       "      <td>64</td>\n",
       "      <td>s8</td>\n",
       "    </tr>\n",
       "    <tr>\n",
       "      <th>9</th>\n",
       "      <td>729.0</td>\n",
       "      <td>NaN</td>\n",
       "      <td>9.0</td>\n",
       "      <td>0.0</td>\n",
       "      <td>NaN</td>\n",
       "      <td>81</td>\n",
       "      <td>s9</td>\n",
       "    </tr>\n",
       "  </tbody>\n",
       "</table>\n",
       "</div>"
      ],
      "text/plain": [
       "    cube   diff  number  rem   s2  square string\n",
       "0    0.0    0.0     0.0  0.0    A       0     s0\n",
       "1    1.0    0.0     1.0  1.0    B       1     s1\n",
       "2    8.0    4.0     2.0  2.0    B       4     s2\n",
       "3   27.0   18.0     3.0  0.0    C       9     s3\n",
       "4   64.0   48.0     4.0  1.0    C      16     s4\n",
       "5  125.0  100.0     5.0  2.0    C      25     s5\n",
       "6  216.0  180.0     6.0  0.0    D      36     s6\n",
       "7  343.0  294.0     7.0  1.0    D      49     s7\n",
       "8  512.0  448.0     8.0  2.0    D      64     s8\n",
       "9  729.0  648.0     9.0  0.0    D      81     s9\n",
       "0    0.0    NaN     0.0  0.0    A       0     s0\n",
       "1    1.0    NaN     1.0  1.0    A       1     s1\n",
       "2    8.0    NaN     NaN  NaN    B       4     s2\n",
       "3   27.0    NaN     3.0  0.0    B       9     s3\n",
       "4   64.0    NaN     4.0  1.0    B      16     s4\n",
       "5  125.0    NaN     5.0  2.0    B      25     s5\n",
       "6  216.0    NaN     6.0  0.0    B      36     s6\n",
       "7  343.0    NaN     7.0  1.0    E      49    NaN\n",
       "8  512.0    NaN     8.0  2.0    E      64     s8\n",
       "9  729.0    NaN     9.0  0.0  NaN      81     s9"
      ]
     },
     "execution_count": 81,
     "metadata": {},
     "output_type": "execute_result"
    }
   ],
   "source": [
    "df2"
   ]
  },
  {
   "cell_type": "markdown",
   "metadata": {},
   "source": [
    "A few of things to note:\n",
    "\n",
    "  * The index is a bit strange looking (and even stranger acting)\n",
    "  * The ``dtype`` for a column will be adjusted to accommodate all the values, so that number, for example, ends up as as ``float`` column\n",
    "  * The column that was not present in ``df`` is filled with null values there.\n",
    "  \n",
    "  "
   ]
  },
  {
   "cell_type": "code",
   "execution_count": 82,
   "metadata": {},
   "outputs": [
    {
     "data": {
      "text/html": [
       "<div>\n",
       "<style scoped>\n",
       "    .dataframe tbody tr th:only-of-type {\n",
       "        vertical-align: middle;\n",
       "    }\n",
       "\n",
       "    .dataframe tbody tr th {\n",
       "        vertical-align: top;\n",
       "    }\n",
       "\n",
       "    .dataframe thead th {\n",
       "        text-align: right;\n",
       "    }\n",
       "</style>\n",
       "<table border=\"1\" class=\"dataframe\">\n",
       "  <thead>\n",
       "    <tr style=\"text-align: right;\">\n",
       "      <th></th>\n",
       "      <th>cube</th>\n",
       "      <th>diff</th>\n",
       "      <th>number</th>\n",
       "      <th>rem</th>\n",
       "      <th>s2</th>\n",
       "      <th>square</th>\n",
       "      <th>string</th>\n",
       "    </tr>\n",
       "  </thead>\n",
       "  <tbody>\n",
       "    <tr>\n",
       "      <th>1</th>\n",
       "      <td>1.0</td>\n",
       "      <td>0.0</td>\n",
       "      <td>1.0</td>\n",
       "      <td>1.0</td>\n",
       "      <td>B</td>\n",
       "      <td>1</td>\n",
       "      <td>s1</td>\n",
       "    </tr>\n",
       "    <tr>\n",
       "      <th>1</th>\n",
       "      <td>1.0</td>\n",
       "      <td>NaN</td>\n",
       "      <td>1.0</td>\n",
       "      <td>1.0</td>\n",
       "      <td>A</td>\n",
       "      <td>1</td>\n",
       "      <td>s1</td>\n",
       "    </tr>\n",
       "  </tbody>\n",
       "</table>\n",
       "</div>"
      ],
      "text/plain": [
       "   cube  diff  number  rem s2  square string\n",
       "1   1.0   0.0     1.0  1.0  B       1     s1\n",
       "1   1.0   NaN     1.0  1.0  A       1     s1"
      ]
     },
     "execution_count": 82,
     "metadata": {},
     "output_type": "execute_result"
    }
   ],
   "source": [
    "df2.loc[1]  # now selects BOTH rows with index 1"
   ]
  },
  {
   "cell_type": "code",
   "execution_count": 83,
   "metadata": {},
   "outputs": [
    {
     "data": {
      "text/plain": [
       "cube       1\n",
       "diff       0\n",
       "number     1\n",
       "rem        1\n",
       "s2         B\n",
       "square     1\n",
       "string    s1\n",
       "Name: 1, dtype: object"
      ]
     },
     "execution_count": 83,
     "metadata": {},
     "output_type": "execute_result"
    }
   ],
   "source": [
    "df2.iloc[1]  # just the row at position 1"
   ]
  },
  {
   "cell_type": "code",
   "execution_count": 84,
   "metadata": {},
   "outputs": [
    {
     "data": {
      "text/plain": [
       "[('number', dtype('float64')),\n",
       " ('square', dtype('int64')),\n",
       " ('cube', dtype('float64')),\n",
       " ('string', dtype('O')),\n",
       " ('rem', dtype('float64')),\n",
       " ('s2', dtype('O'))]"
      ]
     },
     "execution_count": 84,
     "metadata": {},
     "output_type": "execute_result"
    }
   ],
   "source": [
    "[(k, df2[k].dtype) for k in df]  # get the names and types for each column"
   ]
  },
  {
   "cell_type": "code",
   "execution_count": 85,
   "metadata": {},
   "outputs": [
    {
     "data": {
      "text/plain": [
       "Int64Index([0, 1, 2, 3, 4, 5, 6, 7, 8, 9, 0, 1, 2, 3, 4, 5, 6, 7, 8, 9], dtype='int64')"
      ]
     },
     "execution_count": 85,
     "metadata": {},
     "output_type": "execute_result"
    }
   ],
   "source": [
    "df2.index"
   ]
  },
  {
   "cell_type": "code",
   "execution_count": 86,
   "metadata": {},
   "outputs": [],
   "source": [
    "df2.reset_index(inplace=True)  # restore sanity, in-place"
   ]
  },
  {
   "cell_type": "code",
   "execution_count": 87,
   "metadata": {},
   "outputs": [
    {
     "data": {
      "text/html": [
       "<div>\n",
       "<style scoped>\n",
       "    .dataframe tbody tr th:only-of-type {\n",
       "        vertical-align: middle;\n",
       "    }\n",
       "\n",
       "    .dataframe tbody tr th {\n",
       "        vertical-align: top;\n",
       "    }\n",
       "\n",
       "    .dataframe thead th {\n",
       "        text-align: right;\n",
       "    }\n",
       "</style>\n",
       "<table border=\"1\" class=\"dataframe\">\n",
       "  <thead>\n",
       "    <tr style=\"text-align: right;\">\n",
       "      <th></th>\n",
       "      <th>index</th>\n",
       "      <th>cube</th>\n",
       "      <th>diff</th>\n",
       "      <th>number</th>\n",
       "      <th>rem</th>\n",
       "      <th>s2</th>\n",
       "      <th>square</th>\n",
       "      <th>string</th>\n",
       "    </tr>\n",
       "  </thead>\n",
       "  <tbody>\n",
       "    <tr>\n",
       "      <th>0</th>\n",
       "      <td>0</td>\n",
       "      <td>0.0</td>\n",
       "      <td>0.0</td>\n",
       "      <td>0.0</td>\n",
       "      <td>0.0</td>\n",
       "      <td>A</td>\n",
       "      <td>0</td>\n",
       "      <td>s0</td>\n",
       "    </tr>\n",
       "    <tr>\n",
       "      <th>1</th>\n",
       "      <td>1</td>\n",
       "      <td>1.0</td>\n",
       "      <td>0.0</td>\n",
       "      <td>1.0</td>\n",
       "      <td>1.0</td>\n",
       "      <td>B</td>\n",
       "      <td>1</td>\n",
       "      <td>s1</td>\n",
       "    </tr>\n",
       "    <tr>\n",
       "      <th>2</th>\n",
       "      <td>2</td>\n",
       "      <td>8.0</td>\n",
       "      <td>4.0</td>\n",
       "      <td>2.0</td>\n",
       "      <td>2.0</td>\n",
       "      <td>B</td>\n",
       "      <td>4</td>\n",
       "      <td>s2</td>\n",
       "    </tr>\n",
       "    <tr>\n",
       "      <th>3</th>\n",
       "      <td>3</td>\n",
       "      <td>27.0</td>\n",
       "      <td>18.0</td>\n",
       "      <td>3.0</td>\n",
       "      <td>0.0</td>\n",
       "      <td>C</td>\n",
       "      <td>9</td>\n",
       "      <td>s3</td>\n",
       "    </tr>\n",
       "    <tr>\n",
       "      <th>4</th>\n",
       "      <td>4</td>\n",
       "      <td>64.0</td>\n",
       "      <td>48.0</td>\n",
       "      <td>4.0</td>\n",
       "      <td>1.0</td>\n",
       "      <td>C</td>\n",
       "      <td>16</td>\n",
       "      <td>s4</td>\n",
       "    </tr>\n",
       "    <tr>\n",
       "      <th>5</th>\n",
       "      <td>5</td>\n",
       "      <td>125.0</td>\n",
       "      <td>100.0</td>\n",
       "      <td>5.0</td>\n",
       "      <td>2.0</td>\n",
       "      <td>C</td>\n",
       "      <td>25</td>\n",
       "      <td>s5</td>\n",
       "    </tr>\n",
       "    <tr>\n",
       "      <th>6</th>\n",
       "      <td>6</td>\n",
       "      <td>216.0</td>\n",
       "      <td>180.0</td>\n",
       "      <td>6.0</td>\n",
       "      <td>0.0</td>\n",
       "      <td>D</td>\n",
       "      <td>36</td>\n",
       "      <td>s6</td>\n",
       "    </tr>\n",
       "    <tr>\n",
       "      <th>7</th>\n",
       "      <td>7</td>\n",
       "      <td>343.0</td>\n",
       "      <td>294.0</td>\n",
       "      <td>7.0</td>\n",
       "      <td>1.0</td>\n",
       "      <td>D</td>\n",
       "      <td>49</td>\n",
       "      <td>s7</td>\n",
       "    </tr>\n",
       "    <tr>\n",
       "      <th>8</th>\n",
       "      <td>8</td>\n",
       "      <td>512.0</td>\n",
       "      <td>448.0</td>\n",
       "      <td>8.0</td>\n",
       "      <td>2.0</td>\n",
       "      <td>D</td>\n",
       "      <td>64</td>\n",
       "      <td>s8</td>\n",
       "    </tr>\n",
       "    <tr>\n",
       "      <th>9</th>\n",
       "      <td>9</td>\n",
       "      <td>729.0</td>\n",
       "      <td>648.0</td>\n",
       "      <td>9.0</td>\n",
       "      <td>0.0</td>\n",
       "      <td>D</td>\n",
       "      <td>81</td>\n",
       "      <td>s9</td>\n",
       "    </tr>\n",
       "    <tr>\n",
       "      <th>10</th>\n",
       "      <td>0</td>\n",
       "      <td>0.0</td>\n",
       "      <td>NaN</td>\n",
       "      <td>0.0</td>\n",
       "      <td>0.0</td>\n",
       "      <td>A</td>\n",
       "      <td>0</td>\n",
       "      <td>s0</td>\n",
       "    </tr>\n",
       "    <tr>\n",
       "      <th>11</th>\n",
       "      <td>1</td>\n",
       "      <td>1.0</td>\n",
       "      <td>NaN</td>\n",
       "      <td>1.0</td>\n",
       "      <td>1.0</td>\n",
       "      <td>A</td>\n",
       "      <td>1</td>\n",
       "      <td>s1</td>\n",
       "    </tr>\n",
       "    <tr>\n",
       "      <th>12</th>\n",
       "      <td>2</td>\n",
       "      <td>8.0</td>\n",
       "      <td>NaN</td>\n",
       "      <td>NaN</td>\n",
       "      <td>NaN</td>\n",
       "      <td>B</td>\n",
       "      <td>4</td>\n",
       "      <td>s2</td>\n",
       "    </tr>\n",
       "    <tr>\n",
       "      <th>13</th>\n",
       "      <td>3</td>\n",
       "      <td>27.0</td>\n",
       "      <td>NaN</td>\n",
       "      <td>3.0</td>\n",
       "      <td>0.0</td>\n",
       "      <td>B</td>\n",
       "      <td>9</td>\n",
       "      <td>s3</td>\n",
       "    </tr>\n",
       "    <tr>\n",
       "      <th>14</th>\n",
       "      <td>4</td>\n",
       "      <td>64.0</td>\n",
       "      <td>NaN</td>\n",
       "      <td>4.0</td>\n",
       "      <td>1.0</td>\n",
       "      <td>B</td>\n",
       "      <td>16</td>\n",
       "      <td>s4</td>\n",
       "    </tr>\n",
       "    <tr>\n",
       "      <th>15</th>\n",
       "      <td>5</td>\n",
       "      <td>125.0</td>\n",
       "      <td>NaN</td>\n",
       "      <td>5.0</td>\n",
       "      <td>2.0</td>\n",
       "      <td>B</td>\n",
       "      <td>25</td>\n",
       "      <td>s5</td>\n",
       "    </tr>\n",
       "    <tr>\n",
       "      <th>16</th>\n",
       "      <td>6</td>\n",
       "      <td>216.0</td>\n",
       "      <td>NaN</td>\n",
       "      <td>6.0</td>\n",
       "      <td>0.0</td>\n",
       "      <td>B</td>\n",
       "      <td>36</td>\n",
       "      <td>s6</td>\n",
       "    </tr>\n",
       "    <tr>\n",
       "      <th>17</th>\n",
       "      <td>7</td>\n",
       "      <td>343.0</td>\n",
       "      <td>NaN</td>\n",
       "      <td>7.0</td>\n",
       "      <td>1.0</td>\n",
       "      <td>E</td>\n",
       "      <td>49</td>\n",
       "      <td>NaN</td>\n",
       "    </tr>\n",
       "    <tr>\n",
       "      <th>18</th>\n",
       "      <td>8</td>\n",
       "      <td>512.0</td>\n",
       "      <td>NaN</td>\n",
       "      <td>8.0</td>\n",
       "      <td>2.0</td>\n",
       "      <td>E</td>\n",
       "      <td>64</td>\n",
       "      <td>s8</td>\n",
       "    </tr>\n",
       "    <tr>\n",
       "      <th>19</th>\n",
       "      <td>9</td>\n",
       "      <td>729.0</td>\n",
       "      <td>NaN</td>\n",
       "      <td>9.0</td>\n",
       "      <td>0.0</td>\n",
       "      <td>NaN</td>\n",
       "      <td>81</td>\n",
       "      <td>s9</td>\n",
       "    </tr>\n",
       "  </tbody>\n",
       "</table>\n",
       "</div>"
      ],
      "text/plain": [
       "    index   cube   diff  number  rem   s2  square string\n",
       "0       0    0.0    0.0     0.0  0.0    A       0     s0\n",
       "1       1    1.0    0.0     1.0  1.0    B       1     s1\n",
       "2       2    8.0    4.0     2.0  2.0    B       4     s2\n",
       "3       3   27.0   18.0     3.0  0.0    C       9     s3\n",
       "4       4   64.0   48.0     4.0  1.0    C      16     s4\n",
       "5       5  125.0  100.0     5.0  2.0    C      25     s5\n",
       "6       6  216.0  180.0     6.0  0.0    D      36     s6\n",
       "7       7  343.0  294.0     7.0  1.0    D      49     s7\n",
       "8       8  512.0  448.0     8.0  2.0    D      64     s8\n",
       "9       9  729.0  648.0     9.0  0.0    D      81     s9\n",
       "10      0    0.0    NaN     0.0  0.0    A       0     s0\n",
       "11      1    1.0    NaN     1.0  1.0    A       1     s1\n",
       "12      2    8.0    NaN     NaN  NaN    B       4     s2\n",
       "13      3   27.0    NaN     3.0  0.0    B       9     s3\n",
       "14      4   64.0    NaN     4.0  1.0    B      16     s4\n",
       "15      5  125.0    NaN     5.0  2.0    B      25     s5\n",
       "16      6  216.0    NaN     6.0  0.0    B      36     s6\n",
       "17      7  343.0    NaN     7.0  1.0    E      49    NaN\n",
       "18      8  512.0    NaN     8.0  2.0    E      64     s8\n",
       "19      9  729.0    NaN     9.0  0.0  NaN      81     s9"
      ]
     },
     "execution_count": 87,
     "metadata": {},
     "output_type": "execute_result"
    }
   ],
   "source": [
    "df2"
   ]
  },
  {
   "cell_type": "markdown",
   "metadata": {},
   "source": [
    "## Database-style joins"
   ]
  },
  {
   "cell_type": "markdown",
   "metadata": {},
   "source": [
    "We can also do database-style joins using the ``merge`` method.\n",
    "\n",
    "<img src=\"https://farm2.staticflickr.com/1781/43564022191_aa03278c51_o.png\" alt=\"Inner Database Join\" width=\"400\"/>\n",
    "<img src=\"https://farm2.staticflickr.com/1824/43564022171_e1f9a35501_o.png\" alt=\"Inner Database Join\" width=\"400\"/>\n",
    "\n",
    "<img src=\"https://farm1.staticflickr.com/834/43564022291_2f3383a03f_o.png\" alt=\"Inner Database Join\" width=\"400\"/>\n",
    "<img src=\"https://farm1.staticflickr.com/840/42658576395_0f3020d289_o.png\" alt=\"Inner Database Join\" width=\"400\"/>\n",
    "\n",
    "The default kind of join is ``inner``, i.e. joining only values present in both DataFrames."
   ]
  },
  {
   "cell_type": "code",
   "execution_count": 88,
   "metadata": {},
   "outputs": [],
   "source": [
    "L = df1[['s2', 'number', 'cube']]"
   ]
  },
  {
   "cell_type": "code",
   "execution_count": 89,
   "metadata": {},
   "outputs": [
    {
     "data": {
      "text/html": [
       "<div>\n",
       "<style scoped>\n",
       "    .dataframe tbody tr th:only-of-type {\n",
       "        vertical-align: middle;\n",
       "    }\n",
       "\n",
       "    .dataframe tbody tr th {\n",
       "        vertical-align: top;\n",
       "    }\n",
       "\n",
       "    .dataframe thead th {\n",
       "        text-align: right;\n",
       "    }\n",
       "</style>\n",
       "<table border=\"1\" class=\"dataframe\">\n",
       "  <thead>\n",
       "    <tr style=\"text-align: right;\">\n",
       "      <th></th>\n",
       "      <th>s2</th>\n",
       "      <th>number</th>\n",
       "      <th>cube</th>\n",
       "    </tr>\n",
       "  </thead>\n",
       "  <tbody>\n",
       "    <tr>\n",
       "      <th>0</th>\n",
       "      <td>A</td>\n",
       "      <td>0</td>\n",
       "      <td>0.0</td>\n",
       "    </tr>\n",
       "    <tr>\n",
       "      <th>1</th>\n",
       "      <td>B</td>\n",
       "      <td>1</td>\n",
       "      <td>1.0</td>\n",
       "    </tr>\n",
       "    <tr>\n",
       "      <th>2</th>\n",
       "      <td>B</td>\n",
       "      <td>2</td>\n",
       "      <td>8.0</td>\n",
       "    </tr>\n",
       "    <tr>\n",
       "      <th>3</th>\n",
       "      <td>C</td>\n",
       "      <td>3</td>\n",
       "      <td>27.0</td>\n",
       "    </tr>\n",
       "    <tr>\n",
       "      <th>4</th>\n",
       "      <td>C</td>\n",
       "      <td>4</td>\n",
       "      <td>64.0</td>\n",
       "    </tr>\n",
       "    <tr>\n",
       "      <th>5</th>\n",
       "      <td>C</td>\n",
       "      <td>5</td>\n",
       "      <td>125.0</td>\n",
       "    </tr>\n",
       "    <tr>\n",
       "      <th>6</th>\n",
       "      <td>D</td>\n",
       "      <td>6</td>\n",
       "      <td>216.0</td>\n",
       "    </tr>\n",
       "    <tr>\n",
       "      <th>7</th>\n",
       "      <td>D</td>\n",
       "      <td>7</td>\n",
       "      <td>343.0</td>\n",
       "    </tr>\n",
       "    <tr>\n",
       "      <th>8</th>\n",
       "      <td>D</td>\n",
       "      <td>8</td>\n",
       "      <td>512.0</td>\n",
       "    </tr>\n",
       "    <tr>\n",
       "      <th>9</th>\n",
       "      <td>D</td>\n",
       "      <td>9</td>\n",
       "      <td>729.0</td>\n",
       "    </tr>\n",
       "  </tbody>\n",
       "</table>\n",
       "</div>"
      ],
      "text/plain": [
       "  s2  number   cube\n",
       "0  A       0    0.0\n",
       "1  B       1    1.0\n",
       "2  B       2    8.0\n",
       "3  C       3   27.0\n",
       "4  C       4   64.0\n",
       "5  C       5  125.0\n",
       "6  D       6  216.0\n",
       "7  D       7  343.0\n",
       "8  D       8  512.0\n",
       "9  D       9  729.0"
      ]
     },
     "execution_count": 89,
     "metadata": {},
     "output_type": "execute_result"
    }
   ],
   "source": [
    "L"
   ]
  },
  {
   "cell_type": "code",
   "execution_count": 90,
   "metadata": {},
   "outputs": [],
   "source": [
    "R = df[['s2', 'number']]"
   ]
  },
  {
   "cell_type": "code",
   "execution_count": 91,
   "metadata": {},
   "outputs": [
    {
     "data": {
      "text/html": [
       "<div>\n",
       "<style scoped>\n",
       "    .dataframe tbody tr th:only-of-type {\n",
       "        vertical-align: middle;\n",
       "    }\n",
       "\n",
       "    .dataframe tbody tr th {\n",
       "        vertical-align: top;\n",
       "    }\n",
       "\n",
       "    .dataframe thead th {\n",
       "        text-align: right;\n",
       "    }\n",
       "</style>\n",
       "<table border=\"1\" class=\"dataframe\">\n",
       "  <thead>\n",
       "    <tr style=\"text-align: right;\">\n",
       "      <th></th>\n",
       "      <th>s2</th>\n",
       "      <th>number</th>\n",
       "    </tr>\n",
       "  </thead>\n",
       "  <tbody>\n",
       "    <tr>\n",
       "      <th>0</th>\n",
       "      <td>A</td>\n",
       "      <td>0.0</td>\n",
       "    </tr>\n",
       "    <tr>\n",
       "      <th>1</th>\n",
       "      <td>A</td>\n",
       "      <td>1.0</td>\n",
       "    </tr>\n",
       "    <tr>\n",
       "      <th>2</th>\n",
       "      <td>B</td>\n",
       "      <td>NaN</td>\n",
       "    </tr>\n",
       "    <tr>\n",
       "      <th>3</th>\n",
       "      <td>B</td>\n",
       "      <td>3.0</td>\n",
       "    </tr>\n",
       "    <tr>\n",
       "      <th>4</th>\n",
       "      <td>B</td>\n",
       "      <td>4.0</td>\n",
       "    </tr>\n",
       "    <tr>\n",
       "      <th>5</th>\n",
       "      <td>B</td>\n",
       "      <td>5.0</td>\n",
       "    </tr>\n",
       "    <tr>\n",
       "      <th>6</th>\n",
       "      <td>B</td>\n",
       "      <td>6.0</td>\n",
       "    </tr>\n",
       "    <tr>\n",
       "      <th>7</th>\n",
       "      <td>E</td>\n",
       "      <td>7.0</td>\n",
       "    </tr>\n",
       "    <tr>\n",
       "      <th>8</th>\n",
       "      <td>E</td>\n",
       "      <td>8.0</td>\n",
       "    </tr>\n",
       "    <tr>\n",
       "      <th>9</th>\n",
       "      <td>NaN</td>\n",
       "      <td>9.0</td>\n",
       "    </tr>\n",
       "  </tbody>\n",
       "</table>\n",
       "</div>"
      ],
      "text/plain": [
       "    s2  number\n",
       "0    A     0.0\n",
       "1    A     1.0\n",
       "2    B     NaN\n",
       "3    B     3.0\n",
       "4    B     4.0\n",
       "5    B     5.0\n",
       "6    B     6.0\n",
       "7    E     7.0\n",
       "8    E     8.0\n",
       "9  NaN     9.0"
      ]
     },
     "execution_count": 91,
     "metadata": {},
     "output_type": "execute_result"
    }
   ],
   "source": [
    "R"
   ]
  },
  {
   "cell_type": "code",
   "execution_count": 92,
   "metadata": {},
   "outputs": [],
   "source": [
    "LR = L.merge(R, on='number')"
   ]
  },
  {
   "cell_type": "code",
   "execution_count": 93,
   "metadata": {},
   "outputs": [
    {
     "data": {
      "text/html": [
       "<div>\n",
       "<style scoped>\n",
       "    .dataframe tbody tr th:only-of-type {\n",
       "        vertical-align: middle;\n",
       "    }\n",
       "\n",
       "    .dataframe tbody tr th {\n",
       "        vertical-align: top;\n",
       "    }\n",
       "\n",
       "    .dataframe thead th {\n",
       "        text-align: right;\n",
       "    }\n",
       "</style>\n",
       "<table border=\"1\" class=\"dataframe\">\n",
       "  <thead>\n",
       "    <tr style=\"text-align: right;\">\n",
       "      <th></th>\n",
       "      <th>s2_x</th>\n",
       "      <th>number</th>\n",
       "      <th>cube</th>\n",
       "      <th>s2_y</th>\n",
       "    </tr>\n",
       "  </thead>\n",
       "  <tbody>\n",
       "    <tr>\n",
       "      <th>0</th>\n",
       "      <td>A</td>\n",
       "      <td>0</td>\n",
       "      <td>0.0</td>\n",
       "      <td>A</td>\n",
       "    </tr>\n",
       "    <tr>\n",
       "      <th>1</th>\n",
       "      <td>B</td>\n",
       "      <td>1</td>\n",
       "      <td>1.0</td>\n",
       "      <td>A</td>\n",
       "    </tr>\n",
       "    <tr>\n",
       "      <th>2</th>\n",
       "      <td>C</td>\n",
       "      <td>3</td>\n",
       "      <td>27.0</td>\n",
       "      <td>B</td>\n",
       "    </tr>\n",
       "    <tr>\n",
       "      <th>3</th>\n",
       "      <td>C</td>\n",
       "      <td>4</td>\n",
       "      <td>64.0</td>\n",
       "      <td>B</td>\n",
       "    </tr>\n",
       "    <tr>\n",
       "      <th>4</th>\n",
       "      <td>C</td>\n",
       "      <td>5</td>\n",
       "      <td>125.0</td>\n",
       "      <td>B</td>\n",
       "    </tr>\n",
       "    <tr>\n",
       "      <th>5</th>\n",
       "      <td>D</td>\n",
       "      <td>6</td>\n",
       "      <td>216.0</td>\n",
       "      <td>B</td>\n",
       "    </tr>\n",
       "    <tr>\n",
       "      <th>6</th>\n",
       "      <td>D</td>\n",
       "      <td>7</td>\n",
       "      <td>343.0</td>\n",
       "      <td>E</td>\n",
       "    </tr>\n",
       "    <tr>\n",
       "      <th>7</th>\n",
       "      <td>D</td>\n",
       "      <td>8</td>\n",
       "      <td>512.0</td>\n",
       "      <td>E</td>\n",
       "    </tr>\n",
       "    <tr>\n",
       "      <th>8</th>\n",
       "      <td>D</td>\n",
       "      <td>9</td>\n",
       "      <td>729.0</td>\n",
       "      <td>NaN</td>\n",
       "    </tr>\n",
       "  </tbody>\n",
       "</table>\n",
       "</div>"
      ],
      "text/plain": [
       "  s2_x  number   cube s2_y\n",
       "0    A       0    0.0    A\n",
       "1    B       1    1.0    A\n",
       "2    C       3   27.0    B\n",
       "3    C       4   64.0    B\n",
       "4    C       5  125.0    B\n",
       "5    D       6  216.0    B\n",
       "6    D       7  343.0    E\n",
       "7    D       8  512.0    E\n",
       "8    D       9  729.0  NaN"
      ]
     },
     "execution_count": 93,
     "metadata": {},
     "output_type": "execute_result"
    }
   ],
   "source": [
    "LR"
   ]
  },
  {
   "cell_type": "markdown",
   "metadata": {},
   "source": [
    "Notes:\n",
    "\n",
    "  * Row 9 didn't join because the keys didn't match.\n",
    "  * The DataFrames didn't need to be in the same order.\n",
    "  * Because there was a column ``s2`` in both DataFrames, ``_x`` was added to the fieldname from ``L``, and ``_y`` was added to field from ``R``. We can specify different suffixes, as below. "
   ]
  },
  {
   "cell_type": "markdown",
   "metadata": {},
   "source": [
    "Now let's look at a left join on ``s2``:"
   ]
  },
  {
   "cell_type": "code",
   "execution_count": 94,
   "metadata": {},
   "outputs": [],
   "source": [
    "LR2 = L.merge(R, how='left', on='s2', suffixes=('L', 'R'))"
   ]
  },
  {
   "cell_type": "code",
   "execution_count": 95,
   "metadata": {},
   "outputs": [
    {
     "data": {
      "text/html": [
       "<div>\n",
       "<style scoped>\n",
       "    .dataframe tbody tr th:only-of-type {\n",
       "        vertical-align: middle;\n",
       "    }\n",
       "\n",
       "    .dataframe tbody tr th {\n",
       "        vertical-align: top;\n",
       "    }\n",
       "\n",
       "    .dataframe thead th {\n",
       "        text-align: right;\n",
       "    }\n",
       "</style>\n",
       "<table border=\"1\" class=\"dataframe\">\n",
       "  <thead>\n",
       "    <tr style=\"text-align: right;\">\n",
       "      <th></th>\n",
       "      <th>s2</th>\n",
       "      <th>numberL</th>\n",
       "      <th>cube</th>\n",
       "      <th>numberR</th>\n",
       "    </tr>\n",
       "  </thead>\n",
       "  <tbody>\n",
       "    <tr>\n",
       "      <th>0</th>\n",
       "      <td>A</td>\n",
       "      <td>0</td>\n",
       "      <td>0.0</td>\n",
       "      <td>0.0</td>\n",
       "    </tr>\n",
       "    <tr>\n",
       "      <th>1</th>\n",
       "      <td>A</td>\n",
       "      <td>0</td>\n",
       "      <td>0.0</td>\n",
       "      <td>1.0</td>\n",
       "    </tr>\n",
       "    <tr>\n",
       "      <th>2</th>\n",
       "      <td>B</td>\n",
       "      <td>1</td>\n",
       "      <td>1.0</td>\n",
       "      <td>NaN</td>\n",
       "    </tr>\n",
       "    <tr>\n",
       "      <th>3</th>\n",
       "      <td>B</td>\n",
       "      <td>1</td>\n",
       "      <td>1.0</td>\n",
       "      <td>3.0</td>\n",
       "    </tr>\n",
       "    <tr>\n",
       "      <th>4</th>\n",
       "      <td>B</td>\n",
       "      <td>1</td>\n",
       "      <td>1.0</td>\n",
       "      <td>4.0</td>\n",
       "    </tr>\n",
       "    <tr>\n",
       "      <th>5</th>\n",
       "      <td>B</td>\n",
       "      <td>1</td>\n",
       "      <td>1.0</td>\n",
       "      <td>5.0</td>\n",
       "    </tr>\n",
       "    <tr>\n",
       "      <th>6</th>\n",
       "      <td>B</td>\n",
       "      <td>1</td>\n",
       "      <td>1.0</td>\n",
       "      <td>6.0</td>\n",
       "    </tr>\n",
       "    <tr>\n",
       "      <th>7</th>\n",
       "      <td>B</td>\n",
       "      <td>2</td>\n",
       "      <td>8.0</td>\n",
       "      <td>NaN</td>\n",
       "    </tr>\n",
       "    <tr>\n",
       "      <th>8</th>\n",
       "      <td>B</td>\n",
       "      <td>2</td>\n",
       "      <td>8.0</td>\n",
       "      <td>3.0</td>\n",
       "    </tr>\n",
       "    <tr>\n",
       "      <th>9</th>\n",
       "      <td>B</td>\n",
       "      <td>2</td>\n",
       "      <td>8.0</td>\n",
       "      <td>4.0</td>\n",
       "    </tr>\n",
       "    <tr>\n",
       "      <th>10</th>\n",
       "      <td>B</td>\n",
       "      <td>2</td>\n",
       "      <td>8.0</td>\n",
       "      <td>5.0</td>\n",
       "    </tr>\n",
       "    <tr>\n",
       "      <th>11</th>\n",
       "      <td>B</td>\n",
       "      <td>2</td>\n",
       "      <td>8.0</td>\n",
       "      <td>6.0</td>\n",
       "    </tr>\n",
       "    <tr>\n",
       "      <th>12</th>\n",
       "      <td>C</td>\n",
       "      <td>3</td>\n",
       "      <td>27.0</td>\n",
       "      <td>NaN</td>\n",
       "    </tr>\n",
       "    <tr>\n",
       "      <th>13</th>\n",
       "      <td>C</td>\n",
       "      <td>4</td>\n",
       "      <td>64.0</td>\n",
       "      <td>NaN</td>\n",
       "    </tr>\n",
       "    <tr>\n",
       "      <th>14</th>\n",
       "      <td>C</td>\n",
       "      <td>5</td>\n",
       "      <td>125.0</td>\n",
       "      <td>NaN</td>\n",
       "    </tr>\n",
       "    <tr>\n",
       "      <th>15</th>\n",
       "      <td>D</td>\n",
       "      <td>6</td>\n",
       "      <td>216.0</td>\n",
       "      <td>NaN</td>\n",
       "    </tr>\n",
       "    <tr>\n",
       "      <th>16</th>\n",
       "      <td>D</td>\n",
       "      <td>7</td>\n",
       "      <td>343.0</td>\n",
       "      <td>NaN</td>\n",
       "    </tr>\n",
       "    <tr>\n",
       "      <th>17</th>\n",
       "      <td>D</td>\n",
       "      <td>8</td>\n",
       "      <td>512.0</td>\n",
       "      <td>NaN</td>\n",
       "    </tr>\n",
       "    <tr>\n",
       "      <th>18</th>\n",
       "      <td>D</td>\n",
       "      <td>9</td>\n",
       "      <td>729.0</td>\n",
       "      <td>NaN</td>\n",
       "    </tr>\n",
       "  </tbody>\n",
       "</table>\n",
       "</div>"
      ],
      "text/plain": [
       "   s2  numberL   cube  numberR\n",
       "0   A        0    0.0      0.0\n",
       "1   A        0    0.0      1.0\n",
       "2   B        1    1.0      NaN\n",
       "3   B        1    1.0      3.0\n",
       "4   B        1    1.0      4.0\n",
       "5   B        1    1.0      5.0\n",
       "6   B        1    1.0      6.0\n",
       "7   B        2    8.0      NaN\n",
       "8   B        2    8.0      3.0\n",
       "9   B        2    8.0      4.0\n",
       "10  B        2    8.0      5.0\n",
       "11  B        2    8.0      6.0\n",
       "12  C        3   27.0      NaN\n",
       "13  C        4   64.0      NaN\n",
       "14  C        5  125.0      NaN\n",
       "15  D        6  216.0      NaN\n",
       "16  D        7  343.0      NaN\n",
       "17  D        8  512.0      NaN\n",
       "18  D        9  729.0      NaN"
      ]
     },
     "execution_count": 95,
     "metadata": {},
     "output_type": "execute_result"
    }
   ],
   "source": [
    "LR2"
   ]
  },
  {
   "cell_type": "markdown",
   "metadata": {},
   "source": [
    "To understand what we got here, it helps to look at the three grouped counts:"
   ]
  },
  {
   "cell_type": "code",
   "execution_count": 96,
   "metadata": {},
   "outputs": [
    {
     "data": {
      "text/plain": [
       "s2\n",
       "A    1\n",
       "B    2\n",
       "C    3\n",
       "D    4\n",
       "Name: s2, dtype: int64"
      ]
     },
     "execution_count": 96,
     "metadata": {},
     "output_type": "execute_result"
    }
   ],
   "source": [
    "L.groupby('s2').s2.count()"
   ]
  },
  {
   "cell_type": "code",
   "execution_count": 97,
   "metadata": {},
   "outputs": [
    {
     "data": {
      "text/plain": [
       "s2\n",
       "A    2\n",
       "B    5\n",
       "E    2\n",
       "Name: s2, dtype: int64"
      ]
     },
     "execution_count": 97,
     "metadata": {},
     "output_type": "execute_result"
    }
   ],
   "source": [
    "R.groupby('s2').s2.count()"
   ]
  },
  {
   "cell_type": "code",
   "execution_count": 98,
   "metadata": {},
   "outputs": [
    {
     "data": {
      "text/plain": [
       "s2\n",
       "A     2\n",
       "B    10\n",
       "C     3\n",
       "D     4\n",
       "Name: s2, dtype: int64"
      ]
     },
     "execution_count": 98,
     "metadata": {},
     "output_type": "execute_result"
    }
   ],
   "source": [
    "LR2.groupby('s2').s2.count()"
   ]
  },
  {
   "cell_type": "markdown",
   "metadata": {},
   "source": [
    "We got 10 = 2 * 5 values for ``B`` because there were two entries in L with B, and five in R. All combinations were produced."
   ]
  },
  {
   "cell_type": "markdown",
   "metadata": {},
   "source": [
    "## Sorting DataFrames"
   ]
  },
  {
   "cell_type": "code",
   "execution_count": 99,
   "metadata": {},
   "outputs": [
    {
     "data": {
      "text/html": [
       "<div>\n",
       "<style scoped>\n",
       "    .dataframe tbody tr th:only-of-type {\n",
       "        vertical-align: middle;\n",
       "    }\n",
       "\n",
       "    .dataframe tbody tr th {\n",
       "        vertical-align: top;\n",
       "    }\n",
       "\n",
       "    .dataframe thead th {\n",
       "        text-align: right;\n",
       "    }\n",
       "</style>\n",
       "<table border=\"1\" class=\"dataframe\">\n",
       "  <thead>\n",
       "    <tr style=\"text-align: right;\">\n",
       "      <th></th>\n",
       "      <th>s2</th>\n",
       "      <th>numberL</th>\n",
       "      <th>cube</th>\n",
       "      <th>numberR</th>\n",
       "    </tr>\n",
       "  </thead>\n",
       "  <tbody>\n",
       "    <tr>\n",
       "      <th>0</th>\n",
       "      <td>A</td>\n",
       "      <td>0</td>\n",
       "      <td>0.0</td>\n",
       "      <td>0.0</td>\n",
       "    </tr>\n",
       "    <tr>\n",
       "      <th>1</th>\n",
       "      <td>A</td>\n",
       "      <td>0</td>\n",
       "      <td>0.0</td>\n",
       "      <td>1.0</td>\n",
       "    </tr>\n",
       "    <tr>\n",
       "      <th>11</th>\n",
       "      <td>B</td>\n",
       "      <td>2</td>\n",
       "      <td>8.0</td>\n",
       "      <td>6.0</td>\n",
       "    </tr>\n",
       "    <tr>\n",
       "      <th>10</th>\n",
       "      <td>B</td>\n",
       "      <td>2</td>\n",
       "      <td>8.0</td>\n",
       "      <td>5.0</td>\n",
       "    </tr>\n",
       "    <tr>\n",
       "      <th>8</th>\n",
       "      <td>B</td>\n",
       "      <td>2</td>\n",
       "      <td>8.0</td>\n",
       "      <td>3.0</td>\n",
       "    </tr>\n",
       "    <tr>\n",
       "      <th>7</th>\n",
       "      <td>B</td>\n",
       "      <td>2</td>\n",
       "      <td>8.0</td>\n",
       "      <td>NaN</td>\n",
       "    </tr>\n",
       "    <tr>\n",
       "      <th>9</th>\n",
       "      <td>B</td>\n",
       "      <td>2</td>\n",
       "      <td>8.0</td>\n",
       "      <td>4.0</td>\n",
       "    </tr>\n",
       "    <tr>\n",
       "      <th>5</th>\n",
       "      <td>B</td>\n",
       "      <td>1</td>\n",
       "      <td>1.0</td>\n",
       "      <td>5.0</td>\n",
       "    </tr>\n",
       "    <tr>\n",
       "      <th>4</th>\n",
       "      <td>B</td>\n",
       "      <td>1</td>\n",
       "      <td>1.0</td>\n",
       "      <td>4.0</td>\n",
       "    </tr>\n",
       "    <tr>\n",
       "      <th>3</th>\n",
       "      <td>B</td>\n",
       "      <td>1</td>\n",
       "      <td>1.0</td>\n",
       "      <td>3.0</td>\n",
       "    </tr>\n",
       "    <tr>\n",
       "      <th>2</th>\n",
       "      <td>B</td>\n",
       "      <td>1</td>\n",
       "      <td>1.0</td>\n",
       "      <td>NaN</td>\n",
       "    </tr>\n",
       "    <tr>\n",
       "      <th>6</th>\n",
       "      <td>B</td>\n",
       "      <td>1</td>\n",
       "      <td>1.0</td>\n",
       "      <td>6.0</td>\n",
       "    </tr>\n",
       "    <tr>\n",
       "      <th>12</th>\n",
       "      <td>C</td>\n",
       "      <td>3</td>\n",
       "      <td>27.0</td>\n",
       "      <td>NaN</td>\n",
       "    </tr>\n",
       "    <tr>\n",
       "      <th>13</th>\n",
       "      <td>C</td>\n",
       "      <td>4</td>\n",
       "      <td>64.0</td>\n",
       "      <td>NaN</td>\n",
       "    </tr>\n",
       "    <tr>\n",
       "      <th>14</th>\n",
       "      <td>C</td>\n",
       "      <td>5</td>\n",
       "      <td>125.0</td>\n",
       "      <td>NaN</td>\n",
       "    </tr>\n",
       "    <tr>\n",
       "      <th>17</th>\n",
       "      <td>D</td>\n",
       "      <td>8</td>\n",
       "      <td>512.0</td>\n",
       "      <td>NaN</td>\n",
       "    </tr>\n",
       "    <tr>\n",
       "      <th>15</th>\n",
       "      <td>D</td>\n",
       "      <td>6</td>\n",
       "      <td>216.0</td>\n",
       "      <td>NaN</td>\n",
       "    </tr>\n",
       "    <tr>\n",
       "      <th>16</th>\n",
       "      <td>D</td>\n",
       "      <td>7</td>\n",
       "      <td>343.0</td>\n",
       "      <td>NaN</td>\n",
       "    </tr>\n",
       "    <tr>\n",
       "      <th>18</th>\n",
       "      <td>D</td>\n",
       "      <td>9</td>\n",
       "      <td>729.0</td>\n",
       "      <td>NaN</td>\n",
       "    </tr>\n",
       "  </tbody>\n",
       "</table>\n",
       "</div>"
      ],
      "text/plain": [
       "   s2  numberL   cube  numberR\n",
       "0   A        0    0.0      0.0\n",
       "1   A        0    0.0      1.0\n",
       "11  B        2    8.0      6.0\n",
       "10  B        2    8.0      5.0\n",
       "8   B        2    8.0      3.0\n",
       "7   B        2    8.0      NaN\n",
       "9   B        2    8.0      4.0\n",
       "5   B        1    1.0      5.0\n",
       "4   B        1    1.0      4.0\n",
       "3   B        1    1.0      3.0\n",
       "2   B        1    1.0      NaN\n",
       "6   B        1    1.0      6.0\n",
       "12  C        3   27.0      NaN\n",
       "13  C        4   64.0      NaN\n",
       "14  C        5  125.0      NaN\n",
       "17  D        8  512.0      NaN\n",
       "15  D        6  216.0      NaN\n",
       "16  D        7  343.0      NaN\n",
       "18  D        9  729.0      NaN"
      ]
     },
     "execution_count": 99,
     "metadata": {},
     "output_type": "execute_result"
    }
   ],
   "source": [
    "LR2.sort_values('s2')  # by column s2, ascending"
   ]
  },
  {
   "cell_type": "code",
   "execution_count": 100,
   "metadata": {},
   "outputs": [
    {
     "data": {
      "text/html": [
       "<div>\n",
       "<style scoped>\n",
       "    .dataframe tbody tr th:only-of-type {\n",
       "        vertical-align: middle;\n",
       "    }\n",
       "\n",
       "    .dataframe tbody tr th {\n",
       "        vertical-align: top;\n",
       "    }\n",
       "\n",
       "    .dataframe thead th {\n",
       "        text-align: right;\n",
       "    }\n",
       "</style>\n",
       "<table border=\"1\" class=\"dataframe\">\n",
       "  <thead>\n",
       "    <tr style=\"text-align: right;\">\n",
       "      <th></th>\n",
       "      <th>s2</th>\n",
       "      <th>numberL</th>\n",
       "      <th>cube</th>\n",
       "      <th>numberR</th>\n",
       "    </tr>\n",
       "  </thead>\n",
       "  <tbody>\n",
       "    <tr>\n",
       "      <th>15</th>\n",
       "      <td>D</td>\n",
       "      <td>6</td>\n",
       "      <td>216.0</td>\n",
       "      <td>NaN</td>\n",
       "    </tr>\n",
       "    <tr>\n",
       "      <th>16</th>\n",
       "      <td>D</td>\n",
       "      <td>7</td>\n",
       "      <td>343.0</td>\n",
       "      <td>NaN</td>\n",
       "    </tr>\n",
       "    <tr>\n",
       "      <th>17</th>\n",
       "      <td>D</td>\n",
       "      <td>8</td>\n",
       "      <td>512.0</td>\n",
       "      <td>NaN</td>\n",
       "    </tr>\n",
       "    <tr>\n",
       "      <th>18</th>\n",
       "      <td>D</td>\n",
       "      <td>9</td>\n",
       "      <td>729.0</td>\n",
       "      <td>NaN</td>\n",
       "    </tr>\n",
       "    <tr>\n",
       "      <th>12</th>\n",
       "      <td>C</td>\n",
       "      <td>3</td>\n",
       "      <td>27.0</td>\n",
       "      <td>NaN</td>\n",
       "    </tr>\n",
       "    <tr>\n",
       "      <th>13</th>\n",
       "      <td>C</td>\n",
       "      <td>4</td>\n",
       "      <td>64.0</td>\n",
       "      <td>NaN</td>\n",
       "    </tr>\n",
       "    <tr>\n",
       "      <th>14</th>\n",
       "      <td>C</td>\n",
       "      <td>5</td>\n",
       "      <td>125.0</td>\n",
       "      <td>NaN</td>\n",
       "    </tr>\n",
       "    <tr>\n",
       "      <th>2</th>\n",
       "      <td>B</td>\n",
       "      <td>1</td>\n",
       "      <td>1.0</td>\n",
       "      <td>NaN</td>\n",
       "    </tr>\n",
       "    <tr>\n",
       "      <th>3</th>\n",
       "      <td>B</td>\n",
       "      <td>1</td>\n",
       "      <td>1.0</td>\n",
       "      <td>3.0</td>\n",
       "    </tr>\n",
       "    <tr>\n",
       "      <th>4</th>\n",
       "      <td>B</td>\n",
       "      <td>1</td>\n",
       "      <td>1.0</td>\n",
       "      <td>4.0</td>\n",
       "    </tr>\n",
       "    <tr>\n",
       "      <th>5</th>\n",
       "      <td>B</td>\n",
       "      <td>1</td>\n",
       "      <td>1.0</td>\n",
       "      <td>5.0</td>\n",
       "    </tr>\n",
       "    <tr>\n",
       "      <th>6</th>\n",
       "      <td>B</td>\n",
       "      <td>1</td>\n",
       "      <td>1.0</td>\n",
       "      <td>6.0</td>\n",
       "    </tr>\n",
       "    <tr>\n",
       "      <th>7</th>\n",
       "      <td>B</td>\n",
       "      <td>2</td>\n",
       "      <td>8.0</td>\n",
       "      <td>NaN</td>\n",
       "    </tr>\n",
       "    <tr>\n",
       "      <th>8</th>\n",
       "      <td>B</td>\n",
       "      <td>2</td>\n",
       "      <td>8.0</td>\n",
       "      <td>3.0</td>\n",
       "    </tr>\n",
       "    <tr>\n",
       "      <th>9</th>\n",
       "      <td>B</td>\n",
       "      <td>2</td>\n",
       "      <td>8.0</td>\n",
       "      <td>4.0</td>\n",
       "    </tr>\n",
       "    <tr>\n",
       "      <th>10</th>\n",
       "      <td>B</td>\n",
       "      <td>2</td>\n",
       "      <td>8.0</td>\n",
       "      <td>5.0</td>\n",
       "    </tr>\n",
       "    <tr>\n",
       "      <th>11</th>\n",
       "      <td>B</td>\n",
       "      <td>2</td>\n",
       "      <td>8.0</td>\n",
       "      <td>6.0</td>\n",
       "    </tr>\n",
       "    <tr>\n",
       "      <th>0</th>\n",
       "      <td>A</td>\n",
       "      <td>0</td>\n",
       "      <td>0.0</td>\n",
       "      <td>0.0</td>\n",
       "    </tr>\n",
       "    <tr>\n",
       "      <th>1</th>\n",
       "      <td>A</td>\n",
       "      <td>0</td>\n",
       "      <td>0.0</td>\n",
       "      <td>1.0</td>\n",
       "    </tr>\n",
       "  </tbody>\n",
       "</table>\n",
       "</div>"
      ],
      "text/plain": [
       "   s2  numberL   cube  numberR\n",
       "15  D        6  216.0      NaN\n",
       "16  D        7  343.0      NaN\n",
       "17  D        8  512.0      NaN\n",
       "18  D        9  729.0      NaN\n",
       "12  C        3   27.0      NaN\n",
       "13  C        4   64.0      NaN\n",
       "14  C        5  125.0      NaN\n",
       "2   B        1    1.0      NaN\n",
       "3   B        1    1.0      3.0\n",
       "4   B        1    1.0      4.0\n",
       "5   B        1    1.0      5.0\n",
       "6   B        1    1.0      6.0\n",
       "7   B        2    8.0      NaN\n",
       "8   B        2    8.0      3.0\n",
       "9   B        2    8.0      4.0\n",
       "10  B        2    8.0      5.0\n",
       "11  B        2    8.0      6.0\n",
       "0   A        0    0.0      0.0\n",
       "1   A        0    0.0      1.0"
      ]
     },
     "execution_count": 100,
     "metadata": {},
     "output_type": "execute_result"
    }
   ],
   "source": [
    "LR2.sort_values(['s2', 'cube'], ascending=[False, True], na_position='first')"
   ]
  },
  {
   "cell_type": "markdown",
   "metadata": {},
   "source": [
    "## More advanced column definitions"
   ]
  },
  {
   "cell_type": "code",
   "execution_count": 101,
   "metadata": {},
   "outputs": [
    {
     "data": {
      "text/html": [
       "<div>\n",
       "<style scoped>\n",
       "    .dataframe tbody tr th:only-of-type {\n",
       "        vertical-align: middle;\n",
       "    }\n",
       "\n",
       "    .dataframe tbody tr th {\n",
       "        vertical-align: top;\n",
       "    }\n",
       "\n",
       "    .dataframe thead th {\n",
       "        text-align: right;\n",
       "    }\n",
       "</style>\n",
       "<table border=\"1\" class=\"dataframe\">\n",
       "  <thead>\n",
       "    <tr style=\"text-align: right;\">\n",
       "      <th></th>\n",
       "      <th>number</th>\n",
       "      <th>square</th>\n",
       "      <th>cube</th>\n",
       "      <th>string</th>\n",
       "      <th>rem</th>\n",
       "      <th>s2</th>\n",
       "    </tr>\n",
       "  </thead>\n",
       "  <tbody>\n",
       "    <tr>\n",
       "      <th>0</th>\n",
       "      <td>0.0</td>\n",
       "      <td>0</td>\n",
       "      <td>0.0</td>\n",
       "      <td>s0</td>\n",
       "      <td>0.0</td>\n",
       "      <td>A</td>\n",
       "    </tr>\n",
       "    <tr>\n",
       "      <th>1</th>\n",
       "      <td>1.0</td>\n",
       "      <td>1</td>\n",
       "      <td>1.0</td>\n",
       "      <td>s1</td>\n",
       "      <td>1.0</td>\n",
       "      <td>A</td>\n",
       "    </tr>\n",
       "    <tr>\n",
       "      <th>2</th>\n",
       "      <td>NaN</td>\n",
       "      <td>4</td>\n",
       "      <td>8.0</td>\n",
       "      <td>s2</td>\n",
       "      <td>NaN</td>\n",
       "      <td>B</td>\n",
       "    </tr>\n",
       "    <tr>\n",
       "      <th>3</th>\n",
       "      <td>3.0</td>\n",
       "      <td>9</td>\n",
       "      <td>27.0</td>\n",
       "      <td>s3</td>\n",
       "      <td>0.0</td>\n",
       "      <td>B</td>\n",
       "    </tr>\n",
       "    <tr>\n",
       "      <th>4</th>\n",
       "      <td>4.0</td>\n",
       "      <td>16</td>\n",
       "      <td>64.0</td>\n",
       "      <td>s4</td>\n",
       "      <td>1.0</td>\n",
       "      <td>B</td>\n",
       "    </tr>\n",
       "    <tr>\n",
       "      <th>5</th>\n",
       "      <td>5.0</td>\n",
       "      <td>25</td>\n",
       "      <td>125.0</td>\n",
       "      <td>s5</td>\n",
       "      <td>2.0</td>\n",
       "      <td>B</td>\n",
       "    </tr>\n",
       "    <tr>\n",
       "      <th>6</th>\n",
       "      <td>6.0</td>\n",
       "      <td>36</td>\n",
       "      <td>216.0</td>\n",
       "      <td>s6</td>\n",
       "      <td>0.0</td>\n",
       "      <td>B</td>\n",
       "    </tr>\n",
       "    <tr>\n",
       "      <th>7</th>\n",
       "      <td>7.0</td>\n",
       "      <td>49</td>\n",
       "      <td>343.0</td>\n",
       "      <td>NaN</td>\n",
       "      <td>1.0</td>\n",
       "      <td>E</td>\n",
       "    </tr>\n",
       "    <tr>\n",
       "      <th>8</th>\n",
       "      <td>8.0</td>\n",
       "      <td>64</td>\n",
       "      <td>512.0</td>\n",
       "      <td>s8</td>\n",
       "      <td>2.0</td>\n",
       "      <td>E</td>\n",
       "    </tr>\n",
       "    <tr>\n",
       "      <th>9</th>\n",
       "      <td>9.0</td>\n",
       "      <td>81</td>\n",
       "      <td>729.0</td>\n",
       "      <td>s9</td>\n",
       "      <td>0.0</td>\n",
       "      <td>NaN</td>\n",
       "    </tr>\n",
       "  </tbody>\n",
       "</table>\n",
       "</div>"
      ],
      "text/plain": [
       "   number  square   cube string  rem   s2\n",
       "0     0.0       0    0.0     s0  0.0    A\n",
       "1     1.0       1    1.0     s1  1.0    A\n",
       "2     NaN       4    8.0     s2  NaN    B\n",
       "3     3.0       9   27.0     s3  0.0    B\n",
       "4     4.0      16   64.0     s4  1.0    B\n",
       "5     5.0      25  125.0     s5  2.0    B\n",
       "6     6.0      36  216.0     s6  0.0    B\n",
       "7     7.0      49  343.0    NaN  1.0    E\n",
       "8     8.0      64  512.0     s8  2.0    E\n",
       "9     9.0      81  729.0     s9  0.0  NaN"
      ]
     },
     "execution_count": 101,
     "metadata": {},
     "output_type": "execute_result"
    }
   ],
   "source": [
    "df"
   ]
  },
  {
   "cell_type": "markdown",
   "metadata": {},
   "source": [
    "### Replacing nulls with pandas fillna"
   ]
  },
  {
   "cell_type": "code",
   "execution_count": 102,
   "metadata": {},
   "outputs": [],
   "source": [
    "df['s3'] = df['s2'].fillna('F')"
   ]
  },
  {
   "cell_type": "code",
   "execution_count": 103,
   "metadata": {},
   "outputs": [
    {
     "data": {
      "text/html": [
       "<div>\n",
       "<style scoped>\n",
       "    .dataframe tbody tr th:only-of-type {\n",
       "        vertical-align: middle;\n",
       "    }\n",
       "\n",
       "    .dataframe tbody tr th {\n",
       "        vertical-align: top;\n",
       "    }\n",
       "\n",
       "    .dataframe thead th {\n",
       "        text-align: right;\n",
       "    }\n",
       "</style>\n",
       "<table border=\"1\" class=\"dataframe\">\n",
       "  <thead>\n",
       "    <tr style=\"text-align: right;\">\n",
       "      <th></th>\n",
       "      <th>number</th>\n",
       "      <th>square</th>\n",
       "      <th>cube</th>\n",
       "      <th>string</th>\n",
       "      <th>rem</th>\n",
       "      <th>s2</th>\n",
       "      <th>s3</th>\n",
       "    </tr>\n",
       "  </thead>\n",
       "  <tbody>\n",
       "    <tr>\n",
       "      <th>0</th>\n",
       "      <td>0.0</td>\n",
       "      <td>0</td>\n",
       "      <td>0.0</td>\n",
       "      <td>s0</td>\n",
       "      <td>0.0</td>\n",
       "      <td>A</td>\n",
       "      <td>A</td>\n",
       "    </tr>\n",
       "    <tr>\n",
       "      <th>1</th>\n",
       "      <td>1.0</td>\n",
       "      <td>1</td>\n",
       "      <td>1.0</td>\n",
       "      <td>s1</td>\n",
       "      <td>1.0</td>\n",
       "      <td>A</td>\n",
       "      <td>A</td>\n",
       "    </tr>\n",
       "    <tr>\n",
       "      <th>2</th>\n",
       "      <td>NaN</td>\n",
       "      <td>4</td>\n",
       "      <td>8.0</td>\n",
       "      <td>s2</td>\n",
       "      <td>NaN</td>\n",
       "      <td>B</td>\n",
       "      <td>B</td>\n",
       "    </tr>\n",
       "    <tr>\n",
       "      <th>3</th>\n",
       "      <td>3.0</td>\n",
       "      <td>9</td>\n",
       "      <td>27.0</td>\n",
       "      <td>s3</td>\n",
       "      <td>0.0</td>\n",
       "      <td>B</td>\n",
       "      <td>B</td>\n",
       "    </tr>\n",
       "    <tr>\n",
       "      <th>4</th>\n",
       "      <td>4.0</td>\n",
       "      <td>16</td>\n",
       "      <td>64.0</td>\n",
       "      <td>s4</td>\n",
       "      <td>1.0</td>\n",
       "      <td>B</td>\n",
       "      <td>B</td>\n",
       "    </tr>\n",
       "    <tr>\n",
       "      <th>5</th>\n",
       "      <td>5.0</td>\n",
       "      <td>25</td>\n",
       "      <td>125.0</td>\n",
       "      <td>s5</td>\n",
       "      <td>2.0</td>\n",
       "      <td>B</td>\n",
       "      <td>B</td>\n",
       "    </tr>\n",
       "    <tr>\n",
       "      <th>6</th>\n",
       "      <td>6.0</td>\n",
       "      <td>36</td>\n",
       "      <td>216.0</td>\n",
       "      <td>s6</td>\n",
       "      <td>0.0</td>\n",
       "      <td>B</td>\n",
       "      <td>B</td>\n",
       "    </tr>\n",
       "    <tr>\n",
       "      <th>7</th>\n",
       "      <td>7.0</td>\n",
       "      <td>49</td>\n",
       "      <td>343.0</td>\n",
       "      <td>NaN</td>\n",
       "      <td>1.0</td>\n",
       "      <td>E</td>\n",
       "      <td>E</td>\n",
       "    </tr>\n",
       "    <tr>\n",
       "      <th>8</th>\n",
       "      <td>8.0</td>\n",
       "      <td>64</td>\n",
       "      <td>512.0</td>\n",
       "      <td>s8</td>\n",
       "      <td>2.0</td>\n",
       "      <td>E</td>\n",
       "      <td>E</td>\n",
       "    </tr>\n",
       "    <tr>\n",
       "      <th>9</th>\n",
       "      <td>9.0</td>\n",
       "      <td>81</td>\n",
       "      <td>729.0</td>\n",
       "      <td>s9</td>\n",
       "      <td>0.0</td>\n",
       "      <td>NaN</td>\n",
       "      <td>F</td>\n",
       "    </tr>\n",
       "  </tbody>\n",
       "</table>\n",
       "</div>"
      ],
      "text/plain": [
       "   number  square   cube string  rem   s2 s3\n",
       "0     0.0       0    0.0     s0  0.0    A  A\n",
       "1     1.0       1    1.0     s1  1.0    A  A\n",
       "2     NaN       4    8.0     s2  NaN    B  B\n",
       "3     3.0       9   27.0     s3  0.0    B  B\n",
       "4     4.0      16   64.0     s4  1.0    B  B\n",
       "5     5.0      25  125.0     s5  2.0    B  B\n",
       "6     6.0      36  216.0     s6  0.0    B  B\n",
       "7     7.0      49  343.0    NaN  1.0    E  E\n",
       "8     8.0      64  512.0     s8  2.0    E  E\n",
       "9     9.0      81  729.0     s9  0.0  NaN  F"
      ]
     },
     "execution_count": 103,
     "metadata": {},
     "output_type": "execute_result"
    }
   ],
   "source": [
    "df"
   ]
  },
  {
   "cell_type": "markdown",
   "metadata": {},
   "source": [
    "### Conditionals with numpy.where"
   ]
  },
  {
   "cell_type": "code",
   "execution_count": 104,
   "metadata": {},
   "outputs": [],
   "source": [
    "df['s4'] = np.where(df.square < 25, 'small', 'large')"
   ]
  },
  {
   "cell_type": "code",
   "execution_count": 105,
   "metadata": {},
   "outputs": [
    {
     "data": {
      "text/html": [
       "<div>\n",
       "<style scoped>\n",
       "    .dataframe tbody tr th:only-of-type {\n",
       "        vertical-align: middle;\n",
       "    }\n",
       "\n",
       "    .dataframe tbody tr th {\n",
       "        vertical-align: top;\n",
       "    }\n",
       "\n",
       "    .dataframe thead th {\n",
       "        text-align: right;\n",
       "    }\n",
       "</style>\n",
       "<table border=\"1\" class=\"dataframe\">\n",
       "  <thead>\n",
       "    <tr style=\"text-align: right;\">\n",
       "      <th></th>\n",
       "      <th>number</th>\n",
       "      <th>square</th>\n",
       "      <th>cube</th>\n",
       "      <th>string</th>\n",
       "      <th>rem</th>\n",
       "      <th>s2</th>\n",
       "      <th>s3</th>\n",
       "      <th>s4</th>\n",
       "    </tr>\n",
       "  </thead>\n",
       "  <tbody>\n",
       "    <tr>\n",
       "      <th>0</th>\n",
       "      <td>0.0</td>\n",
       "      <td>0</td>\n",
       "      <td>0.0</td>\n",
       "      <td>s0</td>\n",
       "      <td>0.0</td>\n",
       "      <td>A</td>\n",
       "      <td>A</td>\n",
       "      <td>small</td>\n",
       "    </tr>\n",
       "    <tr>\n",
       "      <th>1</th>\n",
       "      <td>1.0</td>\n",
       "      <td>1</td>\n",
       "      <td>1.0</td>\n",
       "      <td>s1</td>\n",
       "      <td>1.0</td>\n",
       "      <td>A</td>\n",
       "      <td>A</td>\n",
       "      <td>small</td>\n",
       "    </tr>\n",
       "    <tr>\n",
       "      <th>2</th>\n",
       "      <td>NaN</td>\n",
       "      <td>4</td>\n",
       "      <td>8.0</td>\n",
       "      <td>s2</td>\n",
       "      <td>NaN</td>\n",
       "      <td>B</td>\n",
       "      <td>B</td>\n",
       "      <td>small</td>\n",
       "    </tr>\n",
       "    <tr>\n",
       "      <th>3</th>\n",
       "      <td>3.0</td>\n",
       "      <td>9</td>\n",
       "      <td>27.0</td>\n",
       "      <td>s3</td>\n",
       "      <td>0.0</td>\n",
       "      <td>B</td>\n",
       "      <td>B</td>\n",
       "      <td>small</td>\n",
       "    </tr>\n",
       "    <tr>\n",
       "      <th>4</th>\n",
       "      <td>4.0</td>\n",
       "      <td>16</td>\n",
       "      <td>64.0</td>\n",
       "      <td>s4</td>\n",
       "      <td>1.0</td>\n",
       "      <td>B</td>\n",
       "      <td>B</td>\n",
       "      <td>small</td>\n",
       "    </tr>\n",
       "    <tr>\n",
       "      <th>5</th>\n",
       "      <td>5.0</td>\n",
       "      <td>25</td>\n",
       "      <td>125.0</td>\n",
       "      <td>s5</td>\n",
       "      <td>2.0</td>\n",
       "      <td>B</td>\n",
       "      <td>B</td>\n",
       "      <td>large</td>\n",
       "    </tr>\n",
       "    <tr>\n",
       "      <th>6</th>\n",
       "      <td>6.0</td>\n",
       "      <td>36</td>\n",
       "      <td>216.0</td>\n",
       "      <td>s6</td>\n",
       "      <td>0.0</td>\n",
       "      <td>B</td>\n",
       "      <td>B</td>\n",
       "      <td>large</td>\n",
       "    </tr>\n",
       "    <tr>\n",
       "      <th>7</th>\n",
       "      <td>7.0</td>\n",
       "      <td>49</td>\n",
       "      <td>343.0</td>\n",
       "      <td>NaN</td>\n",
       "      <td>1.0</td>\n",
       "      <td>E</td>\n",
       "      <td>E</td>\n",
       "      <td>large</td>\n",
       "    </tr>\n",
       "    <tr>\n",
       "      <th>8</th>\n",
       "      <td>8.0</td>\n",
       "      <td>64</td>\n",
       "      <td>512.0</td>\n",
       "      <td>s8</td>\n",
       "      <td>2.0</td>\n",
       "      <td>E</td>\n",
       "      <td>E</td>\n",
       "      <td>large</td>\n",
       "    </tr>\n",
       "    <tr>\n",
       "      <th>9</th>\n",
       "      <td>9.0</td>\n",
       "      <td>81</td>\n",
       "      <td>729.0</td>\n",
       "      <td>s9</td>\n",
       "      <td>0.0</td>\n",
       "      <td>NaN</td>\n",
       "      <td>F</td>\n",
       "      <td>large</td>\n",
       "    </tr>\n",
       "  </tbody>\n",
       "</table>\n",
       "</div>"
      ],
      "text/plain": [
       "   number  square   cube string  rem   s2 s3     s4\n",
       "0     0.0       0    0.0     s0  0.0    A  A  small\n",
       "1     1.0       1    1.0     s1  1.0    A  A  small\n",
       "2     NaN       4    8.0     s2  NaN    B  B  small\n",
       "3     3.0       9   27.0     s3  0.0    B  B  small\n",
       "4     4.0      16   64.0     s4  1.0    B  B  small\n",
       "5     5.0      25  125.0     s5  2.0    B  B  large\n",
       "6     6.0      36  216.0     s6  0.0    B  B  large\n",
       "7     7.0      49  343.0    NaN  1.0    E  E  large\n",
       "8     8.0      64  512.0     s8  2.0    E  E  large\n",
       "9     9.0      81  729.0     s9  0.0  NaN  F  large"
      ]
     },
     "execution_count": 105,
     "metadata": {},
     "output_type": "execute_result"
    }
   ],
   "source": [
    "df"
   ]
  },
  {
   "cell_type": "markdown",
   "metadata": {},
   "source": [
    "### Pandas String functions"
   ]
  },
  {
   "cell_type": "markdown",
   "metadata": {},
   "source": [
    "In order to apply string functions to a Pandas column containing strings, we first need to use the ``.str`` property,\n",
    "which effectively converts them Pandas strings to Python string objects, for which the string methods exist."
   ]
  },
  {
   "cell_type": "code",
   "execution_count": 106,
   "metadata": {},
   "outputs": [],
   "source": [
    "df['L'] = df.s2.str.lower()"
   ]
  },
  {
   "cell_type": "code",
   "execution_count": 107,
   "metadata": {},
   "outputs": [
    {
     "data": {
      "text/html": [
       "<div>\n",
       "<style scoped>\n",
       "    .dataframe tbody tr th:only-of-type {\n",
       "        vertical-align: middle;\n",
       "    }\n",
       "\n",
       "    .dataframe tbody tr th {\n",
       "        vertical-align: top;\n",
       "    }\n",
       "\n",
       "    .dataframe thead th {\n",
       "        text-align: right;\n",
       "    }\n",
       "</style>\n",
       "<table border=\"1\" class=\"dataframe\">\n",
       "  <thead>\n",
       "    <tr style=\"text-align: right;\">\n",
       "      <th></th>\n",
       "      <th>number</th>\n",
       "      <th>square</th>\n",
       "      <th>cube</th>\n",
       "      <th>string</th>\n",
       "      <th>rem</th>\n",
       "      <th>s2</th>\n",
       "      <th>s3</th>\n",
       "      <th>s4</th>\n",
       "      <th>L</th>\n",
       "    </tr>\n",
       "  </thead>\n",
       "  <tbody>\n",
       "    <tr>\n",
       "      <th>0</th>\n",
       "      <td>0.0</td>\n",
       "      <td>0</td>\n",
       "      <td>0.0</td>\n",
       "      <td>s0</td>\n",
       "      <td>0.0</td>\n",
       "      <td>A</td>\n",
       "      <td>A</td>\n",
       "      <td>small</td>\n",
       "      <td>a</td>\n",
       "    </tr>\n",
       "    <tr>\n",
       "      <th>1</th>\n",
       "      <td>1.0</td>\n",
       "      <td>1</td>\n",
       "      <td>1.0</td>\n",
       "      <td>s1</td>\n",
       "      <td>1.0</td>\n",
       "      <td>A</td>\n",
       "      <td>A</td>\n",
       "      <td>small</td>\n",
       "      <td>a</td>\n",
       "    </tr>\n",
       "    <tr>\n",
       "      <th>2</th>\n",
       "      <td>NaN</td>\n",
       "      <td>4</td>\n",
       "      <td>8.0</td>\n",
       "      <td>s2</td>\n",
       "      <td>NaN</td>\n",
       "      <td>B</td>\n",
       "      <td>B</td>\n",
       "      <td>small</td>\n",
       "      <td>b</td>\n",
       "    </tr>\n",
       "    <tr>\n",
       "      <th>3</th>\n",
       "      <td>3.0</td>\n",
       "      <td>9</td>\n",
       "      <td>27.0</td>\n",
       "      <td>s3</td>\n",
       "      <td>0.0</td>\n",
       "      <td>B</td>\n",
       "      <td>B</td>\n",
       "      <td>small</td>\n",
       "      <td>b</td>\n",
       "    </tr>\n",
       "    <tr>\n",
       "      <th>4</th>\n",
       "      <td>4.0</td>\n",
       "      <td>16</td>\n",
       "      <td>64.0</td>\n",
       "      <td>s4</td>\n",
       "      <td>1.0</td>\n",
       "      <td>B</td>\n",
       "      <td>B</td>\n",
       "      <td>small</td>\n",
       "      <td>b</td>\n",
       "    </tr>\n",
       "    <tr>\n",
       "      <th>5</th>\n",
       "      <td>5.0</td>\n",
       "      <td>25</td>\n",
       "      <td>125.0</td>\n",
       "      <td>s5</td>\n",
       "      <td>2.0</td>\n",
       "      <td>B</td>\n",
       "      <td>B</td>\n",
       "      <td>large</td>\n",
       "      <td>b</td>\n",
       "    </tr>\n",
       "    <tr>\n",
       "      <th>6</th>\n",
       "      <td>6.0</td>\n",
       "      <td>36</td>\n",
       "      <td>216.0</td>\n",
       "      <td>s6</td>\n",
       "      <td>0.0</td>\n",
       "      <td>B</td>\n",
       "      <td>B</td>\n",
       "      <td>large</td>\n",
       "      <td>b</td>\n",
       "    </tr>\n",
       "    <tr>\n",
       "      <th>7</th>\n",
       "      <td>7.0</td>\n",
       "      <td>49</td>\n",
       "      <td>343.0</td>\n",
       "      <td>NaN</td>\n",
       "      <td>1.0</td>\n",
       "      <td>E</td>\n",
       "      <td>E</td>\n",
       "      <td>large</td>\n",
       "      <td>e</td>\n",
       "    </tr>\n",
       "    <tr>\n",
       "      <th>8</th>\n",
       "      <td>8.0</td>\n",
       "      <td>64</td>\n",
       "      <td>512.0</td>\n",
       "      <td>s8</td>\n",
       "      <td>2.0</td>\n",
       "      <td>E</td>\n",
       "      <td>E</td>\n",
       "      <td>large</td>\n",
       "      <td>e</td>\n",
       "    </tr>\n",
       "    <tr>\n",
       "      <th>9</th>\n",
       "      <td>9.0</td>\n",
       "      <td>81</td>\n",
       "      <td>729.0</td>\n",
       "      <td>s9</td>\n",
       "      <td>0.0</td>\n",
       "      <td>NaN</td>\n",
       "      <td>F</td>\n",
       "      <td>large</td>\n",
       "      <td>NaN</td>\n",
       "    </tr>\n",
       "  </tbody>\n",
       "</table>\n",
       "</div>"
      ],
      "text/plain": [
       "   number  square   cube string  rem   s2 s3     s4    L\n",
       "0     0.0       0    0.0     s0  0.0    A  A  small    a\n",
       "1     1.0       1    1.0     s1  1.0    A  A  small    a\n",
       "2     NaN       4    8.0     s2  NaN    B  B  small    b\n",
       "3     3.0       9   27.0     s3  0.0    B  B  small    b\n",
       "4     4.0      16   64.0     s4  1.0    B  B  small    b\n",
       "5     5.0      25  125.0     s5  2.0    B  B  large    b\n",
       "6     6.0      36  216.0     s6  0.0    B  B  large    b\n",
       "7     7.0      49  343.0    NaN  1.0    E  E  large    e\n",
       "8     8.0      64  512.0     s8  2.0    E  E  large    e\n",
       "9     9.0      81  729.0     s9  0.0  NaN  F  large  NaN"
      ]
     },
     "execution_count": 107,
     "metadata": {},
     "output_type": "execute_result"
    }
   ],
   "source": [
    "df"
   ]
  },
  {
   "cell_type": "markdown",
   "metadata": {},
   "source": [
    "### Numpy Maths functions"
   ]
  },
  {
   "cell_type": "code",
   "execution_count": 108,
   "metadata": {},
   "outputs": [],
   "source": [
    "df['sin'] = np.sin(df.number)"
   ]
  },
  {
   "cell_type": "code",
   "execution_count": 109,
   "metadata": {},
   "outputs": [],
   "source": [
    "df['cos'] = np.cos(df.number)"
   ]
  },
  {
   "cell_type": "code",
   "execution_count": 110,
   "metadata": {},
   "outputs": [],
   "source": [
    "df['one'] = (df.sin * df.sin + df.cos * df.cos).fillna(1)"
   ]
  },
  {
   "cell_type": "code",
   "execution_count": 111,
   "metadata": {},
   "outputs": [
    {
     "data": {
      "text/html": [
       "<div>\n",
       "<style scoped>\n",
       "    .dataframe tbody tr th:only-of-type {\n",
       "        vertical-align: middle;\n",
       "    }\n",
       "\n",
       "    .dataframe tbody tr th {\n",
       "        vertical-align: top;\n",
       "    }\n",
       "\n",
       "    .dataframe thead th {\n",
       "        text-align: right;\n",
       "    }\n",
       "</style>\n",
       "<table border=\"1\" class=\"dataframe\">\n",
       "  <thead>\n",
       "    <tr style=\"text-align: right;\">\n",
       "      <th></th>\n",
       "      <th>number</th>\n",
       "      <th>square</th>\n",
       "      <th>cube</th>\n",
       "      <th>string</th>\n",
       "      <th>rem</th>\n",
       "      <th>s2</th>\n",
       "      <th>s3</th>\n",
       "      <th>s4</th>\n",
       "      <th>L</th>\n",
       "      <th>sin</th>\n",
       "      <th>cos</th>\n",
       "      <th>one</th>\n",
       "    </tr>\n",
       "  </thead>\n",
       "  <tbody>\n",
       "    <tr>\n",
       "      <th>0</th>\n",
       "      <td>0.0</td>\n",
       "      <td>0</td>\n",
       "      <td>0.0</td>\n",
       "      <td>s0</td>\n",
       "      <td>0.0</td>\n",
       "      <td>A</td>\n",
       "      <td>A</td>\n",
       "      <td>small</td>\n",
       "      <td>a</td>\n",
       "      <td>0.000000</td>\n",
       "      <td>1.000000</td>\n",
       "      <td>1.0</td>\n",
       "    </tr>\n",
       "    <tr>\n",
       "      <th>1</th>\n",
       "      <td>1.0</td>\n",
       "      <td>1</td>\n",
       "      <td>1.0</td>\n",
       "      <td>s1</td>\n",
       "      <td>1.0</td>\n",
       "      <td>A</td>\n",
       "      <td>A</td>\n",
       "      <td>small</td>\n",
       "      <td>a</td>\n",
       "      <td>0.841471</td>\n",
       "      <td>0.540302</td>\n",
       "      <td>1.0</td>\n",
       "    </tr>\n",
       "    <tr>\n",
       "      <th>2</th>\n",
       "      <td>NaN</td>\n",
       "      <td>4</td>\n",
       "      <td>8.0</td>\n",
       "      <td>s2</td>\n",
       "      <td>NaN</td>\n",
       "      <td>B</td>\n",
       "      <td>B</td>\n",
       "      <td>small</td>\n",
       "      <td>b</td>\n",
       "      <td>NaN</td>\n",
       "      <td>NaN</td>\n",
       "      <td>1.0</td>\n",
       "    </tr>\n",
       "    <tr>\n",
       "      <th>3</th>\n",
       "      <td>3.0</td>\n",
       "      <td>9</td>\n",
       "      <td>27.0</td>\n",
       "      <td>s3</td>\n",
       "      <td>0.0</td>\n",
       "      <td>B</td>\n",
       "      <td>B</td>\n",
       "      <td>small</td>\n",
       "      <td>b</td>\n",
       "      <td>0.141120</td>\n",
       "      <td>-0.989992</td>\n",
       "      <td>1.0</td>\n",
       "    </tr>\n",
       "    <tr>\n",
       "      <th>4</th>\n",
       "      <td>4.0</td>\n",
       "      <td>16</td>\n",
       "      <td>64.0</td>\n",
       "      <td>s4</td>\n",
       "      <td>1.0</td>\n",
       "      <td>B</td>\n",
       "      <td>B</td>\n",
       "      <td>small</td>\n",
       "      <td>b</td>\n",
       "      <td>-0.756802</td>\n",
       "      <td>-0.653644</td>\n",
       "      <td>1.0</td>\n",
       "    </tr>\n",
       "    <tr>\n",
       "      <th>5</th>\n",
       "      <td>5.0</td>\n",
       "      <td>25</td>\n",
       "      <td>125.0</td>\n",
       "      <td>s5</td>\n",
       "      <td>2.0</td>\n",
       "      <td>B</td>\n",
       "      <td>B</td>\n",
       "      <td>large</td>\n",
       "      <td>b</td>\n",
       "      <td>-0.958924</td>\n",
       "      <td>0.283662</td>\n",
       "      <td>1.0</td>\n",
       "    </tr>\n",
       "    <tr>\n",
       "      <th>6</th>\n",
       "      <td>6.0</td>\n",
       "      <td>36</td>\n",
       "      <td>216.0</td>\n",
       "      <td>s6</td>\n",
       "      <td>0.0</td>\n",
       "      <td>B</td>\n",
       "      <td>B</td>\n",
       "      <td>large</td>\n",
       "      <td>b</td>\n",
       "      <td>-0.279415</td>\n",
       "      <td>0.960170</td>\n",
       "      <td>1.0</td>\n",
       "    </tr>\n",
       "    <tr>\n",
       "      <th>7</th>\n",
       "      <td>7.0</td>\n",
       "      <td>49</td>\n",
       "      <td>343.0</td>\n",
       "      <td>NaN</td>\n",
       "      <td>1.0</td>\n",
       "      <td>E</td>\n",
       "      <td>E</td>\n",
       "      <td>large</td>\n",
       "      <td>e</td>\n",
       "      <td>0.656987</td>\n",
       "      <td>0.753902</td>\n",
       "      <td>1.0</td>\n",
       "    </tr>\n",
       "    <tr>\n",
       "      <th>8</th>\n",
       "      <td>8.0</td>\n",
       "      <td>64</td>\n",
       "      <td>512.0</td>\n",
       "      <td>s8</td>\n",
       "      <td>2.0</td>\n",
       "      <td>E</td>\n",
       "      <td>E</td>\n",
       "      <td>large</td>\n",
       "      <td>e</td>\n",
       "      <td>0.989358</td>\n",
       "      <td>-0.145500</td>\n",
       "      <td>1.0</td>\n",
       "    </tr>\n",
       "    <tr>\n",
       "      <th>9</th>\n",
       "      <td>9.0</td>\n",
       "      <td>81</td>\n",
       "      <td>729.0</td>\n",
       "      <td>s9</td>\n",
       "      <td>0.0</td>\n",
       "      <td>NaN</td>\n",
       "      <td>F</td>\n",
       "      <td>large</td>\n",
       "      <td>NaN</td>\n",
       "      <td>0.412118</td>\n",
       "      <td>-0.911130</td>\n",
       "      <td>1.0</td>\n",
       "    </tr>\n",
       "  </tbody>\n",
       "</table>\n",
       "</div>"
      ],
      "text/plain": [
       "   number  square   cube string  rem   s2 s3     s4    L       sin       cos  \\\n",
       "0     0.0       0    0.0     s0  0.0    A  A  small    a  0.000000  1.000000   \n",
       "1     1.0       1    1.0     s1  1.0    A  A  small    a  0.841471  0.540302   \n",
       "2     NaN       4    8.0     s2  NaN    B  B  small    b       NaN       NaN   \n",
       "3     3.0       9   27.0     s3  0.0    B  B  small    b  0.141120 -0.989992   \n",
       "4     4.0      16   64.0     s4  1.0    B  B  small    b -0.756802 -0.653644   \n",
       "5     5.0      25  125.0     s5  2.0    B  B  large    b -0.958924  0.283662   \n",
       "6     6.0      36  216.0     s6  0.0    B  B  large    b -0.279415  0.960170   \n",
       "7     7.0      49  343.0    NaN  1.0    E  E  large    e  0.656987  0.753902   \n",
       "8     8.0      64  512.0     s8  2.0    E  E  large    e  0.989358 -0.145500   \n",
       "9     9.0      81  729.0     s9  0.0  NaN  F  large  NaN  0.412118 -0.911130   \n",
       "\n",
       "   one  \n",
       "0  1.0  \n",
       "1  1.0  \n",
       "2  1.0  \n",
       "3  1.0  \n",
       "4  1.0  \n",
       "5  1.0  \n",
       "6  1.0  \n",
       "7  1.0  \n",
       "8  1.0  \n",
       "9  1.0  "
      ]
     },
     "execution_count": 111,
     "metadata": {},
     "output_type": "execute_result"
    }
   ],
   "source": [
    "df"
   ]
  },
  {
   "cell_type": "markdown",
   "metadata": {},
   "source": [
    "### Random Number Generation with numpy.random"
   ]
  },
  {
   "cell_type": "code",
   "execution_count": 112,
   "metadata": {},
   "outputs": [],
   "source": [
    "df['r01'] = np.random.rand(10)   # random float between 0 and 1"
   ]
  },
  {
   "cell_type": "code",
   "execution_count": 113,
   "metadata": {},
   "outputs": [],
   "source": [
    "df['ri'] = np.random.randint(70,100,10)  # random integers from range(70,100) (10 values)"
   ]
  },
  {
   "cell_type": "code",
   "execution_count": 114,
   "metadata": {},
   "outputs": [],
   "source": [
    "df['normal'] = np.random.randn(10)   # random normal (10 values)"
   ]
  },
  {
   "cell_type": "code",
   "execution_count": 115,
   "metadata": {},
   "outputs": [
    {
     "data": {
      "text/html": [
       "<div>\n",
       "<style scoped>\n",
       "    .dataframe tbody tr th:only-of-type {\n",
       "        vertical-align: middle;\n",
       "    }\n",
       "\n",
       "    .dataframe tbody tr th {\n",
       "        vertical-align: top;\n",
       "    }\n",
       "\n",
       "    .dataframe thead th {\n",
       "        text-align: right;\n",
       "    }\n",
       "</style>\n",
       "<table border=\"1\" class=\"dataframe\">\n",
       "  <thead>\n",
       "    <tr style=\"text-align: right;\">\n",
       "      <th></th>\n",
       "      <th>number</th>\n",
       "      <th>square</th>\n",
       "      <th>cube</th>\n",
       "      <th>string</th>\n",
       "      <th>rem</th>\n",
       "      <th>s2</th>\n",
       "      <th>s3</th>\n",
       "      <th>s4</th>\n",
       "      <th>L</th>\n",
       "      <th>sin</th>\n",
       "      <th>cos</th>\n",
       "      <th>one</th>\n",
       "      <th>r01</th>\n",
       "      <th>ri</th>\n",
       "      <th>normal</th>\n",
       "    </tr>\n",
       "  </thead>\n",
       "  <tbody>\n",
       "    <tr>\n",
       "      <th>0</th>\n",
       "      <td>0.0</td>\n",
       "      <td>0</td>\n",
       "      <td>0.0</td>\n",
       "      <td>s0</td>\n",
       "      <td>0.0</td>\n",
       "      <td>A</td>\n",
       "      <td>A</td>\n",
       "      <td>small</td>\n",
       "      <td>a</td>\n",
       "      <td>0.000000</td>\n",
       "      <td>1.000000</td>\n",
       "      <td>1.0</td>\n",
       "      <td>0.309611</td>\n",
       "      <td>90</td>\n",
       "      <td>-0.696029</td>\n",
       "    </tr>\n",
       "    <tr>\n",
       "      <th>1</th>\n",
       "      <td>1.0</td>\n",
       "      <td>1</td>\n",
       "      <td>1.0</td>\n",
       "      <td>s1</td>\n",
       "      <td>1.0</td>\n",
       "      <td>A</td>\n",
       "      <td>A</td>\n",
       "      <td>small</td>\n",
       "      <td>a</td>\n",
       "      <td>0.841471</td>\n",
       "      <td>0.540302</td>\n",
       "      <td>1.0</td>\n",
       "      <td>0.880563</td>\n",
       "      <td>82</td>\n",
       "      <td>-0.928327</td>\n",
       "    </tr>\n",
       "    <tr>\n",
       "      <th>2</th>\n",
       "      <td>NaN</td>\n",
       "      <td>4</td>\n",
       "      <td>8.0</td>\n",
       "      <td>s2</td>\n",
       "      <td>NaN</td>\n",
       "      <td>B</td>\n",
       "      <td>B</td>\n",
       "      <td>small</td>\n",
       "      <td>b</td>\n",
       "      <td>NaN</td>\n",
       "      <td>NaN</td>\n",
       "      <td>1.0</td>\n",
       "      <td>0.297804</td>\n",
       "      <td>84</td>\n",
       "      <td>-0.999659</td>\n",
       "    </tr>\n",
       "    <tr>\n",
       "      <th>3</th>\n",
       "      <td>3.0</td>\n",
       "      <td>9</td>\n",
       "      <td>27.0</td>\n",
       "      <td>s3</td>\n",
       "      <td>0.0</td>\n",
       "      <td>B</td>\n",
       "      <td>B</td>\n",
       "      <td>small</td>\n",
       "      <td>b</td>\n",
       "      <td>0.141120</td>\n",
       "      <td>-0.989992</td>\n",
       "      <td>1.0</td>\n",
       "      <td>0.184967</td>\n",
       "      <td>83</td>\n",
       "      <td>-1.437021</td>\n",
       "    </tr>\n",
       "    <tr>\n",
       "      <th>4</th>\n",
       "      <td>4.0</td>\n",
       "      <td>16</td>\n",
       "      <td>64.0</td>\n",
       "      <td>s4</td>\n",
       "      <td>1.0</td>\n",
       "      <td>B</td>\n",
       "      <td>B</td>\n",
       "      <td>small</td>\n",
       "      <td>b</td>\n",
       "      <td>-0.756802</td>\n",
       "      <td>-0.653644</td>\n",
       "      <td>1.0</td>\n",
       "      <td>0.885765</td>\n",
       "      <td>82</td>\n",
       "      <td>1.117403</td>\n",
       "    </tr>\n",
       "    <tr>\n",
       "      <th>5</th>\n",
       "      <td>5.0</td>\n",
       "      <td>25</td>\n",
       "      <td>125.0</td>\n",
       "      <td>s5</td>\n",
       "      <td>2.0</td>\n",
       "      <td>B</td>\n",
       "      <td>B</td>\n",
       "      <td>large</td>\n",
       "      <td>b</td>\n",
       "      <td>-0.958924</td>\n",
       "      <td>0.283662</td>\n",
       "      <td>1.0</td>\n",
       "      <td>0.988277</td>\n",
       "      <td>92</td>\n",
       "      <td>-2.539247</td>\n",
       "    </tr>\n",
       "    <tr>\n",
       "      <th>6</th>\n",
       "      <td>6.0</td>\n",
       "      <td>36</td>\n",
       "      <td>216.0</td>\n",
       "      <td>s6</td>\n",
       "      <td>0.0</td>\n",
       "      <td>B</td>\n",
       "      <td>B</td>\n",
       "      <td>large</td>\n",
       "      <td>b</td>\n",
       "      <td>-0.279415</td>\n",
       "      <td>0.960170</td>\n",
       "      <td>1.0</td>\n",
       "      <td>0.201679</td>\n",
       "      <td>89</td>\n",
       "      <td>-0.364728</td>\n",
       "    </tr>\n",
       "    <tr>\n",
       "      <th>7</th>\n",
       "      <td>7.0</td>\n",
       "      <td>49</td>\n",
       "      <td>343.0</td>\n",
       "      <td>NaN</td>\n",
       "      <td>1.0</td>\n",
       "      <td>E</td>\n",
       "      <td>E</td>\n",
       "      <td>large</td>\n",
       "      <td>e</td>\n",
       "      <td>0.656987</td>\n",
       "      <td>0.753902</td>\n",
       "      <td>1.0</td>\n",
       "      <td>0.974027</td>\n",
       "      <td>90</td>\n",
       "      <td>1.656947</td>\n",
       "    </tr>\n",
       "    <tr>\n",
       "      <th>8</th>\n",
       "      <td>8.0</td>\n",
       "      <td>64</td>\n",
       "      <td>512.0</td>\n",
       "      <td>s8</td>\n",
       "      <td>2.0</td>\n",
       "      <td>E</td>\n",
       "      <td>E</td>\n",
       "      <td>large</td>\n",
       "      <td>e</td>\n",
       "      <td>0.989358</td>\n",
       "      <td>-0.145500</td>\n",
       "      <td>1.0</td>\n",
       "      <td>0.368770</td>\n",
       "      <td>91</td>\n",
       "      <td>1.006054</td>\n",
       "    </tr>\n",
       "    <tr>\n",
       "      <th>9</th>\n",
       "      <td>9.0</td>\n",
       "      <td>81</td>\n",
       "      <td>729.0</td>\n",
       "      <td>s9</td>\n",
       "      <td>0.0</td>\n",
       "      <td>NaN</td>\n",
       "      <td>F</td>\n",
       "      <td>large</td>\n",
       "      <td>NaN</td>\n",
       "      <td>0.412118</td>\n",
       "      <td>-0.911130</td>\n",
       "      <td>1.0</td>\n",
       "      <td>0.900475</td>\n",
       "      <td>91</td>\n",
       "      <td>-1.001750</td>\n",
       "    </tr>\n",
       "  </tbody>\n",
       "</table>\n",
       "</div>"
      ],
      "text/plain": [
       "   number  square   cube string  rem   s2 s3     s4    L       sin       cos  \\\n",
       "0     0.0       0    0.0     s0  0.0    A  A  small    a  0.000000  1.000000   \n",
       "1     1.0       1    1.0     s1  1.0    A  A  small    a  0.841471  0.540302   \n",
       "2     NaN       4    8.0     s2  NaN    B  B  small    b       NaN       NaN   \n",
       "3     3.0       9   27.0     s3  0.0    B  B  small    b  0.141120 -0.989992   \n",
       "4     4.0      16   64.0     s4  1.0    B  B  small    b -0.756802 -0.653644   \n",
       "5     5.0      25  125.0     s5  2.0    B  B  large    b -0.958924  0.283662   \n",
       "6     6.0      36  216.0     s6  0.0    B  B  large    b -0.279415  0.960170   \n",
       "7     7.0      49  343.0    NaN  1.0    E  E  large    e  0.656987  0.753902   \n",
       "8     8.0      64  512.0     s8  2.0    E  E  large    e  0.989358 -0.145500   \n",
       "9     9.0      81  729.0     s9  0.0  NaN  F  large  NaN  0.412118 -0.911130   \n",
       "\n",
       "   one       r01  ri    normal  \n",
       "0  1.0  0.309611  90 -0.696029  \n",
       "1  1.0  0.880563  82 -0.928327  \n",
       "2  1.0  0.297804  84 -0.999659  \n",
       "3  1.0  0.184967  83 -1.437021  \n",
       "4  1.0  0.885765  82  1.117403  \n",
       "5  1.0  0.988277  92 -2.539247  \n",
       "6  1.0  0.201679  89 -0.364728  \n",
       "7  1.0  0.974027  90  1.656947  \n",
       "8  1.0  0.368770  91  1.006054  \n",
       "9  1.0  0.900475  91 -1.001750  "
      ]
     },
     "execution_count": 115,
     "metadata": {},
     "output_type": "execute_result"
    }
   ],
   "source": [
    "df"
   ]
  },
  {
   "cell_type": "markdown",
   "metadata": {},
   "source": [
    "### Binning into ranges with numpy.digitize"
   ]
  },
  {
   "cell_type": "code",
   "execution_count": 116,
   "metadata": {},
   "outputs": [],
   "source": [
    "df['bin'] = np.where(pd.isnull(df.number),\n",
    "                     3,                              # map nulls to 3\n",
    "                     np.digitize(df.number, [3,6]))  # 3 bins: <3, 3<v<6, ≥6"
   ]
  },
  {
   "cell_type": "code",
   "execution_count": 117,
   "metadata": {},
   "outputs": [
    {
     "data": {
      "text/html": [
       "<div>\n",
       "<style scoped>\n",
       "    .dataframe tbody tr th:only-of-type {\n",
       "        vertical-align: middle;\n",
       "    }\n",
       "\n",
       "    .dataframe tbody tr th {\n",
       "        vertical-align: top;\n",
       "    }\n",
       "\n",
       "    .dataframe thead th {\n",
       "        text-align: right;\n",
       "    }\n",
       "</style>\n",
       "<table border=\"1\" class=\"dataframe\">\n",
       "  <thead>\n",
       "    <tr style=\"text-align: right;\">\n",
       "      <th></th>\n",
       "      <th>number</th>\n",
       "      <th>square</th>\n",
       "      <th>cube</th>\n",
       "      <th>string</th>\n",
       "      <th>rem</th>\n",
       "      <th>s2</th>\n",
       "      <th>s3</th>\n",
       "      <th>s4</th>\n",
       "      <th>L</th>\n",
       "      <th>sin</th>\n",
       "      <th>cos</th>\n",
       "      <th>one</th>\n",
       "      <th>r01</th>\n",
       "      <th>ri</th>\n",
       "      <th>normal</th>\n",
       "      <th>bin</th>\n",
       "    </tr>\n",
       "  </thead>\n",
       "  <tbody>\n",
       "    <tr>\n",
       "      <th>0</th>\n",
       "      <td>0.0</td>\n",
       "      <td>0</td>\n",
       "      <td>0.0</td>\n",
       "      <td>s0</td>\n",
       "      <td>0.0</td>\n",
       "      <td>A</td>\n",
       "      <td>A</td>\n",
       "      <td>small</td>\n",
       "      <td>a</td>\n",
       "      <td>0.000000</td>\n",
       "      <td>1.000000</td>\n",
       "      <td>1.0</td>\n",
       "      <td>0.309611</td>\n",
       "      <td>90</td>\n",
       "      <td>-0.696029</td>\n",
       "      <td>0</td>\n",
       "    </tr>\n",
       "    <tr>\n",
       "      <th>1</th>\n",
       "      <td>1.0</td>\n",
       "      <td>1</td>\n",
       "      <td>1.0</td>\n",
       "      <td>s1</td>\n",
       "      <td>1.0</td>\n",
       "      <td>A</td>\n",
       "      <td>A</td>\n",
       "      <td>small</td>\n",
       "      <td>a</td>\n",
       "      <td>0.841471</td>\n",
       "      <td>0.540302</td>\n",
       "      <td>1.0</td>\n",
       "      <td>0.880563</td>\n",
       "      <td>82</td>\n",
       "      <td>-0.928327</td>\n",
       "      <td>0</td>\n",
       "    </tr>\n",
       "    <tr>\n",
       "      <th>2</th>\n",
       "      <td>NaN</td>\n",
       "      <td>4</td>\n",
       "      <td>8.0</td>\n",
       "      <td>s2</td>\n",
       "      <td>NaN</td>\n",
       "      <td>B</td>\n",
       "      <td>B</td>\n",
       "      <td>small</td>\n",
       "      <td>b</td>\n",
       "      <td>NaN</td>\n",
       "      <td>NaN</td>\n",
       "      <td>1.0</td>\n",
       "      <td>0.297804</td>\n",
       "      <td>84</td>\n",
       "      <td>-0.999659</td>\n",
       "      <td>3</td>\n",
       "    </tr>\n",
       "    <tr>\n",
       "      <th>3</th>\n",
       "      <td>3.0</td>\n",
       "      <td>9</td>\n",
       "      <td>27.0</td>\n",
       "      <td>s3</td>\n",
       "      <td>0.0</td>\n",
       "      <td>B</td>\n",
       "      <td>B</td>\n",
       "      <td>small</td>\n",
       "      <td>b</td>\n",
       "      <td>0.141120</td>\n",
       "      <td>-0.989992</td>\n",
       "      <td>1.0</td>\n",
       "      <td>0.184967</td>\n",
       "      <td>83</td>\n",
       "      <td>-1.437021</td>\n",
       "      <td>1</td>\n",
       "    </tr>\n",
       "    <tr>\n",
       "      <th>4</th>\n",
       "      <td>4.0</td>\n",
       "      <td>16</td>\n",
       "      <td>64.0</td>\n",
       "      <td>s4</td>\n",
       "      <td>1.0</td>\n",
       "      <td>B</td>\n",
       "      <td>B</td>\n",
       "      <td>small</td>\n",
       "      <td>b</td>\n",
       "      <td>-0.756802</td>\n",
       "      <td>-0.653644</td>\n",
       "      <td>1.0</td>\n",
       "      <td>0.885765</td>\n",
       "      <td>82</td>\n",
       "      <td>1.117403</td>\n",
       "      <td>1</td>\n",
       "    </tr>\n",
       "    <tr>\n",
       "      <th>5</th>\n",
       "      <td>5.0</td>\n",
       "      <td>25</td>\n",
       "      <td>125.0</td>\n",
       "      <td>s5</td>\n",
       "      <td>2.0</td>\n",
       "      <td>B</td>\n",
       "      <td>B</td>\n",
       "      <td>large</td>\n",
       "      <td>b</td>\n",
       "      <td>-0.958924</td>\n",
       "      <td>0.283662</td>\n",
       "      <td>1.0</td>\n",
       "      <td>0.988277</td>\n",
       "      <td>92</td>\n",
       "      <td>-2.539247</td>\n",
       "      <td>1</td>\n",
       "    </tr>\n",
       "    <tr>\n",
       "      <th>6</th>\n",
       "      <td>6.0</td>\n",
       "      <td>36</td>\n",
       "      <td>216.0</td>\n",
       "      <td>s6</td>\n",
       "      <td>0.0</td>\n",
       "      <td>B</td>\n",
       "      <td>B</td>\n",
       "      <td>large</td>\n",
       "      <td>b</td>\n",
       "      <td>-0.279415</td>\n",
       "      <td>0.960170</td>\n",
       "      <td>1.0</td>\n",
       "      <td>0.201679</td>\n",
       "      <td>89</td>\n",
       "      <td>-0.364728</td>\n",
       "      <td>2</td>\n",
       "    </tr>\n",
       "    <tr>\n",
       "      <th>7</th>\n",
       "      <td>7.0</td>\n",
       "      <td>49</td>\n",
       "      <td>343.0</td>\n",
       "      <td>NaN</td>\n",
       "      <td>1.0</td>\n",
       "      <td>E</td>\n",
       "      <td>E</td>\n",
       "      <td>large</td>\n",
       "      <td>e</td>\n",
       "      <td>0.656987</td>\n",
       "      <td>0.753902</td>\n",
       "      <td>1.0</td>\n",
       "      <td>0.974027</td>\n",
       "      <td>90</td>\n",
       "      <td>1.656947</td>\n",
       "      <td>2</td>\n",
       "    </tr>\n",
       "    <tr>\n",
       "      <th>8</th>\n",
       "      <td>8.0</td>\n",
       "      <td>64</td>\n",
       "      <td>512.0</td>\n",
       "      <td>s8</td>\n",
       "      <td>2.0</td>\n",
       "      <td>E</td>\n",
       "      <td>E</td>\n",
       "      <td>large</td>\n",
       "      <td>e</td>\n",
       "      <td>0.989358</td>\n",
       "      <td>-0.145500</td>\n",
       "      <td>1.0</td>\n",
       "      <td>0.368770</td>\n",
       "      <td>91</td>\n",
       "      <td>1.006054</td>\n",
       "      <td>2</td>\n",
       "    </tr>\n",
       "    <tr>\n",
       "      <th>9</th>\n",
       "      <td>9.0</td>\n",
       "      <td>81</td>\n",
       "      <td>729.0</td>\n",
       "      <td>s9</td>\n",
       "      <td>0.0</td>\n",
       "      <td>NaN</td>\n",
       "      <td>F</td>\n",
       "      <td>large</td>\n",
       "      <td>NaN</td>\n",
       "      <td>0.412118</td>\n",
       "      <td>-0.911130</td>\n",
       "      <td>1.0</td>\n",
       "      <td>0.900475</td>\n",
       "      <td>91</td>\n",
       "      <td>-1.001750</td>\n",
       "      <td>2</td>\n",
       "    </tr>\n",
       "  </tbody>\n",
       "</table>\n",
       "</div>"
      ],
      "text/plain": [
       "   number  square   cube string  rem   s2 s3     s4    L       sin       cos  \\\n",
       "0     0.0       0    0.0     s0  0.0    A  A  small    a  0.000000  1.000000   \n",
       "1     1.0       1    1.0     s1  1.0    A  A  small    a  0.841471  0.540302   \n",
       "2     NaN       4    8.0     s2  NaN    B  B  small    b       NaN       NaN   \n",
       "3     3.0       9   27.0     s3  0.0    B  B  small    b  0.141120 -0.989992   \n",
       "4     4.0      16   64.0     s4  1.0    B  B  small    b -0.756802 -0.653644   \n",
       "5     5.0      25  125.0     s5  2.0    B  B  large    b -0.958924  0.283662   \n",
       "6     6.0      36  216.0     s6  0.0    B  B  large    b -0.279415  0.960170   \n",
       "7     7.0      49  343.0    NaN  1.0    E  E  large    e  0.656987  0.753902   \n",
       "8     8.0      64  512.0     s8  2.0    E  E  large    e  0.989358 -0.145500   \n",
       "9     9.0      81  729.0     s9  0.0  NaN  F  large  NaN  0.412118 -0.911130   \n",
       "\n",
       "   one       r01  ri    normal  bin  \n",
       "0  1.0  0.309611  90 -0.696029    0  \n",
       "1  1.0  0.880563  82 -0.928327    0  \n",
       "2  1.0  0.297804  84 -0.999659    3  \n",
       "3  1.0  0.184967  83 -1.437021    1  \n",
       "4  1.0  0.885765  82  1.117403    1  \n",
       "5  1.0  0.988277  92 -2.539247    1  \n",
       "6  1.0  0.201679  89 -0.364728    2  \n",
       "7  1.0  0.974027  90  1.656947    2  \n",
       "8  1.0  0.368770  91  1.006054    2  \n",
       "9  1.0  0.900475  91 -1.001750    2  "
      ]
     },
     "execution_count": 117,
     "metadata": {},
     "output_type": "execute_result"
    }
   ],
   "source": [
    "df"
   ]
  },
  {
   "cell_type": "markdown",
   "metadata": {},
   "source": [
    "### Case statement using bins with numpy.choose"
   ]
  },
  {
   "cell_type": "code",
   "execution_count": 118,
   "metadata": {},
   "outputs": [],
   "source": [
    "df['teeshirt'] = np.choose(df.bin, ['S', 'M', 'L', 'Unkown'])"
   ]
  },
  {
   "cell_type": "code",
   "execution_count": 119,
   "metadata": {},
   "outputs": [
    {
     "data": {
      "text/html": [
       "<div>\n",
       "<style scoped>\n",
       "    .dataframe tbody tr th:only-of-type {\n",
       "        vertical-align: middle;\n",
       "    }\n",
       "\n",
       "    .dataframe tbody tr th {\n",
       "        vertical-align: top;\n",
       "    }\n",
       "\n",
       "    .dataframe thead th {\n",
       "        text-align: right;\n",
       "    }\n",
       "</style>\n",
       "<table border=\"1\" class=\"dataframe\">\n",
       "  <thead>\n",
       "    <tr style=\"text-align: right;\">\n",
       "      <th></th>\n",
       "      <th>number</th>\n",
       "      <th>bin</th>\n",
       "      <th>teeshirt</th>\n",
       "    </tr>\n",
       "  </thead>\n",
       "  <tbody>\n",
       "    <tr>\n",
       "      <th>0</th>\n",
       "      <td>0.0</td>\n",
       "      <td>0</td>\n",
       "      <td>S</td>\n",
       "    </tr>\n",
       "    <tr>\n",
       "      <th>1</th>\n",
       "      <td>1.0</td>\n",
       "      <td>0</td>\n",
       "      <td>S</td>\n",
       "    </tr>\n",
       "    <tr>\n",
       "      <th>2</th>\n",
       "      <td>NaN</td>\n",
       "      <td>3</td>\n",
       "      <td>Unkown</td>\n",
       "    </tr>\n",
       "    <tr>\n",
       "      <th>3</th>\n",
       "      <td>3.0</td>\n",
       "      <td>1</td>\n",
       "      <td>M</td>\n",
       "    </tr>\n",
       "    <tr>\n",
       "      <th>4</th>\n",
       "      <td>4.0</td>\n",
       "      <td>1</td>\n",
       "      <td>M</td>\n",
       "    </tr>\n",
       "    <tr>\n",
       "      <th>5</th>\n",
       "      <td>5.0</td>\n",
       "      <td>1</td>\n",
       "      <td>M</td>\n",
       "    </tr>\n",
       "    <tr>\n",
       "      <th>6</th>\n",
       "      <td>6.0</td>\n",
       "      <td>2</td>\n",
       "      <td>L</td>\n",
       "    </tr>\n",
       "    <tr>\n",
       "      <th>7</th>\n",
       "      <td>7.0</td>\n",
       "      <td>2</td>\n",
       "      <td>L</td>\n",
       "    </tr>\n",
       "    <tr>\n",
       "      <th>8</th>\n",
       "      <td>8.0</td>\n",
       "      <td>2</td>\n",
       "      <td>L</td>\n",
       "    </tr>\n",
       "    <tr>\n",
       "      <th>9</th>\n",
       "      <td>9.0</td>\n",
       "      <td>2</td>\n",
       "      <td>L</td>\n",
       "    </tr>\n",
       "  </tbody>\n",
       "</table>\n",
       "</div>"
      ],
      "text/plain": [
       "   number  bin teeshirt\n",
       "0     0.0    0        S\n",
       "1     1.0    0        S\n",
       "2     NaN    3   Unkown\n",
       "3     3.0    1        M\n",
       "4     4.0    1        M\n",
       "5     5.0    1        M\n",
       "6     6.0    2        L\n",
       "7     7.0    2        L\n",
       "8     8.0    2        L\n",
       "9     9.0    2        L"
      ]
     },
     "execution_count": 119,
     "metadata": {},
     "output_type": "execute_result"
    }
   ],
   "source": [
    "df[['number', 'bin', 'teeshirt']]"
   ]
  },
  {
   "cell_type": "markdown",
   "metadata": {},
   "source": [
    "## Filtering DataFrames (cf. select ... where in SQL)"
   ]
  },
  {
   "cell_type": "markdown",
   "metadata": {},
   "source": [
    "There are a couple of ways of selecting a subset of rows in a DataFrame. The \"traditional\" way is to use boolean masks like this:"
   ]
  },
  {
   "cell_type": "code",
   "execution_count": 120,
   "metadata": {},
   "outputs": [
    {
     "data": {
      "text/html": [
       "<div>\n",
       "<style scoped>\n",
       "    .dataframe tbody tr th:only-of-type {\n",
       "        vertical-align: middle;\n",
       "    }\n",
       "\n",
       "    .dataframe tbody tr th {\n",
       "        vertical-align: top;\n",
       "    }\n",
       "\n",
       "    .dataframe thead th {\n",
       "        text-align: right;\n",
       "    }\n",
       "</style>\n",
       "<table border=\"1\" class=\"dataframe\">\n",
       "  <thead>\n",
       "    <tr style=\"text-align: right;\">\n",
       "      <th></th>\n",
       "      <th>number</th>\n",
       "      <th>square</th>\n",
       "      <th>cube</th>\n",
       "      <th>string</th>\n",
       "      <th>rem</th>\n",
       "      <th>s2</th>\n",
       "      <th>s3</th>\n",
       "      <th>s4</th>\n",
       "      <th>L</th>\n",
       "      <th>sin</th>\n",
       "      <th>cos</th>\n",
       "      <th>one</th>\n",
       "      <th>r01</th>\n",
       "      <th>ri</th>\n",
       "      <th>normal</th>\n",
       "      <th>bin</th>\n",
       "      <th>teeshirt</th>\n",
       "    </tr>\n",
       "  </thead>\n",
       "  <tbody>\n",
       "    <tr>\n",
       "      <th>1</th>\n",
       "      <td>1.0</td>\n",
       "      <td>1</td>\n",
       "      <td>1.0</td>\n",
       "      <td>s1</td>\n",
       "      <td>1.0</td>\n",
       "      <td>A</td>\n",
       "      <td>A</td>\n",
       "      <td>small</td>\n",
       "      <td>a</td>\n",
       "      <td>0.841471</td>\n",
       "      <td>0.540302</td>\n",
       "      <td>1.0</td>\n",
       "      <td>0.880563</td>\n",
       "      <td>82</td>\n",
       "      <td>-0.928327</td>\n",
       "      <td>0</td>\n",
       "      <td>S</td>\n",
       "    </tr>\n",
       "    <tr>\n",
       "      <th>7</th>\n",
       "      <td>7.0</td>\n",
       "      <td>49</td>\n",
       "      <td>343.0</td>\n",
       "      <td>NaN</td>\n",
       "      <td>1.0</td>\n",
       "      <td>E</td>\n",
       "      <td>E</td>\n",
       "      <td>large</td>\n",
       "      <td>e</td>\n",
       "      <td>0.656987</td>\n",
       "      <td>0.753902</td>\n",
       "      <td>1.0</td>\n",
       "      <td>0.974027</td>\n",
       "      <td>90</td>\n",
       "      <td>1.656947</td>\n",
       "      <td>2</td>\n",
       "      <td>L</td>\n",
       "    </tr>\n",
       "    <tr>\n",
       "      <th>8</th>\n",
       "      <td>8.0</td>\n",
       "      <td>64</td>\n",
       "      <td>512.0</td>\n",
       "      <td>s8</td>\n",
       "      <td>2.0</td>\n",
       "      <td>E</td>\n",
       "      <td>E</td>\n",
       "      <td>large</td>\n",
       "      <td>e</td>\n",
       "      <td>0.989358</td>\n",
       "      <td>-0.145500</td>\n",
       "      <td>1.0</td>\n",
       "      <td>0.368770</td>\n",
       "      <td>91</td>\n",
       "      <td>1.006054</td>\n",
       "      <td>2</td>\n",
       "      <td>L</td>\n",
       "    </tr>\n",
       "  </tbody>\n",
       "</table>\n",
       "</div>"
      ],
      "text/plain": [
       "   number  square   cube string  rem s2 s3     s4  L       sin       cos  one  \\\n",
       "1     1.0       1    1.0     s1  1.0  A  A  small  a  0.841471  0.540302  1.0   \n",
       "7     7.0      49  343.0    NaN  1.0  E  E  large  e  0.656987  0.753902  1.0   \n",
       "8     8.0      64  512.0     s8  2.0  E  E  large  e  0.989358 -0.145500  1.0   \n",
       "\n",
       "        r01  ri    normal  bin teeshirt  \n",
       "1  0.880563  82 -0.928327    0        S  \n",
       "7  0.974027  90  1.656947    2        L  \n",
       "8  0.368770  91  1.006054    2        L  "
      ]
     },
     "execution_count": 120,
     "metadata": {},
     "output_type": "execute_result"
    }
   ],
   "source": [
    "df[df.sin > 0.5]"
   ]
  },
  {
   "cell_type": "markdown",
   "metadata": {},
   "source": [
    "What's actually happening here is that a boolean column is being created:"
   ]
  },
  {
   "cell_type": "code",
   "execution_count": 121,
   "metadata": {},
   "outputs": [
    {
     "data": {
      "text/plain": [
       "0    False\n",
       "1     True\n",
       "2    False\n",
       "3    False\n",
       "4    False\n",
       "5    False\n",
       "6    False\n",
       "7     True\n",
       "8     True\n",
       "9    False\n",
       "Name: sin, dtype: bool"
      ]
     },
     "execution_count": 121,
     "metadata": {},
     "output_type": "execute_result"
    }
   ],
   "source": [
    "df.sin > 0.5"
   ]
  },
  {
   "cell_type": "markdown",
   "metadata": {},
   "source": [
    "We can filter on such a boolean column directly:"
   ]
  },
  {
   "cell_type": "code",
   "execution_count": 122,
   "metadata": {},
   "outputs": [],
   "source": [
    "c = pd.Series([False, True] * 5)"
   ]
  },
  {
   "cell_type": "code",
   "execution_count": 123,
   "metadata": {},
   "outputs": [
    {
     "data": {
      "text/plain": [
       "0    False\n",
       "1     True\n",
       "2    False\n",
       "3     True\n",
       "4    False\n",
       "5     True\n",
       "6    False\n",
       "7     True\n",
       "8    False\n",
       "9     True\n",
       "dtype: bool"
      ]
     },
     "execution_count": 123,
     "metadata": {},
     "output_type": "execute_result"
    }
   ],
   "source": [
    "c"
   ]
  },
  {
   "cell_type": "code",
   "execution_count": 124,
   "metadata": {},
   "outputs": [
    {
     "data": {
      "text/html": [
       "<div>\n",
       "<style scoped>\n",
       "    .dataframe tbody tr th:only-of-type {\n",
       "        vertical-align: middle;\n",
       "    }\n",
       "\n",
       "    .dataframe tbody tr th {\n",
       "        vertical-align: top;\n",
       "    }\n",
       "\n",
       "    .dataframe thead th {\n",
       "        text-align: right;\n",
       "    }\n",
       "</style>\n",
       "<table border=\"1\" class=\"dataframe\">\n",
       "  <thead>\n",
       "    <tr style=\"text-align: right;\">\n",
       "      <th></th>\n",
       "      <th>number</th>\n",
       "      <th>square</th>\n",
       "      <th>cube</th>\n",
       "      <th>string</th>\n",
       "      <th>rem</th>\n",
       "      <th>s2</th>\n",
       "      <th>s3</th>\n",
       "      <th>s4</th>\n",
       "      <th>L</th>\n",
       "      <th>sin</th>\n",
       "      <th>cos</th>\n",
       "      <th>one</th>\n",
       "      <th>r01</th>\n",
       "      <th>ri</th>\n",
       "      <th>normal</th>\n",
       "      <th>bin</th>\n",
       "      <th>teeshirt</th>\n",
       "    </tr>\n",
       "  </thead>\n",
       "  <tbody>\n",
       "    <tr>\n",
       "      <th>1</th>\n",
       "      <td>1.0</td>\n",
       "      <td>1</td>\n",
       "      <td>1.0</td>\n",
       "      <td>s1</td>\n",
       "      <td>1.0</td>\n",
       "      <td>A</td>\n",
       "      <td>A</td>\n",
       "      <td>small</td>\n",
       "      <td>a</td>\n",
       "      <td>0.841471</td>\n",
       "      <td>0.540302</td>\n",
       "      <td>1.0</td>\n",
       "      <td>0.880563</td>\n",
       "      <td>82</td>\n",
       "      <td>-0.928327</td>\n",
       "      <td>0</td>\n",
       "      <td>S</td>\n",
       "    </tr>\n",
       "    <tr>\n",
       "      <th>3</th>\n",
       "      <td>3.0</td>\n",
       "      <td>9</td>\n",
       "      <td>27.0</td>\n",
       "      <td>s3</td>\n",
       "      <td>0.0</td>\n",
       "      <td>B</td>\n",
       "      <td>B</td>\n",
       "      <td>small</td>\n",
       "      <td>b</td>\n",
       "      <td>0.141120</td>\n",
       "      <td>-0.989992</td>\n",
       "      <td>1.0</td>\n",
       "      <td>0.184967</td>\n",
       "      <td>83</td>\n",
       "      <td>-1.437021</td>\n",
       "      <td>1</td>\n",
       "      <td>M</td>\n",
       "    </tr>\n",
       "    <tr>\n",
       "      <th>5</th>\n",
       "      <td>5.0</td>\n",
       "      <td>25</td>\n",
       "      <td>125.0</td>\n",
       "      <td>s5</td>\n",
       "      <td>2.0</td>\n",
       "      <td>B</td>\n",
       "      <td>B</td>\n",
       "      <td>large</td>\n",
       "      <td>b</td>\n",
       "      <td>-0.958924</td>\n",
       "      <td>0.283662</td>\n",
       "      <td>1.0</td>\n",
       "      <td>0.988277</td>\n",
       "      <td>92</td>\n",
       "      <td>-2.539247</td>\n",
       "      <td>1</td>\n",
       "      <td>M</td>\n",
       "    </tr>\n",
       "    <tr>\n",
       "      <th>7</th>\n",
       "      <td>7.0</td>\n",
       "      <td>49</td>\n",
       "      <td>343.0</td>\n",
       "      <td>NaN</td>\n",
       "      <td>1.0</td>\n",
       "      <td>E</td>\n",
       "      <td>E</td>\n",
       "      <td>large</td>\n",
       "      <td>e</td>\n",
       "      <td>0.656987</td>\n",
       "      <td>0.753902</td>\n",
       "      <td>1.0</td>\n",
       "      <td>0.974027</td>\n",
       "      <td>90</td>\n",
       "      <td>1.656947</td>\n",
       "      <td>2</td>\n",
       "      <td>L</td>\n",
       "    </tr>\n",
       "    <tr>\n",
       "      <th>9</th>\n",
       "      <td>9.0</td>\n",
       "      <td>81</td>\n",
       "      <td>729.0</td>\n",
       "      <td>s9</td>\n",
       "      <td>0.0</td>\n",
       "      <td>NaN</td>\n",
       "      <td>F</td>\n",
       "      <td>large</td>\n",
       "      <td>NaN</td>\n",
       "      <td>0.412118</td>\n",
       "      <td>-0.911130</td>\n",
       "      <td>1.0</td>\n",
       "      <td>0.900475</td>\n",
       "      <td>91</td>\n",
       "      <td>-1.001750</td>\n",
       "      <td>2</td>\n",
       "      <td>L</td>\n",
       "    </tr>\n",
       "  </tbody>\n",
       "</table>\n",
       "</div>"
      ],
      "text/plain": [
       "   number  square   cube string  rem   s2 s3     s4    L       sin       cos  \\\n",
       "1     1.0       1    1.0     s1  1.0    A  A  small    a  0.841471  0.540302   \n",
       "3     3.0       9   27.0     s3  0.0    B  B  small    b  0.141120 -0.989992   \n",
       "5     5.0      25  125.0     s5  2.0    B  B  large    b -0.958924  0.283662   \n",
       "7     7.0      49  343.0    NaN  1.0    E  E  large    e  0.656987  0.753902   \n",
       "9     9.0      81  729.0     s9  0.0  NaN  F  large  NaN  0.412118 -0.911130   \n",
       "\n",
       "   one       r01  ri    normal  bin teeshirt  \n",
       "1  1.0  0.880563  82 -0.928327    0        S  \n",
       "3  1.0  0.184967  83 -1.437021    1        M  \n",
       "5  1.0  0.988277  92 -2.539247    1        M  \n",
       "7  1.0  0.974027  90  1.656947    2        L  \n",
       "9  1.0  0.900475  91 -1.001750    2        L  "
      ]
     },
     "execution_count": 124,
     "metadata": {},
     "output_type": "execute_result"
    }
   ],
   "source": [
    "df[c]"
   ]
  },
  {
   "cell_type": "markdown",
   "metadata": {},
   "source": [
    "If we want to combine two conditions using this traditional approach, we use bit-wise boolean operators ``!`` (not), ``&``  (*and*) and ``|`` (*or*). Alternatively we use numpy's ``np.logical_not``, ``np.logical_and``, ``np.logical_or`` and even ``np.logical_xor``."
   ]
  },
  {
   "cell_type": "code",
   "execution_count": 125,
   "metadata": {},
   "outputs": [
    {
     "data": {
      "text/html": [
       "<div>\n",
       "<style scoped>\n",
       "    .dataframe tbody tr th:only-of-type {\n",
       "        vertical-align: middle;\n",
       "    }\n",
       "\n",
       "    .dataframe tbody tr th {\n",
       "        vertical-align: top;\n",
       "    }\n",
       "\n",
       "    .dataframe thead th {\n",
       "        text-align: right;\n",
       "    }\n",
       "</style>\n",
       "<table border=\"1\" class=\"dataframe\">\n",
       "  <thead>\n",
       "    <tr style=\"text-align: right;\">\n",
       "      <th></th>\n",
       "      <th>number</th>\n",
       "      <th>square</th>\n",
       "      <th>cube</th>\n",
       "      <th>string</th>\n",
       "      <th>rem</th>\n",
       "      <th>s2</th>\n",
       "      <th>s3</th>\n",
       "      <th>s4</th>\n",
       "      <th>L</th>\n",
       "      <th>sin</th>\n",
       "      <th>cos</th>\n",
       "      <th>one</th>\n",
       "      <th>r01</th>\n",
       "      <th>ri</th>\n",
       "      <th>normal</th>\n",
       "      <th>bin</th>\n",
       "      <th>teeshirt</th>\n",
       "    </tr>\n",
       "  </thead>\n",
       "  <tbody>\n",
       "    <tr>\n",
       "      <th>8</th>\n",
       "      <td>8.0</td>\n",
       "      <td>64</td>\n",
       "      <td>512.0</td>\n",
       "      <td>s8</td>\n",
       "      <td>2.0</td>\n",
       "      <td>E</td>\n",
       "      <td>E</td>\n",
       "      <td>large</td>\n",
       "      <td>e</td>\n",
       "      <td>0.989358</td>\n",
       "      <td>-0.1455</td>\n",
       "      <td>1.0</td>\n",
       "      <td>0.36877</td>\n",
       "      <td>91</td>\n",
       "      <td>1.006054</td>\n",
       "      <td>2</td>\n",
       "      <td>L</td>\n",
       "    </tr>\n",
       "  </tbody>\n",
       "</table>\n",
       "</div>"
      ],
      "text/plain": [
       "   number  square   cube string  rem s2 s3     s4  L       sin     cos  one  \\\n",
       "8     8.0      64  512.0     s8  2.0  E  E  large  e  0.989358 -0.1455  1.0   \n",
       "\n",
       "       r01  ri    normal  bin teeshirt  \n",
       "8  0.36877  91  1.006054    2        L  "
      ]
     },
     "execution_count": 125,
     "metadata": {},
     "output_type": "execute_result"
    }
   ],
   "source": [
    "df[(df.sin > 0.5) & (df.cos < 0)]"
   ]
  },
  {
   "cell_type": "code",
   "execution_count": 126,
   "metadata": {},
   "outputs": [
    {
     "data": {
      "text/html": [
       "<div>\n",
       "<style scoped>\n",
       "    .dataframe tbody tr th:only-of-type {\n",
       "        vertical-align: middle;\n",
       "    }\n",
       "\n",
       "    .dataframe tbody tr th {\n",
       "        vertical-align: top;\n",
       "    }\n",
       "\n",
       "    .dataframe thead th {\n",
       "        text-align: right;\n",
       "    }\n",
       "</style>\n",
       "<table border=\"1\" class=\"dataframe\">\n",
       "  <thead>\n",
       "    <tr style=\"text-align: right;\">\n",
       "      <th></th>\n",
       "      <th>number</th>\n",
       "      <th>square</th>\n",
       "      <th>cube</th>\n",
       "      <th>string</th>\n",
       "      <th>rem</th>\n",
       "      <th>s2</th>\n",
       "      <th>s3</th>\n",
       "      <th>s4</th>\n",
       "      <th>L</th>\n",
       "      <th>sin</th>\n",
       "      <th>cos</th>\n",
       "      <th>one</th>\n",
       "      <th>r01</th>\n",
       "      <th>ri</th>\n",
       "      <th>normal</th>\n",
       "      <th>bin</th>\n",
       "      <th>teeshirt</th>\n",
       "    </tr>\n",
       "  </thead>\n",
       "  <tbody>\n",
       "    <tr>\n",
       "      <th>8</th>\n",
       "      <td>8.0</td>\n",
       "      <td>64</td>\n",
       "      <td>512.0</td>\n",
       "      <td>s8</td>\n",
       "      <td>2.0</td>\n",
       "      <td>E</td>\n",
       "      <td>E</td>\n",
       "      <td>large</td>\n",
       "      <td>e</td>\n",
       "      <td>0.989358</td>\n",
       "      <td>-0.1455</td>\n",
       "      <td>1.0</td>\n",
       "      <td>0.36877</td>\n",
       "      <td>91</td>\n",
       "      <td>1.006054</td>\n",
       "      <td>2</td>\n",
       "      <td>L</td>\n",
       "    </tr>\n",
       "  </tbody>\n",
       "</table>\n",
       "</div>"
      ],
      "text/plain": [
       "   number  square   cube string  rem s2 s3     s4  L       sin     cos  one  \\\n",
       "8     8.0      64  512.0     s8  2.0  E  E  large  e  0.989358 -0.1455  1.0   \n",
       "\n",
       "       r01  ri    normal  bin teeshirt  \n",
       "8  0.36877  91  1.006054    2        L  "
      ]
     },
     "execution_count": 126,
     "metadata": {},
     "output_type": "execute_result"
    }
   ],
   "source": [
    "df[np.logical_and(df.sin > 0.5, df.cos < 0)]"
   ]
  },
  {
   "cell_type": "markdown",
   "metadata": {},
   "source": [
    "Recent versions of Pandas have introduced the ``.query`` method, which allows a more Pythonic specification (and is slightly more efficient):"
   ]
  },
  {
   "cell_type": "code",
   "execution_count": 127,
   "metadata": {},
   "outputs": [
    {
     "data": {
      "text/html": [
       "<div>\n",
       "<style scoped>\n",
       "    .dataframe tbody tr th:only-of-type {\n",
       "        vertical-align: middle;\n",
       "    }\n",
       "\n",
       "    .dataframe tbody tr th {\n",
       "        vertical-align: top;\n",
       "    }\n",
       "\n",
       "    .dataframe thead th {\n",
       "        text-align: right;\n",
       "    }\n",
       "</style>\n",
       "<table border=\"1\" class=\"dataframe\">\n",
       "  <thead>\n",
       "    <tr style=\"text-align: right;\">\n",
       "      <th></th>\n",
       "      <th>number</th>\n",
       "      <th>square</th>\n",
       "      <th>cube</th>\n",
       "      <th>string</th>\n",
       "      <th>rem</th>\n",
       "      <th>s2</th>\n",
       "      <th>s3</th>\n",
       "      <th>s4</th>\n",
       "      <th>L</th>\n",
       "      <th>sin</th>\n",
       "      <th>cos</th>\n",
       "      <th>one</th>\n",
       "      <th>r01</th>\n",
       "      <th>ri</th>\n",
       "      <th>normal</th>\n",
       "      <th>bin</th>\n",
       "      <th>teeshirt</th>\n",
       "    </tr>\n",
       "  </thead>\n",
       "  <tbody>\n",
       "    <tr>\n",
       "      <th>3</th>\n",
       "      <td>3.0</td>\n",
       "      <td>9</td>\n",
       "      <td>27.0</td>\n",
       "      <td>s3</td>\n",
       "      <td>0.0</td>\n",
       "      <td>B</td>\n",
       "      <td>B</td>\n",
       "      <td>small</td>\n",
       "      <td>b</td>\n",
       "      <td>0.141120</td>\n",
       "      <td>-0.989992</td>\n",
       "      <td>1.0</td>\n",
       "      <td>0.184967</td>\n",
       "      <td>83</td>\n",
       "      <td>-1.437021</td>\n",
       "      <td>1</td>\n",
       "      <td>M</td>\n",
       "    </tr>\n",
       "    <tr>\n",
       "      <th>4</th>\n",
       "      <td>4.0</td>\n",
       "      <td>16</td>\n",
       "      <td>64.0</td>\n",
       "      <td>s4</td>\n",
       "      <td>1.0</td>\n",
       "      <td>B</td>\n",
       "      <td>B</td>\n",
       "      <td>small</td>\n",
       "      <td>b</td>\n",
       "      <td>-0.756802</td>\n",
       "      <td>-0.653644</td>\n",
       "      <td>1.0</td>\n",
       "      <td>0.885765</td>\n",
       "      <td>82</td>\n",
       "      <td>1.117403</td>\n",
       "      <td>1</td>\n",
       "      <td>M</td>\n",
       "    </tr>\n",
       "    <tr>\n",
       "      <th>5</th>\n",
       "      <td>5.0</td>\n",
       "      <td>25</td>\n",
       "      <td>125.0</td>\n",
       "      <td>s5</td>\n",
       "      <td>2.0</td>\n",
       "      <td>B</td>\n",
       "      <td>B</td>\n",
       "      <td>large</td>\n",
       "      <td>b</td>\n",
       "      <td>-0.958924</td>\n",
       "      <td>0.283662</td>\n",
       "      <td>1.0</td>\n",
       "      <td>0.988277</td>\n",
       "      <td>92</td>\n",
       "      <td>-2.539247</td>\n",
       "      <td>1</td>\n",
       "      <td>M</td>\n",
       "    </tr>\n",
       "  </tbody>\n",
       "</table>\n",
       "</div>"
      ],
      "text/plain": [
       "   number  square   cube string  rem s2 s3     s4  L       sin       cos  one  \\\n",
       "3     3.0       9   27.0     s3  0.0  B  B  small  b  0.141120 -0.989992  1.0   \n",
       "4     4.0      16   64.0     s4  1.0  B  B  small  b -0.756802 -0.653644  1.0   \n",
       "5     5.0      25  125.0     s5  2.0  B  B  large  b -0.958924  0.283662  1.0   \n",
       "\n",
       "        r01  ri    normal  bin teeshirt  \n",
       "3  0.184967  83 -1.437021    1        M  \n",
       "4  0.885765  82  1.117403    1        M  \n",
       "5  0.988277  92 -2.539247    1        M  "
      ]
     },
     "execution_count": 127,
     "metadata": {},
     "output_type": "execute_result"
    }
   ],
   "source": [
    "df.query('number > 2 and number < 6')"
   ]
  },
  {
   "cell_type": "markdown",
   "metadata": {},
   "source": [
    "**NB:** query is powerful but a little fragile. For example, if we try to use the ``sin`` and ``cos`` columns, we get an error because those names conflict with function names."
   ]
  },
  {
   "cell_type": "markdown",
   "metadata": {},
   "source": [
    "## A little more on Pandas and Numpy Types"
   ]
  },
  {
   "cell_type": "markdown",
   "metadata": {},
   "source": [
    "The values in a numpy array or a Pandas DataFrame are not Python norally types but, rather are underlying C types. We sometimes need to be slightly careful about this if we take values out of numpy/Pandas and use them in Python. We can use ``.item``, ``.items()`` and ``.values.tolist()`` to do this."
   ]
  },
  {
   "cell_type": "code",
   "execution_count": 128,
   "metadata": {},
   "outputs": [
    {
     "data": {
      "text/plain": [
       "1.0"
      ]
     },
     "execution_count": 128,
     "metadata": {},
     "output_type": "execute_result"
    }
   ],
   "source": [
    "df.number[1]"
   ]
  },
  {
   "cell_type": "code",
   "execution_count": 129,
   "metadata": {},
   "outputs": [
    {
     "data": {
      "text/plain": [
       "numpy.float64"
      ]
     },
     "execution_count": 129,
     "metadata": {},
     "output_type": "execute_result"
    }
   ],
   "source": [
    "type(df.number[1])"
   ]
  },
  {
   "cell_type": "code",
   "execution_count": 130,
   "metadata": {},
   "outputs": [
    {
     "data": {
      "text/plain": [
       "float"
      ]
     },
     "execution_count": 130,
     "metadata": {},
     "output_type": "execute_result"
    }
   ],
   "source": [
    "type(df.number[1].item())"
   ]
  },
  {
   "cell_type": "code",
   "execution_count": 131,
   "metadata": {},
   "outputs": [
    {
     "data": {
      "text/plain": [
       "pandas.core.series.Series"
      ]
     },
     "execution_count": 131,
     "metadata": {},
     "output_type": "execute_result"
    }
   ],
   "source": [
    "type(df.number)"
   ]
  },
  {
   "cell_type": "code",
   "execution_count": 132,
   "metadata": {},
   "outputs": [],
   "source": [
    "L = df.number.values.tolist()"
   ]
  },
  {
   "cell_type": "code",
   "execution_count": 133,
   "metadata": {},
   "outputs": [
    {
     "data": {
      "text/plain": [
       "[0.0, 1.0, nan, 3.0, 4.0, 5.0, 6.0, 7.0, 8.0, 9.0]"
      ]
     },
     "execution_count": 133,
     "metadata": {},
     "output_type": "execute_result"
    }
   ],
   "source": [
    "L"
   ]
  },
  {
   "cell_type": "code",
   "execution_count": 134,
   "metadata": {},
   "outputs": [
    {
     "data": {
      "text/plain": [
       "[float, float, float, float, float, float, float, float, float, float]"
      ]
     },
     "execution_count": 134,
     "metadata": {},
     "output_type": "execute_result"
    }
   ],
   "source": [
    "[type(v) for v in L]"
   ]
  },
  {
   "cell_type": "code",
   "execution_count": 135,
   "metadata": {},
   "outputs": [
    {
     "data": {
      "text/plain": [
       "43.0"
      ]
     },
     "execution_count": 135,
     "metadata": {},
     "output_type": "execute_result"
    }
   ],
   "source": [
    "df.number.sum()"
   ]
  },
  {
   "cell_type": "code",
   "execution_count": 136,
   "metadata": {},
   "outputs": [
    {
     "data": {
      "text/plain": [
       "numpy.float64"
      ]
     },
     "execution_count": 136,
     "metadata": {},
     "output_type": "execute_result"
    }
   ],
   "source": [
    "type(df.number.sum())"
   ]
  },
  {
   "cell_type": "code",
   "execution_count": 137,
   "metadata": {},
   "outputs": [
    {
     "data": {
      "text/plain": [
       "float"
      ]
     },
     "execution_count": 137,
     "metadata": {},
     "output_type": "execute_result"
    }
   ],
   "source": [
    "type(df.number.sum().item())"
   ]
  },
  {
   "cell_type": "markdown",
   "metadata": {},
   "source": [
    "Working with C values directly in Python is slow, and can give unxepected results, e.g."
   ]
  },
  {
   "cell_type": "code",
   "execution_count": 138,
   "metadata": {},
   "outputs": [
    {
     "data": {
      "text/plain": [
       "2"
      ]
     },
     "execution_count": 138,
     "metadata": {},
     "output_type": "execute_result"
    }
   ],
   "source": [
    "df.bin[9]  # int64"
   ]
  },
  {
   "cell_type": "code",
   "execution_count": 139,
   "metadata": {},
   "outputs": [
    {
     "data": {
      "text/plain": [
       "0"
      ]
     },
     "execution_count": 139,
     "metadata": {},
     "output_type": "execute_result"
    }
   ],
   "source": [
    "df.bin[9] ** 64  # can overflow"
   ]
  },
  {
   "cell_type": "code",
   "execution_count": 140,
   "metadata": {},
   "outputs": [
    {
     "data": {
      "text/plain": [
       "18446744073709551616"
      ]
     },
     "execution_count": 140,
     "metadata": {},
     "output_type": "execute_result"
    }
   ],
   "source": [
    "2 ** 64  # cannot overflow"
   ]
  },
  {
   "cell_type": "markdown",
   "metadata": {},
   "source": [
    "## Loading and Saving Data"
   ]
  },
  {
   "cell_type": "markdown",
   "metadata": {},
   "source": [
    "There are a number of ways of loading data from and saving data to file. Probably the three most common are CSV, pickle and feather."
   ]
  },
  {
   "cell_type": "markdown",
   "metadata": {},
   "source": [
    "### CSV"
   ]
  },
  {
   "cell_type": "code",
   "execution_count": 141,
   "metadata": {},
   "outputs": [],
   "source": [
    "df.to_csv('/tmp/df.csv')  # there are many options for specifying save format"
   ]
  },
  {
   "cell_type": "code",
   "execution_count": 142,
   "metadata": {},
   "outputs": [],
   "source": [
    "df2 = pd.read_csv('/tmp/df.csv')  # there are many options for specifying load format"
   ]
  },
  {
   "cell_type": "code",
   "execution_count": 143,
   "metadata": {},
   "outputs": [
    {
     "data": {
      "text/html": [
       "<div>\n",
       "<style scoped>\n",
       "    .dataframe tbody tr th:only-of-type {\n",
       "        vertical-align: middle;\n",
       "    }\n",
       "\n",
       "    .dataframe tbody tr th {\n",
       "        vertical-align: top;\n",
       "    }\n",
       "\n",
       "    .dataframe thead th {\n",
       "        text-align: right;\n",
       "    }\n",
       "</style>\n",
       "<table border=\"1\" class=\"dataframe\">\n",
       "  <thead>\n",
       "    <tr style=\"text-align: right;\">\n",
       "      <th></th>\n",
       "      <th>Unnamed: 0</th>\n",
       "      <th>number</th>\n",
       "      <th>square</th>\n",
       "      <th>cube</th>\n",
       "      <th>string</th>\n",
       "      <th>rem</th>\n",
       "      <th>s2</th>\n",
       "      <th>s3</th>\n",
       "      <th>s4</th>\n",
       "      <th>L</th>\n",
       "      <th>sin</th>\n",
       "      <th>cos</th>\n",
       "      <th>one</th>\n",
       "      <th>r01</th>\n",
       "      <th>ri</th>\n",
       "      <th>normal</th>\n",
       "      <th>bin</th>\n",
       "      <th>teeshirt</th>\n",
       "    </tr>\n",
       "  </thead>\n",
       "  <tbody>\n",
       "    <tr>\n",
       "      <th>0</th>\n",
       "      <td>0</td>\n",
       "      <td>0.0</td>\n",
       "      <td>0</td>\n",
       "      <td>0.0</td>\n",
       "      <td>s0</td>\n",
       "      <td>0.0</td>\n",
       "      <td>A</td>\n",
       "      <td>A</td>\n",
       "      <td>small</td>\n",
       "      <td>a</td>\n",
       "      <td>0.000000</td>\n",
       "      <td>1.000000</td>\n",
       "      <td>1.0</td>\n",
       "      <td>0.309611</td>\n",
       "      <td>90</td>\n",
       "      <td>-0.696029</td>\n",
       "      <td>0</td>\n",
       "      <td>S</td>\n",
       "    </tr>\n",
       "    <tr>\n",
       "      <th>1</th>\n",
       "      <td>1</td>\n",
       "      <td>1.0</td>\n",
       "      <td>1</td>\n",
       "      <td>1.0</td>\n",
       "      <td>s1</td>\n",
       "      <td>1.0</td>\n",
       "      <td>A</td>\n",
       "      <td>A</td>\n",
       "      <td>small</td>\n",
       "      <td>a</td>\n",
       "      <td>0.841471</td>\n",
       "      <td>0.540302</td>\n",
       "      <td>1.0</td>\n",
       "      <td>0.880563</td>\n",
       "      <td>82</td>\n",
       "      <td>-0.928327</td>\n",
       "      <td>0</td>\n",
       "      <td>S</td>\n",
       "    </tr>\n",
       "    <tr>\n",
       "      <th>2</th>\n",
       "      <td>2</td>\n",
       "      <td>NaN</td>\n",
       "      <td>4</td>\n",
       "      <td>8.0</td>\n",
       "      <td>s2</td>\n",
       "      <td>NaN</td>\n",
       "      <td>B</td>\n",
       "      <td>B</td>\n",
       "      <td>small</td>\n",
       "      <td>b</td>\n",
       "      <td>NaN</td>\n",
       "      <td>NaN</td>\n",
       "      <td>1.0</td>\n",
       "      <td>0.297804</td>\n",
       "      <td>84</td>\n",
       "      <td>-0.999659</td>\n",
       "      <td>3</td>\n",
       "      <td>Unkown</td>\n",
       "    </tr>\n",
       "    <tr>\n",
       "      <th>3</th>\n",
       "      <td>3</td>\n",
       "      <td>3.0</td>\n",
       "      <td>9</td>\n",
       "      <td>27.0</td>\n",
       "      <td>s3</td>\n",
       "      <td>0.0</td>\n",
       "      <td>B</td>\n",
       "      <td>B</td>\n",
       "      <td>small</td>\n",
       "      <td>b</td>\n",
       "      <td>0.141120</td>\n",
       "      <td>-0.989992</td>\n",
       "      <td>1.0</td>\n",
       "      <td>0.184967</td>\n",
       "      <td>83</td>\n",
       "      <td>-1.437021</td>\n",
       "      <td>1</td>\n",
       "      <td>M</td>\n",
       "    </tr>\n",
       "    <tr>\n",
       "      <th>4</th>\n",
       "      <td>4</td>\n",
       "      <td>4.0</td>\n",
       "      <td>16</td>\n",
       "      <td>64.0</td>\n",
       "      <td>s4</td>\n",
       "      <td>1.0</td>\n",
       "      <td>B</td>\n",
       "      <td>B</td>\n",
       "      <td>small</td>\n",
       "      <td>b</td>\n",
       "      <td>-0.756802</td>\n",
       "      <td>-0.653644</td>\n",
       "      <td>1.0</td>\n",
       "      <td>0.885765</td>\n",
       "      <td>82</td>\n",
       "      <td>1.117403</td>\n",
       "      <td>1</td>\n",
       "      <td>M</td>\n",
       "    </tr>\n",
       "    <tr>\n",
       "      <th>5</th>\n",
       "      <td>5</td>\n",
       "      <td>5.0</td>\n",
       "      <td>25</td>\n",
       "      <td>125.0</td>\n",
       "      <td>s5</td>\n",
       "      <td>2.0</td>\n",
       "      <td>B</td>\n",
       "      <td>B</td>\n",
       "      <td>large</td>\n",
       "      <td>b</td>\n",
       "      <td>-0.958924</td>\n",
       "      <td>0.283662</td>\n",
       "      <td>1.0</td>\n",
       "      <td>0.988277</td>\n",
       "      <td>92</td>\n",
       "      <td>-2.539247</td>\n",
       "      <td>1</td>\n",
       "      <td>M</td>\n",
       "    </tr>\n",
       "    <tr>\n",
       "      <th>6</th>\n",
       "      <td>6</td>\n",
       "      <td>6.0</td>\n",
       "      <td>36</td>\n",
       "      <td>216.0</td>\n",
       "      <td>s6</td>\n",
       "      <td>0.0</td>\n",
       "      <td>B</td>\n",
       "      <td>B</td>\n",
       "      <td>large</td>\n",
       "      <td>b</td>\n",
       "      <td>-0.279415</td>\n",
       "      <td>0.960170</td>\n",
       "      <td>1.0</td>\n",
       "      <td>0.201679</td>\n",
       "      <td>89</td>\n",
       "      <td>-0.364728</td>\n",
       "      <td>2</td>\n",
       "      <td>L</td>\n",
       "    </tr>\n",
       "    <tr>\n",
       "      <th>7</th>\n",
       "      <td>7</td>\n",
       "      <td>7.0</td>\n",
       "      <td>49</td>\n",
       "      <td>343.0</td>\n",
       "      <td>NaN</td>\n",
       "      <td>1.0</td>\n",
       "      <td>E</td>\n",
       "      <td>E</td>\n",
       "      <td>large</td>\n",
       "      <td>e</td>\n",
       "      <td>0.656987</td>\n",
       "      <td>0.753902</td>\n",
       "      <td>1.0</td>\n",
       "      <td>0.974027</td>\n",
       "      <td>90</td>\n",
       "      <td>1.656947</td>\n",
       "      <td>2</td>\n",
       "      <td>L</td>\n",
       "    </tr>\n",
       "    <tr>\n",
       "      <th>8</th>\n",
       "      <td>8</td>\n",
       "      <td>8.0</td>\n",
       "      <td>64</td>\n",
       "      <td>512.0</td>\n",
       "      <td>s8</td>\n",
       "      <td>2.0</td>\n",
       "      <td>E</td>\n",
       "      <td>E</td>\n",
       "      <td>large</td>\n",
       "      <td>e</td>\n",
       "      <td>0.989358</td>\n",
       "      <td>-0.145500</td>\n",
       "      <td>1.0</td>\n",
       "      <td>0.368770</td>\n",
       "      <td>91</td>\n",
       "      <td>1.006054</td>\n",
       "      <td>2</td>\n",
       "      <td>L</td>\n",
       "    </tr>\n",
       "    <tr>\n",
       "      <th>9</th>\n",
       "      <td>9</td>\n",
       "      <td>9.0</td>\n",
       "      <td>81</td>\n",
       "      <td>729.0</td>\n",
       "      <td>s9</td>\n",
       "      <td>0.0</td>\n",
       "      <td>NaN</td>\n",
       "      <td>F</td>\n",
       "      <td>large</td>\n",
       "      <td>NaN</td>\n",
       "      <td>0.412118</td>\n",
       "      <td>-0.911130</td>\n",
       "      <td>1.0</td>\n",
       "      <td>0.900475</td>\n",
       "      <td>91</td>\n",
       "      <td>-1.001750</td>\n",
       "      <td>2</td>\n",
       "      <td>L</td>\n",
       "    </tr>\n",
       "  </tbody>\n",
       "</table>\n",
       "</div>"
      ],
      "text/plain": [
       "   Unnamed: 0  number  square   cube string  rem   s2 s3     s4    L  \\\n",
       "0           0     0.0       0    0.0     s0  0.0    A  A  small    a   \n",
       "1           1     1.0       1    1.0     s1  1.0    A  A  small    a   \n",
       "2           2     NaN       4    8.0     s2  NaN    B  B  small    b   \n",
       "3           3     3.0       9   27.0     s3  0.0    B  B  small    b   \n",
       "4           4     4.0      16   64.0     s4  1.0    B  B  small    b   \n",
       "5           5     5.0      25  125.0     s5  2.0    B  B  large    b   \n",
       "6           6     6.0      36  216.0     s6  0.0    B  B  large    b   \n",
       "7           7     7.0      49  343.0    NaN  1.0    E  E  large    e   \n",
       "8           8     8.0      64  512.0     s8  2.0    E  E  large    e   \n",
       "9           9     9.0      81  729.0     s9  0.0  NaN  F  large  NaN   \n",
       "\n",
       "        sin       cos  one       r01  ri    normal  bin teeshirt  \n",
       "0  0.000000  1.000000  1.0  0.309611  90 -0.696029    0        S  \n",
       "1  0.841471  0.540302  1.0  0.880563  82 -0.928327    0        S  \n",
       "2       NaN       NaN  1.0  0.297804  84 -0.999659    3   Unkown  \n",
       "3  0.141120 -0.989992  1.0  0.184967  83 -1.437021    1        M  \n",
       "4 -0.756802 -0.653644  1.0  0.885765  82  1.117403    1        M  \n",
       "5 -0.958924  0.283662  1.0  0.988277  92 -2.539247    1        M  \n",
       "6 -0.279415  0.960170  1.0  0.201679  89 -0.364728    2        L  \n",
       "7  0.656987  0.753902  1.0  0.974027  90  1.656947    2        L  \n",
       "8  0.989358 -0.145500  1.0  0.368770  91  1.006054    2        L  \n",
       "9  0.412118 -0.911130  1.0  0.900475  91 -1.001750    2        L  "
      ]
     },
     "execution_count": 143,
     "metadata": {},
     "output_type": "execute_result"
    }
   ],
   "source": [
    "df2"
   ]
  },
  {
   "cell_type": "markdown",
   "metadata": {},
   "source": [
    "Obviously, we've gained an extra column here. (You can suppress it with ``index=False`` when writing.)"
   ]
  },
  {
   "cell_type": "code",
   "execution_count": 144,
   "metadata": {},
   "outputs": [],
   "source": [
    "del df2['Unnamed: 0']"
   ]
  },
  {
   "cell_type": "code",
   "execution_count": 145,
   "metadata": {},
   "outputs": [
    {
     "data": {
      "text/html": [
       "<div>\n",
       "<style scoped>\n",
       "    .dataframe tbody tr th:only-of-type {\n",
       "        vertical-align: middle;\n",
       "    }\n",
       "\n",
       "    .dataframe tbody tr th {\n",
       "        vertical-align: top;\n",
       "    }\n",
       "\n",
       "    .dataframe thead th {\n",
       "        text-align: right;\n",
       "    }\n",
       "</style>\n",
       "<table border=\"1\" class=\"dataframe\">\n",
       "  <thead>\n",
       "    <tr style=\"text-align: right;\">\n",
       "      <th></th>\n",
       "      <th>number</th>\n",
       "      <th>square</th>\n",
       "      <th>cube</th>\n",
       "      <th>string</th>\n",
       "      <th>rem</th>\n",
       "      <th>s2</th>\n",
       "      <th>s3</th>\n",
       "      <th>s4</th>\n",
       "      <th>L</th>\n",
       "      <th>sin</th>\n",
       "      <th>cos</th>\n",
       "      <th>one</th>\n",
       "      <th>r01</th>\n",
       "      <th>ri</th>\n",
       "      <th>normal</th>\n",
       "      <th>bin</th>\n",
       "      <th>teeshirt</th>\n",
       "    </tr>\n",
       "  </thead>\n",
       "  <tbody>\n",
       "    <tr>\n",
       "      <th>0</th>\n",
       "      <td>0.0</td>\n",
       "      <td>0</td>\n",
       "      <td>0.0</td>\n",
       "      <td>s0</td>\n",
       "      <td>0.0</td>\n",
       "      <td>A</td>\n",
       "      <td>A</td>\n",
       "      <td>small</td>\n",
       "      <td>a</td>\n",
       "      <td>0.000000</td>\n",
       "      <td>1.000000</td>\n",
       "      <td>1.0</td>\n",
       "      <td>0.309611</td>\n",
       "      <td>90</td>\n",
       "      <td>-0.696029</td>\n",
       "      <td>0</td>\n",
       "      <td>S</td>\n",
       "    </tr>\n",
       "    <tr>\n",
       "      <th>1</th>\n",
       "      <td>1.0</td>\n",
       "      <td>1</td>\n",
       "      <td>1.0</td>\n",
       "      <td>s1</td>\n",
       "      <td>1.0</td>\n",
       "      <td>A</td>\n",
       "      <td>A</td>\n",
       "      <td>small</td>\n",
       "      <td>a</td>\n",
       "      <td>0.841471</td>\n",
       "      <td>0.540302</td>\n",
       "      <td>1.0</td>\n",
       "      <td>0.880563</td>\n",
       "      <td>82</td>\n",
       "      <td>-0.928327</td>\n",
       "      <td>0</td>\n",
       "      <td>S</td>\n",
       "    </tr>\n",
       "    <tr>\n",
       "      <th>2</th>\n",
       "      <td>NaN</td>\n",
       "      <td>4</td>\n",
       "      <td>8.0</td>\n",
       "      <td>s2</td>\n",
       "      <td>NaN</td>\n",
       "      <td>B</td>\n",
       "      <td>B</td>\n",
       "      <td>small</td>\n",
       "      <td>b</td>\n",
       "      <td>NaN</td>\n",
       "      <td>NaN</td>\n",
       "      <td>1.0</td>\n",
       "      <td>0.297804</td>\n",
       "      <td>84</td>\n",
       "      <td>-0.999659</td>\n",
       "      <td>3</td>\n",
       "      <td>Unkown</td>\n",
       "    </tr>\n",
       "    <tr>\n",
       "      <th>3</th>\n",
       "      <td>3.0</td>\n",
       "      <td>9</td>\n",
       "      <td>27.0</td>\n",
       "      <td>s3</td>\n",
       "      <td>0.0</td>\n",
       "      <td>B</td>\n",
       "      <td>B</td>\n",
       "      <td>small</td>\n",
       "      <td>b</td>\n",
       "      <td>0.141120</td>\n",
       "      <td>-0.989992</td>\n",
       "      <td>1.0</td>\n",
       "      <td>0.184967</td>\n",
       "      <td>83</td>\n",
       "      <td>-1.437021</td>\n",
       "      <td>1</td>\n",
       "      <td>M</td>\n",
       "    </tr>\n",
       "    <tr>\n",
       "      <th>4</th>\n",
       "      <td>4.0</td>\n",
       "      <td>16</td>\n",
       "      <td>64.0</td>\n",
       "      <td>s4</td>\n",
       "      <td>1.0</td>\n",
       "      <td>B</td>\n",
       "      <td>B</td>\n",
       "      <td>small</td>\n",
       "      <td>b</td>\n",
       "      <td>-0.756802</td>\n",
       "      <td>-0.653644</td>\n",
       "      <td>1.0</td>\n",
       "      <td>0.885765</td>\n",
       "      <td>82</td>\n",
       "      <td>1.117403</td>\n",
       "      <td>1</td>\n",
       "      <td>M</td>\n",
       "    </tr>\n",
       "    <tr>\n",
       "      <th>5</th>\n",
       "      <td>5.0</td>\n",
       "      <td>25</td>\n",
       "      <td>125.0</td>\n",
       "      <td>s5</td>\n",
       "      <td>2.0</td>\n",
       "      <td>B</td>\n",
       "      <td>B</td>\n",
       "      <td>large</td>\n",
       "      <td>b</td>\n",
       "      <td>-0.958924</td>\n",
       "      <td>0.283662</td>\n",
       "      <td>1.0</td>\n",
       "      <td>0.988277</td>\n",
       "      <td>92</td>\n",
       "      <td>-2.539247</td>\n",
       "      <td>1</td>\n",
       "      <td>M</td>\n",
       "    </tr>\n",
       "    <tr>\n",
       "      <th>6</th>\n",
       "      <td>6.0</td>\n",
       "      <td>36</td>\n",
       "      <td>216.0</td>\n",
       "      <td>s6</td>\n",
       "      <td>0.0</td>\n",
       "      <td>B</td>\n",
       "      <td>B</td>\n",
       "      <td>large</td>\n",
       "      <td>b</td>\n",
       "      <td>-0.279415</td>\n",
       "      <td>0.960170</td>\n",
       "      <td>1.0</td>\n",
       "      <td>0.201679</td>\n",
       "      <td>89</td>\n",
       "      <td>-0.364728</td>\n",
       "      <td>2</td>\n",
       "      <td>L</td>\n",
       "    </tr>\n",
       "    <tr>\n",
       "      <th>7</th>\n",
       "      <td>7.0</td>\n",
       "      <td>49</td>\n",
       "      <td>343.0</td>\n",
       "      <td>NaN</td>\n",
       "      <td>1.0</td>\n",
       "      <td>E</td>\n",
       "      <td>E</td>\n",
       "      <td>large</td>\n",
       "      <td>e</td>\n",
       "      <td>0.656987</td>\n",
       "      <td>0.753902</td>\n",
       "      <td>1.0</td>\n",
       "      <td>0.974027</td>\n",
       "      <td>90</td>\n",
       "      <td>1.656947</td>\n",
       "      <td>2</td>\n",
       "      <td>L</td>\n",
       "    </tr>\n",
       "    <tr>\n",
       "      <th>8</th>\n",
       "      <td>8.0</td>\n",
       "      <td>64</td>\n",
       "      <td>512.0</td>\n",
       "      <td>s8</td>\n",
       "      <td>2.0</td>\n",
       "      <td>E</td>\n",
       "      <td>E</td>\n",
       "      <td>large</td>\n",
       "      <td>e</td>\n",
       "      <td>0.989358</td>\n",
       "      <td>-0.145500</td>\n",
       "      <td>1.0</td>\n",
       "      <td>0.368770</td>\n",
       "      <td>91</td>\n",
       "      <td>1.006054</td>\n",
       "      <td>2</td>\n",
       "      <td>L</td>\n",
       "    </tr>\n",
       "    <tr>\n",
       "      <th>9</th>\n",
       "      <td>9.0</td>\n",
       "      <td>81</td>\n",
       "      <td>729.0</td>\n",
       "      <td>s9</td>\n",
       "      <td>0.0</td>\n",
       "      <td>NaN</td>\n",
       "      <td>F</td>\n",
       "      <td>large</td>\n",
       "      <td>NaN</td>\n",
       "      <td>0.412118</td>\n",
       "      <td>-0.911130</td>\n",
       "      <td>1.0</td>\n",
       "      <td>0.900475</td>\n",
       "      <td>91</td>\n",
       "      <td>-1.001750</td>\n",
       "      <td>2</td>\n",
       "      <td>L</td>\n",
       "    </tr>\n",
       "  </tbody>\n",
       "</table>\n",
       "</div>"
      ],
      "text/plain": [
       "   number  square   cube string  rem   s2 s3     s4    L       sin       cos  \\\n",
       "0     0.0       0    0.0     s0  0.0    A  A  small    a  0.000000  1.000000   \n",
       "1     1.0       1    1.0     s1  1.0    A  A  small    a  0.841471  0.540302   \n",
       "2     NaN       4    8.0     s2  NaN    B  B  small    b       NaN       NaN   \n",
       "3     3.0       9   27.0     s3  0.0    B  B  small    b  0.141120 -0.989992   \n",
       "4     4.0      16   64.0     s4  1.0    B  B  small    b -0.756802 -0.653644   \n",
       "5     5.0      25  125.0     s5  2.0    B  B  large    b -0.958924  0.283662   \n",
       "6     6.0      36  216.0     s6  0.0    B  B  large    b -0.279415  0.960170   \n",
       "7     7.0      49  343.0    NaN  1.0    E  E  large    e  0.656987  0.753902   \n",
       "8     8.0      64  512.0     s8  2.0    E  E  large    e  0.989358 -0.145500   \n",
       "9     9.0      81  729.0     s9  0.0  NaN  F  large  NaN  0.412118 -0.911130   \n",
       "\n",
       "   one       r01  ri    normal  bin teeshirt  \n",
       "0  1.0  0.309611  90 -0.696029    0        S  \n",
       "1  1.0  0.880563  82 -0.928327    0        S  \n",
       "2  1.0  0.297804  84 -0.999659    3   Unkown  \n",
       "3  1.0  0.184967  83 -1.437021    1        M  \n",
       "4  1.0  0.885765  82  1.117403    1        M  \n",
       "5  1.0  0.988277  92 -2.539247    1        M  \n",
       "6  1.0  0.201679  89 -0.364728    2        L  \n",
       "7  1.0  0.974027  90  1.656947    2        L  \n",
       "8  1.0  0.368770  91  1.006054    2        L  \n",
       "9  1.0  0.900475  91 -1.001750    2        L  "
      ]
     },
     "execution_count": 145,
     "metadata": {},
     "output_type": "execute_result"
    }
   ],
   "source": [
    "df2"
   ]
  },
  {
   "cell_type": "markdown",
   "metadata": {},
   "source": [
    "Worse, CSV is an inherently lossly format that cannot represent all possible values in a DataFrame."
   ]
  },
  {
   "cell_type": "code",
   "execution_count": 146,
   "metadata": {},
   "outputs": [
    {
     "data": {
      "text/html": [
       "<div>\n",
       "<style scoped>\n",
       "    .dataframe tbody tr th:only-of-type {\n",
       "        vertical-align: middle;\n",
       "    }\n",
       "\n",
       "    .dataframe tbody tr th {\n",
       "        vertical-align: top;\n",
       "    }\n",
       "\n",
       "    .dataframe thead th {\n",
       "        text-align: right;\n",
       "    }\n",
       "</style>\n",
       "<table border=\"1\" class=\"dataframe\">\n",
       "  <thead>\n",
       "    <tr style=\"text-align: right;\">\n",
       "      <th></th>\n",
       "      <th>number</th>\n",
       "      <th>square</th>\n",
       "      <th>cube</th>\n",
       "      <th>string</th>\n",
       "      <th>rem</th>\n",
       "      <th>s2</th>\n",
       "      <th>s3</th>\n",
       "      <th>s4</th>\n",
       "      <th>L</th>\n",
       "      <th>sin</th>\n",
       "      <th>cos</th>\n",
       "      <th>one</th>\n",
       "      <th>r01</th>\n",
       "      <th>ri</th>\n",
       "      <th>normal</th>\n",
       "      <th>bin</th>\n",
       "      <th>teeshirt</th>\n",
       "    </tr>\n",
       "  </thead>\n",
       "  <tbody>\n",
       "    <tr>\n",
       "      <th>0</th>\n",
       "      <td>True</td>\n",
       "      <td>True</td>\n",
       "      <td>True</td>\n",
       "      <td>True</td>\n",
       "      <td>True</td>\n",
       "      <td>True</td>\n",
       "      <td>True</td>\n",
       "      <td>True</td>\n",
       "      <td>True</td>\n",
       "      <td>True</td>\n",
       "      <td>True</td>\n",
       "      <td>True</td>\n",
       "      <td>True</td>\n",
       "      <td>True</td>\n",
       "      <td>True</td>\n",
       "      <td>True</td>\n",
       "      <td>True</td>\n",
       "    </tr>\n",
       "    <tr>\n",
       "      <th>1</th>\n",
       "      <td>True</td>\n",
       "      <td>True</td>\n",
       "      <td>True</td>\n",
       "      <td>True</td>\n",
       "      <td>True</td>\n",
       "      <td>True</td>\n",
       "      <td>True</td>\n",
       "      <td>True</td>\n",
       "      <td>True</td>\n",
       "      <td>True</td>\n",
       "      <td>True</td>\n",
       "      <td>True</td>\n",
       "      <td>True</td>\n",
       "      <td>True</td>\n",
       "      <td>True</td>\n",
       "      <td>True</td>\n",
       "      <td>True</td>\n",
       "    </tr>\n",
       "    <tr>\n",
       "      <th>2</th>\n",
       "      <td>False</td>\n",
       "      <td>True</td>\n",
       "      <td>True</td>\n",
       "      <td>True</td>\n",
       "      <td>False</td>\n",
       "      <td>True</td>\n",
       "      <td>True</td>\n",
       "      <td>True</td>\n",
       "      <td>True</td>\n",
       "      <td>False</td>\n",
       "      <td>False</td>\n",
       "      <td>True</td>\n",
       "      <td>True</td>\n",
       "      <td>True</td>\n",
       "      <td>True</td>\n",
       "      <td>True</td>\n",
       "      <td>True</td>\n",
       "    </tr>\n",
       "    <tr>\n",
       "      <th>3</th>\n",
       "      <td>True</td>\n",
       "      <td>True</td>\n",
       "      <td>True</td>\n",
       "      <td>True</td>\n",
       "      <td>True</td>\n",
       "      <td>True</td>\n",
       "      <td>True</td>\n",
       "      <td>True</td>\n",
       "      <td>True</td>\n",
       "      <td>True</td>\n",
       "      <td>True</td>\n",
       "      <td>False</td>\n",
       "      <td>True</td>\n",
       "      <td>True</td>\n",
       "      <td>True</td>\n",
       "      <td>True</td>\n",
       "      <td>True</td>\n",
       "    </tr>\n",
       "    <tr>\n",
       "      <th>4</th>\n",
       "      <td>True</td>\n",
       "      <td>True</td>\n",
       "      <td>True</td>\n",
       "      <td>True</td>\n",
       "      <td>True</td>\n",
       "      <td>True</td>\n",
       "      <td>True</td>\n",
       "      <td>True</td>\n",
       "      <td>True</td>\n",
       "      <td>True</td>\n",
       "      <td>True</td>\n",
       "      <td>True</td>\n",
       "      <td>True</td>\n",
       "      <td>True</td>\n",
       "      <td>True</td>\n",
       "      <td>True</td>\n",
       "      <td>True</td>\n",
       "    </tr>\n",
       "    <tr>\n",
       "      <th>5</th>\n",
       "      <td>True</td>\n",
       "      <td>True</td>\n",
       "      <td>True</td>\n",
       "      <td>True</td>\n",
       "      <td>True</td>\n",
       "      <td>True</td>\n",
       "      <td>True</td>\n",
       "      <td>True</td>\n",
       "      <td>True</td>\n",
       "      <td>True</td>\n",
       "      <td>True</td>\n",
       "      <td>True</td>\n",
       "      <td>True</td>\n",
       "      <td>True</td>\n",
       "      <td>False</td>\n",
       "      <td>True</td>\n",
       "      <td>True</td>\n",
       "    </tr>\n",
       "    <tr>\n",
       "      <th>6</th>\n",
       "      <td>True</td>\n",
       "      <td>True</td>\n",
       "      <td>True</td>\n",
       "      <td>True</td>\n",
       "      <td>True</td>\n",
       "      <td>True</td>\n",
       "      <td>True</td>\n",
       "      <td>True</td>\n",
       "      <td>True</td>\n",
       "      <td>True</td>\n",
       "      <td>False</td>\n",
       "      <td>True</td>\n",
       "      <td>True</td>\n",
       "      <td>True</td>\n",
       "      <td>True</td>\n",
       "      <td>True</td>\n",
       "      <td>True</td>\n",
       "    </tr>\n",
       "    <tr>\n",
       "      <th>7</th>\n",
       "      <td>True</td>\n",
       "      <td>True</td>\n",
       "      <td>True</td>\n",
       "      <td>False</td>\n",
       "      <td>True</td>\n",
       "      <td>True</td>\n",
       "      <td>True</td>\n",
       "      <td>True</td>\n",
       "      <td>True</td>\n",
       "      <td>True</td>\n",
       "      <td>True</td>\n",
       "      <td>False</td>\n",
       "      <td>True</td>\n",
       "      <td>True</td>\n",
       "      <td>True</td>\n",
       "      <td>True</td>\n",
       "      <td>True</td>\n",
       "    </tr>\n",
       "    <tr>\n",
       "      <th>8</th>\n",
       "      <td>True</td>\n",
       "      <td>True</td>\n",
       "      <td>True</td>\n",
       "      <td>True</td>\n",
       "      <td>True</td>\n",
       "      <td>True</td>\n",
       "      <td>True</td>\n",
       "      <td>True</td>\n",
       "      <td>True</td>\n",
       "      <td>True</td>\n",
       "      <td>True</td>\n",
       "      <td>True</td>\n",
       "      <td>True</td>\n",
       "      <td>True</td>\n",
       "      <td>True</td>\n",
       "      <td>True</td>\n",
       "      <td>True</td>\n",
       "    </tr>\n",
       "    <tr>\n",
       "      <th>9</th>\n",
       "      <td>True</td>\n",
       "      <td>True</td>\n",
       "      <td>True</td>\n",
       "      <td>True</td>\n",
       "      <td>True</td>\n",
       "      <td>False</td>\n",
       "      <td>True</td>\n",
       "      <td>True</td>\n",
       "      <td>False</td>\n",
       "      <td>True</td>\n",
       "      <td>False</td>\n",
       "      <td>False</td>\n",
       "      <td>True</td>\n",
       "      <td>True</td>\n",
       "      <td>False</td>\n",
       "      <td>True</td>\n",
       "      <td>True</td>\n",
       "    </tr>\n",
       "  </tbody>\n",
       "</table>\n",
       "</div>"
      ],
      "text/plain": [
       "   number  square  cube  string    rem     s2    s3    s4      L    sin  \\\n",
       "0    True    True  True    True   True   True  True  True   True   True   \n",
       "1    True    True  True    True   True   True  True  True   True   True   \n",
       "2   False    True  True    True  False   True  True  True   True  False   \n",
       "3    True    True  True    True   True   True  True  True   True   True   \n",
       "4    True    True  True    True   True   True  True  True   True   True   \n",
       "5    True    True  True    True   True   True  True  True   True   True   \n",
       "6    True    True  True    True   True   True  True  True   True   True   \n",
       "7    True    True  True   False   True   True  True  True   True   True   \n",
       "8    True    True  True    True   True   True  True  True   True   True   \n",
       "9    True    True  True    True   True  False  True  True  False   True   \n",
       "\n",
       "     cos    one   r01    ri  normal   bin  teeshirt  \n",
       "0   True   True  True  True    True  True      True  \n",
       "1   True   True  True  True    True  True      True  \n",
       "2  False   True  True  True    True  True      True  \n",
       "3   True  False  True  True    True  True      True  \n",
       "4   True   True  True  True    True  True      True  \n",
       "5   True   True  True  True   False  True      True  \n",
       "6  False   True  True  True    True  True      True  \n",
       "7   True  False  True  True    True  True      True  \n",
       "8   True   True  True  True    True  True      True  \n",
       "9  False  False  True  True   False  True      True  "
      ]
     },
     "execution_count": 146,
     "metadata": {},
     "output_type": "execute_result"
    }
   ],
   "source": [
    "df == df2"
   ]
  },
  {
   "cell_type": "markdown",
   "metadata": {},
   "source": [
    "Some of this is because ``np.NaN`` == ``np.NaN`` is ``False``:"
   ]
  },
  {
   "cell_type": "code",
   "execution_count": 147,
   "metadata": {},
   "outputs": [
    {
     "data": {
      "text/plain": [
       "False"
      ]
     },
     "execution_count": 147,
     "metadata": {},
     "output_type": "execute_result"
    }
   ],
   "source": [
    "np.NaN == np.NaN"
   ]
  },
  {
   "cell_type": "markdown",
   "metadata": {},
   "source": [
    "If we fix these, if we're lucky it will work, but it may not because of numerical rounding."
   ]
  },
  {
   "cell_type": "code",
   "execution_count": 148,
   "metadata": {},
   "outputs": [
    {
     "data": {
      "text/plain": [
       "True"
      ]
     },
     "execution_count": 148,
     "metadata": {},
     "output_type": "execute_result"
    }
   ],
   "source": [
    "all(df.fillna(0) == df2.fillna(0))"
   ]
  },
  {
   "cell_type": "markdown",
   "metadata": {},
   "source": [
    "While it's almost impossible to avoid using CSVs quite a lot in much Data Science, they should be avoided where possible."
   ]
  },
  {
   "cell_type": "markdown",
   "metadata": {},
   "source": [
    "### Pickling a DataFrame"
   ]
  },
  {
   "cell_type": "markdown",
   "metadata": {},
   "source": [
    "Pickling is a way to serialize almost any Python object to disk. Pickles are specific to Python, don't work across all platforms and Python versions and have security risks (loading a Pickle file can cause arbitrary code execution) but are a good option if you just want to save something to disk locally and read it back in the same version of Python in the not-too-distant future."
   ]
  },
  {
   "cell_type": "code",
   "execution_count": 149,
   "metadata": {},
   "outputs": [],
   "source": [
    "import pickle\n",
    "with open('df.pk', 'wb') as f:\n",
    "    pickle.dump(df, f)"
   ]
  },
  {
   "cell_type": "code",
   "execution_count": 150,
   "metadata": {},
   "outputs": [],
   "source": [
    "with open('df.pk', 'rb') as f:\n",
    "    df2 = pickle.load(f)\n",
    "    "
   ]
  },
  {
   "cell_type": "code",
   "execution_count": 151,
   "metadata": {},
   "outputs": [
    {
     "data": {
      "text/html": [
       "<div>\n",
       "<style scoped>\n",
       "    .dataframe tbody tr th:only-of-type {\n",
       "        vertical-align: middle;\n",
       "    }\n",
       "\n",
       "    .dataframe tbody tr th {\n",
       "        vertical-align: top;\n",
       "    }\n",
       "\n",
       "    .dataframe thead th {\n",
       "        text-align: right;\n",
       "    }\n",
       "</style>\n",
       "<table border=\"1\" class=\"dataframe\">\n",
       "  <thead>\n",
       "    <tr style=\"text-align: right;\">\n",
       "      <th></th>\n",
       "      <th>number</th>\n",
       "      <th>square</th>\n",
       "      <th>cube</th>\n",
       "      <th>string</th>\n",
       "      <th>rem</th>\n",
       "      <th>s2</th>\n",
       "      <th>s3</th>\n",
       "      <th>s4</th>\n",
       "      <th>L</th>\n",
       "      <th>sin</th>\n",
       "      <th>cos</th>\n",
       "      <th>one</th>\n",
       "      <th>r01</th>\n",
       "      <th>ri</th>\n",
       "      <th>normal</th>\n",
       "      <th>bin</th>\n",
       "      <th>teeshirt</th>\n",
       "    </tr>\n",
       "  </thead>\n",
       "  <tbody>\n",
       "    <tr>\n",
       "      <th>0</th>\n",
       "      <td>0.0</td>\n",
       "      <td>0</td>\n",
       "      <td>0.0</td>\n",
       "      <td>s0</td>\n",
       "      <td>0.0</td>\n",
       "      <td>A</td>\n",
       "      <td>A</td>\n",
       "      <td>small</td>\n",
       "      <td>a</td>\n",
       "      <td>0.000000</td>\n",
       "      <td>1.000000</td>\n",
       "      <td>1.0</td>\n",
       "      <td>0.309611</td>\n",
       "      <td>90</td>\n",
       "      <td>-0.696029</td>\n",
       "      <td>0</td>\n",
       "      <td>S</td>\n",
       "    </tr>\n",
       "    <tr>\n",
       "      <th>1</th>\n",
       "      <td>1.0</td>\n",
       "      <td>1</td>\n",
       "      <td>1.0</td>\n",
       "      <td>s1</td>\n",
       "      <td>1.0</td>\n",
       "      <td>A</td>\n",
       "      <td>A</td>\n",
       "      <td>small</td>\n",
       "      <td>a</td>\n",
       "      <td>0.841471</td>\n",
       "      <td>0.540302</td>\n",
       "      <td>1.0</td>\n",
       "      <td>0.880563</td>\n",
       "      <td>82</td>\n",
       "      <td>-0.928327</td>\n",
       "      <td>0</td>\n",
       "      <td>S</td>\n",
       "    </tr>\n",
       "    <tr>\n",
       "      <th>2</th>\n",
       "      <td>NaN</td>\n",
       "      <td>4</td>\n",
       "      <td>8.0</td>\n",
       "      <td>s2</td>\n",
       "      <td>NaN</td>\n",
       "      <td>B</td>\n",
       "      <td>B</td>\n",
       "      <td>small</td>\n",
       "      <td>b</td>\n",
       "      <td>NaN</td>\n",
       "      <td>NaN</td>\n",
       "      <td>1.0</td>\n",
       "      <td>0.297804</td>\n",
       "      <td>84</td>\n",
       "      <td>-0.999659</td>\n",
       "      <td>3</td>\n",
       "      <td>Unkown</td>\n",
       "    </tr>\n",
       "    <tr>\n",
       "      <th>3</th>\n",
       "      <td>3.0</td>\n",
       "      <td>9</td>\n",
       "      <td>27.0</td>\n",
       "      <td>s3</td>\n",
       "      <td>0.0</td>\n",
       "      <td>B</td>\n",
       "      <td>B</td>\n",
       "      <td>small</td>\n",
       "      <td>b</td>\n",
       "      <td>0.141120</td>\n",
       "      <td>-0.989992</td>\n",
       "      <td>1.0</td>\n",
       "      <td>0.184967</td>\n",
       "      <td>83</td>\n",
       "      <td>-1.437021</td>\n",
       "      <td>1</td>\n",
       "      <td>M</td>\n",
       "    </tr>\n",
       "    <tr>\n",
       "      <th>4</th>\n",
       "      <td>4.0</td>\n",
       "      <td>16</td>\n",
       "      <td>64.0</td>\n",
       "      <td>s4</td>\n",
       "      <td>1.0</td>\n",
       "      <td>B</td>\n",
       "      <td>B</td>\n",
       "      <td>small</td>\n",
       "      <td>b</td>\n",
       "      <td>-0.756802</td>\n",
       "      <td>-0.653644</td>\n",
       "      <td>1.0</td>\n",
       "      <td>0.885765</td>\n",
       "      <td>82</td>\n",
       "      <td>1.117403</td>\n",
       "      <td>1</td>\n",
       "      <td>M</td>\n",
       "    </tr>\n",
       "    <tr>\n",
       "      <th>5</th>\n",
       "      <td>5.0</td>\n",
       "      <td>25</td>\n",
       "      <td>125.0</td>\n",
       "      <td>s5</td>\n",
       "      <td>2.0</td>\n",
       "      <td>B</td>\n",
       "      <td>B</td>\n",
       "      <td>large</td>\n",
       "      <td>b</td>\n",
       "      <td>-0.958924</td>\n",
       "      <td>0.283662</td>\n",
       "      <td>1.0</td>\n",
       "      <td>0.988277</td>\n",
       "      <td>92</td>\n",
       "      <td>-2.539247</td>\n",
       "      <td>1</td>\n",
       "      <td>M</td>\n",
       "    </tr>\n",
       "    <tr>\n",
       "      <th>6</th>\n",
       "      <td>6.0</td>\n",
       "      <td>36</td>\n",
       "      <td>216.0</td>\n",
       "      <td>s6</td>\n",
       "      <td>0.0</td>\n",
       "      <td>B</td>\n",
       "      <td>B</td>\n",
       "      <td>large</td>\n",
       "      <td>b</td>\n",
       "      <td>-0.279415</td>\n",
       "      <td>0.960170</td>\n",
       "      <td>1.0</td>\n",
       "      <td>0.201679</td>\n",
       "      <td>89</td>\n",
       "      <td>-0.364728</td>\n",
       "      <td>2</td>\n",
       "      <td>L</td>\n",
       "    </tr>\n",
       "    <tr>\n",
       "      <th>7</th>\n",
       "      <td>7.0</td>\n",
       "      <td>49</td>\n",
       "      <td>343.0</td>\n",
       "      <td>NaN</td>\n",
       "      <td>1.0</td>\n",
       "      <td>E</td>\n",
       "      <td>E</td>\n",
       "      <td>large</td>\n",
       "      <td>e</td>\n",
       "      <td>0.656987</td>\n",
       "      <td>0.753902</td>\n",
       "      <td>1.0</td>\n",
       "      <td>0.974027</td>\n",
       "      <td>90</td>\n",
       "      <td>1.656947</td>\n",
       "      <td>2</td>\n",
       "      <td>L</td>\n",
       "    </tr>\n",
       "    <tr>\n",
       "      <th>8</th>\n",
       "      <td>8.0</td>\n",
       "      <td>64</td>\n",
       "      <td>512.0</td>\n",
       "      <td>s8</td>\n",
       "      <td>2.0</td>\n",
       "      <td>E</td>\n",
       "      <td>E</td>\n",
       "      <td>large</td>\n",
       "      <td>e</td>\n",
       "      <td>0.989358</td>\n",
       "      <td>-0.145500</td>\n",
       "      <td>1.0</td>\n",
       "      <td>0.368770</td>\n",
       "      <td>91</td>\n",
       "      <td>1.006054</td>\n",
       "      <td>2</td>\n",
       "      <td>L</td>\n",
       "    </tr>\n",
       "    <tr>\n",
       "      <th>9</th>\n",
       "      <td>9.0</td>\n",
       "      <td>81</td>\n",
       "      <td>729.0</td>\n",
       "      <td>s9</td>\n",
       "      <td>0.0</td>\n",
       "      <td>NaN</td>\n",
       "      <td>F</td>\n",
       "      <td>large</td>\n",
       "      <td>NaN</td>\n",
       "      <td>0.412118</td>\n",
       "      <td>-0.911130</td>\n",
       "      <td>1.0</td>\n",
       "      <td>0.900475</td>\n",
       "      <td>91</td>\n",
       "      <td>-1.001750</td>\n",
       "      <td>2</td>\n",
       "      <td>L</td>\n",
       "    </tr>\n",
       "  </tbody>\n",
       "</table>\n",
       "</div>"
      ],
      "text/plain": [
       "   number  square   cube string  rem   s2 s3     s4    L       sin       cos  \\\n",
       "0     0.0       0    0.0     s0  0.0    A  A  small    a  0.000000  1.000000   \n",
       "1     1.0       1    1.0     s1  1.0    A  A  small    a  0.841471  0.540302   \n",
       "2     NaN       4    8.0     s2  NaN    B  B  small    b       NaN       NaN   \n",
       "3     3.0       9   27.0     s3  0.0    B  B  small    b  0.141120 -0.989992   \n",
       "4     4.0      16   64.0     s4  1.0    B  B  small    b -0.756802 -0.653644   \n",
       "5     5.0      25  125.0     s5  2.0    B  B  large    b -0.958924  0.283662   \n",
       "6     6.0      36  216.0     s6  0.0    B  B  large    b -0.279415  0.960170   \n",
       "7     7.0      49  343.0    NaN  1.0    E  E  large    e  0.656987  0.753902   \n",
       "8     8.0      64  512.0     s8  2.0    E  E  large    e  0.989358 -0.145500   \n",
       "9     9.0      81  729.0     s9  0.0  NaN  F  large  NaN  0.412118 -0.911130   \n",
       "\n",
       "   one       r01  ri    normal  bin teeshirt  \n",
       "0  1.0  0.309611  90 -0.696029    0        S  \n",
       "1  1.0  0.880563  82 -0.928327    0        S  \n",
       "2  1.0  0.297804  84 -0.999659    3   Unkown  \n",
       "3  1.0  0.184967  83 -1.437021    1        M  \n",
       "4  1.0  0.885765  82  1.117403    1        M  \n",
       "5  1.0  0.988277  92 -2.539247    1        M  \n",
       "6  1.0  0.201679  89 -0.364728    2        L  \n",
       "7  1.0  0.974027  90  1.656947    2        L  \n",
       "8  1.0  0.368770  91  1.006054    2        L  \n",
       "9  1.0  0.900475  91 -1.001750    2        L  "
      ]
     },
     "execution_count": 151,
     "metadata": {},
     "output_type": "execute_result"
    }
   ],
   "source": [
    "df2"
   ]
  },
  {
   "cell_type": "code",
   "execution_count": 152,
   "metadata": {},
   "outputs": [
    {
     "data": {
      "text/plain": [
       "True"
      ]
     },
     "execution_count": 152,
     "metadata": {},
     "output_type": "execute_result"
    }
   ],
   "source": [
    "all(df.fillna(0) == df2.fillna(0))"
   ]
  },
  {
   "cell_type": "markdown",
   "metadata": {},
   "source": [
    "Saving with a pickle should work even if the DataFrame has a complex index, filters in place etc. (which isn't True of CSVs)."
   ]
  },
  {
   "cell_type": "markdown",
   "metadata": {},
   "source": [
    "### Feather Format"
   ]
  },
  {
   "cell_type": "markdown",
   "metadata": {},
   "source": [
    "Wes McKinney, the creator of Pandas, has teamed up with Hadley Wickham, a leading light in the R world, to create the ``feather`` file format, which provides a degree of interoperability between Pandas and R DataFrames. (Feather is built on top of the Apache Arrow project.)\n",
    "\n",
    "There is a package called ``feather-format`` available, which allows loading and saving of simple DataFrames with a degree of cross-platform and cross-language independence. However, dates, string columns with nulls and empty DataFrames are all fragile with feather. We have an extended feather to write additional metadata by writing extra metadata in a `.pmm` file, which adds signficantly more robustness.\n",
    "\n",
    "Install both with:\n",
    "  * ``pip install feather-format``\n",
    "  * ``pip install pmmif``\n",
    "  \n",
    "  "
   ]
  },
  {
   "cell_type": "code",
   "execution_count": 156,
   "metadata": {},
   "outputs": [],
   "source": [
    "from pmmif.featherpmm import Dataset, read_dataframe, write_dataframe\n",
    "write_dataframe(Dataset(df, name='df'), '/tmp/df.feather')\n"
   ]
  },
  {
   "cell_type": "code",
   "execution_count": 154,
   "metadata": {},
   "outputs": [],
   "source": [
    "df2 = read_dataframe('/tmp/df.feather').df"
   ]
  },
  {
   "cell_type": "code",
   "execution_count": 155,
   "metadata": {},
   "outputs": [
    {
     "data": {
      "text/plain": [
       "True"
      ]
     },
     "execution_count": 155,
     "metadata": {},
     "output_type": "execute_result"
    }
   ],
   "source": [
    "all(df.fillna(0) == df2.fillna(0))"
   ]
  }
 ],
 "metadata": {
  "kernelspec": {
   "display_name": "Python 3",
   "language": "python",
   "name": "python3"
  },
  "language_info": {
   "codemirror_mode": {
    "name": "ipython",
    "version": 3
   },
   "file_extension": ".py",
   "mimetype": "text/x-python",
   "name": "python",
   "nbconvert_exporter": "python",
   "pygments_lexer": "ipython3",
   "version": "3.6.5"
  }
 },
 "nbformat": 4,
 "nbformat_minor": 2
}
